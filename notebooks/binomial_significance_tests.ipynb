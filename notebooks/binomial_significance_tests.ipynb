{
 "cells": [
  {
   "cell_type": "code",
   "execution_count": 1,
   "metadata": {},
   "outputs": [],
   "source": [
    "import os\n",
    "from pathlib import Path\n",
    "\n",
    "if \"PROJECT_ROOT\" not in globals():\n",
    "    PROJECT_ROOT = Path.cwd().parent.resolve()\n",
    "\n",
    "os.chdir(PROJECT_ROOT)"
   ]
  },
  {
   "cell_type": "code",
   "execution_count": 2,
   "metadata": {},
   "outputs": [],
   "source": [
    "import pandas as pd\n",
    "from utils import ModelForAnalysis"
   ]
  },
  {
   "cell_type": "code",
   "execution_count": 3,
   "metadata": {},
   "outputs": [],
   "source": [
    "RESULTS_DIR = PROJECT_ROOT/\"analysis_results\"\n",
    "\n",
    "LARGELY_SAMPLED_EPITOPES = pd.read_csv(\"analysis_results/CDR3 Levenshtein/ovr_nn_200_shot.csv\").epitope.unique()\n",
    "\n",
    "NUM_SHOTS_OF_INTEREST = [1,2,5,10,20,50,100,200]"
   ]
  },
  {
   "cell_type": "code",
   "execution_count": 4,
   "metadata": {},
   "outputs": [],
   "source": [
    "models = (\n",
    "    ModelForAnalysis(\"SCEPTR\", \"ovr_nn\", \"#7048e8\", \"d\"),\n",
    "    ModelForAnalysis(\"SCEPTR (synthetic data)\", \"ovr_nn\", \"#7048e8\", \"d\"),\n",
    "    ModelForAnalysis(\"SCEPTR (shuffled data)\", \"ovr_nn\", \"#7048e8\", \"d\"),\n",
    ")\n",
    "\n",
    "raw_results = [model.load_data(200) for model in models]\n",
    "summary_per_model = [df.groupby(\"epitope\").aggregate({\"auc\": \"mean\"}) for df in raw_results]\n",
    "summary_per_model = [s[s.index.isin(LARGELY_SAMPLED_EPITOPES)] for s in summary_per_model]\n",
    "\n",
    "for model, df in zip(models, summary_per_model):\n",
    "    df.columns = [model.name]\n",
    "\n",
    "summary = pd.concat(summary_per_model, axis=\"columns\")"
   ]
  },
  {
   "cell_type": "code",
   "execution_count": null,
   "metadata": {},
   "outputs": [],
   "source": [
    "summary"
   ]
  },
  {
   "cell_type": "code",
   "execution_count": null,
   "metadata": {},
   "outputs": [],
   "source": []
  }
 ],
 "metadata": {
  "kernelspec": {
   "display_name": ".venv",
   "language": "python",
   "name": "python3"
  },
  "language_info": {
   "codemirror_mode": {
    "name": "ipython",
    "version": 3
   },
   "file_extension": ".py",
   "mimetype": "text/x-python",
   "name": "python",
   "nbconvert_exporter": "python",
   "pygments_lexer": "ipython3",
   "version": "3.11.10"
  }
 },
 "nbformat": 4,
 "nbformat_minor": 2
}
