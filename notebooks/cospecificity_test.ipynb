{
 "cells": [
  {
   "cell_type": "code",
   "execution_count": null,
   "metadata": {},
   "outputs": [],
   "source": [
    "import os\n",
    "from pathlib import Path\n",
    "\n",
    "if \"PROJECT_ROOT\" not in globals():\n",
    "    PROJECT_ROOT = Path.cwd().parent.resolve()\n",
    "\n",
    "os.chdir(PROJECT_ROOT)"
   ]
  },
  {
   "cell_type": "code",
   "execution_count": null,
   "metadata": {},
   "outputs": [],
   "source": [
    "from matplotlib import pyplot as plt\n",
    "import numpy as np\n",
    "from numpy import ndarray\n",
    "import pandas as pd\n",
    "from pyrepseq.metric import tcr_metric\n",
    "from sceptr import variant\n",
    "from scipy.spatial import distance\n",
    "from sklearn import metrics\n",
    "from typing import Tuple\n",
    "import utils\n",
    "\n",
    "plt.style.use(\"ggplot\")\n",
    "plt.style.use(\"my.mplstyle\")"
   ]
  },
  {
   "cell_type": "code",
   "execution_count": null,
   "metadata": {},
   "outputs": [],
   "source": [
    "labelled_data = pd.read_csv(\"tcr_data/preprocessed/benchmarking/vdjdb_cleaned.csv\")\n",
    "labelled_data = labelled_data.drop_duplicates(subset=[\"TRAV\",\"CDR3A\",\"TRBV\",\"CDR3B\"])\n",
    "ground_truth = distance.squareform(\n",
    "    labelled_data.Epitope.to_numpy()[:,np.newaxis] == labelled_data.Epitope.to_numpy()[np.newaxis,:],\n",
    "    checks=False\n",
    ")"
   ]
  },
  {
   "cell_type": "code",
   "execution_count": null,
   "metadata": {},
   "outputs": [],
   "source": [
    "def calc_precision_recall(model) -> Tuple[ndarray, ndarray]:\n",
    "    pdist = model.calc_pdist_vector(labelled_data)\n",
    "    scores = utils.convert_dists_to_scores(pdist)\n",
    "    precisions, recalls, _ = metrics.precision_recall_curve(ground_truth, scores, drop_intermediate=True)\n",
    "    return recalls, precisions\n",
    "\n",
    "def calc_roc(model) -> Tuple[ndarray, ndarray]:\n",
    "    pdist = model.calc_pdist_vector(labelled_data)\n",
    "    scores = utils.convert_dists_to_scores(pdist)\n",
    "    fpr, tpr, _ = metrics.roc_curve(ground_truth, scores, drop_intermediate=True)\n",
    "    return fpr, tpr"
   ]
  },
  {
   "cell_type": "code",
   "execution_count": null,
   "metadata": {},
   "outputs": [],
   "source": [
    "sceptr_curve = calc_precision_recall(variant.default())\n",
    "tcrdist_curve = calc_precision_recall(tcr_metric.Tcrdist())\n",
    "\n",
    "# sceptr_curve = calc_roc(variant.default())\n",
    "# tcrdist_curve = calc_roc(tcr_metric.Tcrdist())"
   ]
  },
  {
   "cell_type": "code",
   "execution_count": null,
   "metadata": {},
   "outputs": [],
   "source": [
    "plt.figure()\n",
    "plt.step(*sceptr_curve, where=\"post\")\n",
    "plt.step(*tcrdist_curve, where=\"post\")\n",
    "plt.xscale(\"log\")\n",
    "plt.show()"
   ]
  },
  {
   "cell_type": "code",
   "execution_count": null,
   "metadata": {},
   "outputs": [],
   "source": []
  }
 ],
 "metadata": {
  "kernelspec": {
   "display_name": ".venv",
   "language": "python",
   "name": "python3"
  },
  "language_info": {
   "codemirror_mode": {
    "name": "ipython",
    "version": 3
   },
   "file_extension": ".py",
   "mimetype": "text/x-python",
   "name": "python",
   "nbconvert_exporter": "python",
   "pygments_lexer": "ipython3",
   "version": "3.11.0"
  }
 },
 "nbformat": 4,
 "nbformat_minor": 2
}
