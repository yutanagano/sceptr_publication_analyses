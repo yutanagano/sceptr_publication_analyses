{
 "cells": [
  {
   "cell_type": "code",
   "execution_count": 39,
   "metadata": {},
   "outputs": [],
   "source": [
    "from matplotlib import pyplot as plt\n",
    "import numpy as np\n",
    "import pandas as pd\n",
    "from pandas import DataFrame\n",
    "from pathlib import Path\n",
    "from tqdm import tqdm\n",
    "\n",
    "plt.style.use(\"ggplot\")\n",
    "plt.style.use(\"../my.mplstyle\")"
   ]
  },
  {
   "cell_type": "code",
   "execution_count": 2,
   "metadata": {},
   "outputs": [],
   "source": [
    "tcr_data_path = Path(\"../tcr_data/\")"
   ]
  },
  {
   "cell_type": "code",
   "execution_count": 3,
   "metadata": {},
   "outputs": [],
   "source": [
    "vdjdb = pd.read_csv(\n",
    "    tcr_data_path/\"raw\"/\"vdjdb\"/\"vdjdb_20240128.tsv\",\n",
    "    sep=\"\\t\"\n",
    ")"
   ]
  },
  {
   "cell_type": "code",
   "execution_count": null,
   "metadata": {},
   "outputs": [],
   "source": [
    "vdjdb"
   ]
  },
  {
   "cell_type": "code",
   "execution_count": 9,
   "metadata": {},
   "outputs": [],
   "source": [
    "alphas = vdjdb[(vdjdb[\"complex.id\"] == 0) & (vdjdb[\"Gene\"] == \"TRA\")][[\"V\", \"J\", \"CDR3\", \"Epitope\"]].drop_duplicates()\n",
    "betas = vdjdb[(vdjdb[\"complex.id\"] == 0) & (vdjdb[\"Gene\"] == \"TRB\")][[\"V\", \"J\", \"CDR3\", \"Epitope\"]].drop_duplicates()"
   ]
  },
  {
   "cell_type": "code",
   "execution_count": null,
   "metadata": {},
   "outputs": [],
   "source": [
    "def group_paired_chains(df: DataFrame) -> DataFrame:\n",
    "    df = df[df[\"complex.id\"] != 0]\n",
    "\n",
    "    reformatted_rows = []\n",
    "\n",
    "    sc_complex_ids = df[\"complex.id\"].unique()\n",
    "    for complex_id in tqdm(sc_complex_ids):\n",
    "        tcr_info = df[df[\"complex.id\"] == complex_id]\n",
    "\n",
    "        if tcr_info.shape[0] != 2:\n",
    "            print(tcr_info)\n",
    "            raise RuntimeError\n",
    "\n",
    "        tra_info = tcr_info[tcr_info[\"Gene\"] == \"TRA\"].iloc[0]\n",
    "        trb_info = tcr_info[tcr_info[\"Gene\"] == \"TRB\"].iloc[0]\n",
    "\n",
    "        reformatted_rows.append(\n",
    "            {\n",
    "                \"TRAV\": tra_info[\"V\"],\n",
    "                \"CDR3A\": tra_info[\"CDR3\"],\n",
    "                \"TRAJ\": tra_info[\"J\"],\n",
    "                \"TRBV\": trb_info[\"V\"],\n",
    "                \"CDR3B\": trb_info[\"CDR3\"],\n",
    "                \"TRBJ\": trb_info[\"J\"],\n",
    "                \"Epitope\": tra_info[\"Epitope\"],\n",
    "            }\n",
    "        )\n",
    "\n",
    "    reformatted_df = DataFrame.from_records(reformatted_rows)\n",
    "    reformatted_df = reformatted_df.drop_duplicates()\n",
    "    return reformatted_df\n",
    "\n",
    "alpha_betas = group_paired_chains(vdjdb)"
   ]
  },
  {
   "cell_type": "code",
   "execution_count": null,
   "metadata": {},
   "outputs": [],
   "source": [
    "plt.figure(figsize=(8/2.54,6/2.54))\n",
    "plt.yscale(\"log\")\n",
    "\n",
    "tcr_nums_alpha = alphas.groupby(\"Epitope\").size().sort_values(ascending=False)\n",
    "tcr_nums_beta = betas.groupby(\"Epitope\").size().sort_values(ascending=False)\n",
    "tcr_nums_alphabeta = alpha_betas.groupby(\"Epitope\").size().sort_values(ascending=False)\n",
    "\n",
    "plt.plot(range(len(tcr_nums_alphabeta)), tcr_nums_alphabeta, label=r\"$\\alpha\\beta$\")\n",
    "plt.plot(range(len(tcr_nums_alpha)), tcr_nums_alpha, label=r\"$\\alpha$\")\n",
    "plt.plot(range(len(tcr_nums_beta)), tcr_nums_beta, label=r\"$\\beta$\")\n",
    "\n",
    "plt.xlabel(\"Ranked pMHCs\")\n",
    "plt.ylabel(\"Number of TCR binders\")\n",
    "plt.title(\"TCR binders by pMHC\")\n",
    "\n",
    "plt.legend()\n",
    "plt.tight_layout()\n",
    "\n",
    "plt.savefig(\"tcr_pmhc_data_distribution.svg\", bbox_inches=\"tight\")"
   ]
  },
  {
   "cell_type": "code",
   "execution_count": null,
   "metadata": {},
   "outputs": [],
   "source": []
  }
 ],
 "metadata": {
  "kernelspec": {
   "display_name": ".venv",
   "language": "python",
   "name": "python3"
  },
  "language_info": {
   "codemirror_mode": {
    "name": "ipython",
    "version": 3
   },
   "file_extension": ".py",
   "mimetype": "text/x-python",
   "name": "python",
   "nbconvert_exporter": "python",
   "pygments_lexer": "ipython3",
   "version": "3.11.9"
  }
 },
 "nbformat": 4,
 "nbformat_minor": 2
}
