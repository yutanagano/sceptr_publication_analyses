{
 "cells": [
  {
   "cell_type": "markdown",
   "metadata": {},
   "source": [
    "# Pulling Labelled Data For SCEPTR Evaluation & Finetuning"
   ]
  },
  {
   "cell_type": "markdown",
   "metadata": {},
   "source": [
    "## Inclusion criteria\n",
    "- Paired chain data\n",
    "- At least 101 TCRs\n",
    "\n",
    "## Exclusion criteria\n",
    "- 10xGenomics whitepaper\n",
    "- Non-human"
   ]
  },
  {
   "cell_type": "markdown",
   "metadata": {},
   "source": [
    "All data will be cleaned with tidytcells and only standardizable and functional TCR data will be passed on."
   ]
  },
  {
   "cell_type": "code",
   "execution_count": 1,
   "metadata": {},
   "outputs": [],
   "source": [
    "import pandas as pd\n",
    "from pandas import DataFrame\n",
    "from pathlib import Path\n",
    "import tidytcells as tt\n",
    "from tqdm import tqdm"
   ]
  },
  {
   "cell_type": "code",
   "execution_count": 2,
   "metadata": {},
   "outputs": [],
   "source": [
    "tcr_data_path = Path(\"../tcr_data/\")"
   ]
  },
  {
   "cell_type": "code",
   "execution_count": 3,
   "metadata": {},
   "outputs": [],
   "source": [
    "vdjdb = pd.read_csv(\n",
    "    tcr_data_path/\"raw\"/\"vdjdb\"/\"vdjdb_20240128.tsv\",\n",
    "    sep=\"\\t\"\n",
    ")"
   ]
  },
  {
   "cell_type": "code",
   "execution_count": 4,
   "metadata": {},
   "outputs": [
    {
     "data": {
      "text/html": [
       "<div>\n",
       "<style scoped>\n",
       "    .dataframe tbody tr th:only-of-type {\n",
       "        vertical-align: middle;\n",
       "    }\n",
       "\n",
       "    .dataframe tbody tr th {\n",
       "        vertical-align: top;\n",
       "    }\n",
       "\n",
       "    .dataframe thead th {\n",
       "        text-align: right;\n",
       "    }\n",
       "</style>\n",
       "<table border=\"1\" class=\"dataframe\">\n",
       "  <thead>\n",
       "    <tr style=\"text-align: right;\">\n",
       "      <th></th>\n",
       "      <th>complex.id</th>\n",
       "      <th>Gene</th>\n",
       "      <th>CDR3</th>\n",
       "      <th>V</th>\n",
       "      <th>J</th>\n",
       "      <th>Species</th>\n",
       "      <th>MHC A</th>\n",
       "      <th>MHC B</th>\n",
       "      <th>MHC class</th>\n",
       "      <th>Epitope</th>\n",
       "      <th>Epitope gene</th>\n",
       "      <th>Epitope species</th>\n",
       "      <th>Reference</th>\n",
       "      <th>Method</th>\n",
       "      <th>Meta</th>\n",
       "      <th>CDR3fix</th>\n",
       "      <th>Score</th>\n",
       "    </tr>\n",
       "  </thead>\n",
       "  <tbody>\n",
       "    <tr>\n",
       "      <th>0</th>\n",
       "      <td>1</td>\n",
       "      <td>TRA</td>\n",
       "      <td>CIVRAPGRADMRF</td>\n",
       "      <td>TRAV26-1*01</td>\n",
       "      <td>TRAJ43*01</td>\n",
       "      <td>HomoSapiens</td>\n",
       "      <td>HLA-B*08</td>\n",
       "      <td>B2M</td>\n",
       "      <td>MHCI</td>\n",
       "      <td>FLKEKGGL</td>\n",
       "      <td>Nef</td>\n",
       "      <td>HIV-1</td>\n",
       "      <td>PMID:15596521</td>\n",
       "      <td>{\"frequency\": \"\", \"identification\": \"tetramer-...</td>\n",
       "      <td>{\"cell.subset\": \"CD8+\", \"clone.id\": \"\", \"donor...</td>\n",
       "      <td>{\"cdr3\": \"CIVRAPGRADMRF\", \"cdr3_old\": \"CIVRAPG...</td>\n",
       "      <td>2</td>\n",
       "    </tr>\n",
       "    <tr>\n",
       "      <th>1</th>\n",
       "      <td>1</td>\n",
       "      <td>TRB</td>\n",
       "      <td>CASSYLPGQGDHYSNQPQHF</td>\n",
       "      <td>TRBV13*01</td>\n",
       "      <td>TRBJ1-5*01</td>\n",
       "      <td>HomoSapiens</td>\n",
       "      <td>HLA-B*08</td>\n",
       "      <td>B2M</td>\n",
       "      <td>MHCI</td>\n",
       "      <td>FLKEKGGL</td>\n",
       "      <td>Nef</td>\n",
       "      <td>HIV-1</td>\n",
       "      <td>PMID:15596521</td>\n",
       "      <td>{\"frequency\": \"\", \"identification\": \"tetramer-...</td>\n",
       "      <td>{\"cell.subset\": \"CD8+\", \"clone.id\": \"\", \"donor...</td>\n",
       "      <td>{\"cdr3\": \"CASSYLPGQGDHYSNQPQHF\", \"cdr3_old\": \"...</td>\n",
       "      <td>2</td>\n",
       "    </tr>\n",
       "    <tr>\n",
       "      <th>2</th>\n",
       "      <td>0</td>\n",
       "      <td>TRB</td>\n",
       "      <td>CASSFEAGQGFFSNQPQHF</td>\n",
       "      <td>TRBV13*01</td>\n",
       "      <td>TRBJ1-5*01</td>\n",
       "      <td>HomoSapiens</td>\n",
       "      <td>HLA-B*08</td>\n",
       "      <td>B2M</td>\n",
       "      <td>MHCI</td>\n",
       "      <td>FLKEKGGL</td>\n",
       "      <td>Nef</td>\n",
       "      <td>HIV-1</td>\n",
       "      <td>PMID:15596521</td>\n",
       "      <td>{\"frequency\": \"\", \"identification\": \"tetramer-...</td>\n",
       "      <td>{\"cell.subset\": \"CD8+\", \"clone.id\": \"\", \"donor...</td>\n",
       "      <td>{\"cdr3\": \"CASSFEAGQGFFSNQPQHF\", \"cdr3_old\": \"C...</td>\n",
       "      <td>2</td>\n",
       "    </tr>\n",
       "    <tr>\n",
       "      <th>3</th>\n",
       "      <td>2</td>\n",
       "      <td>TRA</td>\n",
       "      <td>CAVPSGAGSYQLTF</td>\n",
       "      <td>TRAV20*01</td>\n",
       "      <td>TRAJ28*01</td>\n",
       "      <td>HomoSapiens</td>\n",
       "      <td>HLA-B*08</td>\n",
       "      <td>B2M</td>\n",
       "      <td>MHCI</td>\n",
       "      <td>FLKEKGGL</td>\n",
       "      <td>Nef</td>\n",
       "      <td>HIV-1</td>\n",
       "      <td>PMID:15596521</td>\n",
       "      <td>{\"frequency\": \"\", \"identification\": \"tetramer-...</td>\n",
       "      <td>{\"cell.subset\": \"CD8+\", \"clone.id\": \"\", \"donor...</td>\n",
       "      <td>{\"cdr3\": \"CAVPSGAGSYQLTF\", \"cdr3_old\": \"CAVPSG...</td>\n",
       "      <td>2</td>\n",
       "    </tr>\n",
       "    <tr>\n",
       "      <th>4</th>\n",
       "      <td>2</td>\n",
       "      <td>TRB</td>\n",
       "      <td>CASSFEPGQGFYSNQPQHF</td>\n",
       "      <td>TRBV13*01</td>\n",
       "      <td>TRBJ1-5*01</td>\n",
       "      <td>HomoSapiens</td>\n",
       "      <td>HLA-B*08</td>\n",
       "      <td>B2M</td>\n",
       "      <td>MHCI</td>\n",
       "      <td>FLKEKGGL</td>\n",
       "      <td>Nef</td>\n",
       "      <td>HIV-1</td>\n",
       "      <td>PMID:15596521</td>\n",
       "      <td>{\"frequency\": \"\", \"identification\": \"tetramer-...</td>\n",
       "      <td>{\"cell.subset\": \"CD8+\", \"clone.id\": \"\", \"donor...</td>\n",
       "      <td>{\"cdr3\": \"CASSFEPGQGFYSNQPQHF\", \"cdr3_old\": \"C...</td>\n",
       "      <td>2</td>\n",
       "    </tr>\n",
       "  </tbody>\n",
       "</table>\n",
       "</div>"
      ],
      "text/plain": [
       "   complex.id Gene                  CDR3            V           J  \\\n",
       "0           1  TRA         CIVRAPGRADMRF  TRAV26-1*01   TRAJ43*01   \n",
       "1           1  TRB  CASSYLPGQGDHYSNQPQHF    TRBV13*01  TRBJ1-5*01   \n",
       "2           0  TRB   CASSFEAGQGFFSNQPQHF    TRBV13*01  TRBJ1-5*01   \n",
       "3           2  TRA        CAVPSGAGSYQLTF    TRAV20*01   TRAJ28*01   \n",
       "4           2  TRB   CASSFEPGQGFYSNQPQHF    TRBV13*01  TRBJ1-5*01   \n",
       "\n",
       "       Species     MHC A MHC B MHC class   Epitope Epitope gene  \\\n",
       "0  HomoSapiens  HLA-B*08   B2M      MHCI  FLKEKGGL          Nef   \n",
       "1  HomoSapiens  HLA-B*08   B2M      MHCI  FLKEKGGL          Nef   \n",
       "2  HomoSapiens  HLA-B*08   B2M      MHCI  FLKEKGGL          Nef   \n",
       "3  HomoSapiens  HLA-B*08   B2M      MHCI  FLKEKGGL          Nef   \n",
       "4  HomoSapiens  HLA-B*08   B2M      MHCI  FLKEKGGL          Nef   \n",
       "\n",
       "  Epitope species      Reference  \\\n",
       "0           HIV-1  PMID:15596521   \n",
       "1           HIV-1  PMID:15596521   \n",
       "2           HIV-1  PMID:15596521   \n",
       "3           HIV-1  PMID:15596521   \n",
       "4           HIV-1  PMID:15596521   \n",
       "\n",
       "                                              Method  \\\n",
       "0  {\"frequency\": \"\", \"identification\": \"tetramer-...   \n",
       "1  {\"frequency\": \"\", \"identification\": \"tetramer-...   \n",
       "2  {\"frequency\": \"\", \"identification\": \"tetramer-...   \n",
       "3  {\"frequency\": \"\", \"identification\": \"tetramer-...   \n",
       "4  {\"frequency\": \"\", \"identification\": \"tetramer-...   \n",
       "\n",
       "                                                Meta  \\\n",
       "0  {\"cell.subset\": \"CD8+\", \"clone.id\": \"\", \"donor...   \n",
       "1  {\"cell.subset\": \"CD8+\", \"clone.id\": \"\", \"donor...   \n",
       "2  {\"cell.subset\": \"CD8+\", \"clone.id\": \"\", \"donor...   \n",
       "3  {\"cell.subset\": \"CD8+\", \"clone.id\": \"\", \"donor...   \n",
       "4  {\"cell.subset\": \"CD8+\", \"clone.id\": \"\", \"donor...   \n",
       "\n",
       "                                             CDR3fix  Score  \n",
       "0  {\"cdr3\": \"CIVRAPGRADMRF\", \"cdr3_old\": \"CIVRAPG...      2  \n",
       "1  {\"cdr3\": \"CASSYLPGQGDHYSNQPQHF\", \"cdr3_old\": \"...      2  \n",
       "2  {\"cdr3\": \"CASSFEAGQGFFSNQPQHF\", \"cdr3_old\": \"C...      2  \n",
       "3  {\"cdr3\": \"CAVPSGAGSYQLTF\", \"cdr3_old\": \"CAVPSG...      2  \n",
       "4  {\"cdr3\": \"CASSFEPGQGFYSNQPQHF\", \"cdr3_old\": \"C...      2  "
      ]
     },
     "execution_count": 4,
     "metadata": {},
     "output_type": "execute_result"
    }
   ],
   "source": [
    "vdjdb.head()"
   ]
  },
  {
   "cell_type": "code",
   "execution_count": 5,
   "metadata": {},
   "outputs": [],
   "source": [
    "references = vdjdb[\"Reference\"].dropna()\n",
    "references_for_10x = references[references.str.contains(\"10x\")]"
   ]
  },
  {
   "cell_type": "code",
   "execution_count": 6,
   "metadata": {},
   "outputs": [
    {
     "data": {
      "text/plain": [
       "array(['https://www.10xgenomics.com/resources/application-notes/a-new-way-of-exploring-immunity-linking-highly-multiplexed-antigen-recognition-to-immune-repertoire-and-phenotype/#'],\n",
       "      dtype=object)"
      ]
     },
     "execution_count": 6,
     "metadata": {},
     "output_type": "execute_result"
    }
   ],
   "source": [
    "references_for_10x.unique()"
   ]
  },
  {
   "cell_type": "code",
   "execution_count": 7,
   "metadata": {},
   "outputs": [],
   "source": [
    "def preprocess(df: DataFrame) -> DataFrame:\n",
    "    df = enforce_exclusion_criteria(df)\n",
    "\n",
    "    df = group_paired_chains(df)\n",
    "    df = drop_rows_with_missing_data(df)\n",
    "    df = standardize_nomenclature(df)\n",
    "    \n",
    "    df = enforce_inclusion_criteria(df)\n",
    "    return df\n",
    "\n",
    "def enforce_exclusion_criteria(df: DataFrame) -> DataFrame:\n",
    "    df = remove_non_human_data(df)\n",
    "    df = remove_10x_data(df)\n",
    "    df = remove_single_chain_data(df)\n",
    "    return df.copy()\n",
    "\n",
    "def remove_non_human_data(df: DataFrame) -> DataFrame:\n",
    "    return df[df[\"Species\"] == \"HomoSapiens\"].copy()\n",
    "\n",
    "def remove_10x_data(df: DataFrame) -> DataFrame:\n",
    "    return df[df[\"Reference\"] != \"https://www.10xgenomics.com/resources/application-notes/a-new-way-of-exploring-immunity-linking-highly-multiplexed-antigen-recognition-to-immune-repertoire-and-phenotype/#\"].copy()\n",
    "\n",
    "def remove_single_chain_data(df: DataFrame) -> DataFrame:\n",
    "    return df[df[\"complex.id\"] != 0].copy()\n",
    "\n",
    "def group_paired_chains(df: DataFrame) -> DataFrame:\n",
    "    reformatted_rows = []\n",
    "\n",
    "    sc_complex_ids = df[\"complex.id\"].unique()\n",
    "    for complex_id in tqdm(sc_complex_ids):\n",
    "        tcr_info = df[df[\"complex.id\"] == complex_id]\n",
    "\n",
    "        if tcr_info.shape[0] != 2:\n",
    "            print(tcr_info)\n",
    "            raise RuntimeError\n",
    "\n",
    "        tra_info = tcr_info[tcr_info[\"Gene\"] == \"TRA\"].iloc[0]\n",
    "        trb_info = tcr_info[tcr_info[\"Gene\"] == \"TRB\"].iloc[0]\n",
    "\n",
    "        reformatted_rows.append(\n",
    "            {\n",
    "                \"TRAV\": tra_info[\"V\"],\n",
    "                \"CDR3A\": tra_info[\"CDR3\"],\n",
    "                \"TRAJ\": tra_info[\"J\"],\n",
    "                \"TRBV\": trb_info[\"V\"],\n",
    "                \"CDR3B\": trb_info[\"CDR3\"],\n",
    "                \"TRBJ\": trb_info[\"J\"],\n",
    "                \"Epitope\": tra_info[\"Epitope\"],\n",
    "                \"MHCA\": tra_info[\"MHC A\"],\n",
    "                \"MHCB\": tra_info[\"MHC B\"],\n",
    "                \"Epitope_species\": tra_info[\"Epitope species\"],\n",
    "                \"Reference\": tra_info[\"Reference\"]\n",
    "            }\n",
    "        )\n",
    "\n",
    "    reformatted_df = DataFrame.from_records(reformatted_rows)\n",
    "    reformatted_df = reformatted_df.drop_duplicates()\n",
    "    return reformatted_df\n",
    "\n",
    "def drop_rows_with_missing_data(df: DataFrame) -> DataFrame:\n",
    "    return df.dropna(subset=[\"TRAV\", \"CDR3A\", \"TRAJ\", \"TRBV\", \"CDR3B\", \"TRBJ\", \"Epitope\"])\n",
    "\n",
    "def standardize_nomenclature(df: DataFrame) -> DataFrame:\n",
    "    df[\"TRAV\"] = df[\"TRAV\"].map(lambda x: tt.tr.standardize(x, enforce_functional=True))\n",
    "    df[\"TRAJ\"] = df[\"TRAJ\"].map(lambda x: tt.tr.standardize(x, enforce_functional=True))\n",
    "    df[\"TRBV\"] = df[\"TRBV\"].map(lambda x: tt.tr.standardize(x, enforce_functional=True))\n",
    "    df[\"TRBJ\"] = df[\"TRBJ\"].map(lambda x: tt.tr.standardize(x, enforce_functional=True))\n",
    "\n",
    "    df[\"CDR3A\"] = df[\"CDR3A\"].map(tt.junction.standardize)\n",
    "    df[\"CDR3B\"] = df[\"CDR3B\"].map(tt.junction.standardize)\n",
    "\n",
    "    df[\"MHCA\"] = df[\"MHCA\"].map(tt.mh.standardize)\n",
    "    df[\"MHCB\"] = df[\"MHCB\"].map(tt.mh.standardize)\n",
    "\n",
    "    return df.copy()\n",
    "\n",
    "def enforce_inclusion_criteria(df: DataFrame) -> DataFrame:\n",
    "    df = remove_epitopes_with_less_than_k_tcrs(df, k=101)\n",
    "    df = remove_epitopes_only_annotated_by_one_study(df)\n",
    "    return df.copy()\n",
    "\n",
    "def remove_epitopes_with_less_than_k_tcrs(df: DataFrame, k: int) -> DataFrame:\n",
    "    grouped_by_epitope = df.groupby(by=\"Epitope\")\n",
    "    num_tcrs_per_epitope = grouped_by_epitope.size()\n",
    "    epitopes_with_enough_tcrs = num_tcrs_per_epitope[num_tcrs_per_epitope >= k].index\n",
    "    return df[\n",
    "        df.apply(\n",
    "            lambda row: row[\"Epitope\"] in epitopes_with_enough_tcrs,\n",
    "            axis=1\n",
    "        )\n",
    "    ].copy()\n",
    "\n",
    "def remove_epitopes_only_annotated_by_one_study(df: DataFrame) -> DataFrame:\n",
    "    grouped_by_epitopes = df.groupby(\"Epitope\")\n",
    "    num_references_per_epitope = grouped_by_epitopes.aggregate({\"Reference\": \"nunique\"})\n",
    "    epitopes_with_multiple_references = num_references_per_epitope[num_references_per_epitope[\"Reference\"] > 1].index\n",
    "    return df[df[\"Epitope\"].isin(epitopes_with_multiple_references)].copy()"
   ]
  },
  {
   "cell_type": "code",
   "execution_count": 8,
   "metadata": {},
   "outputs": [
    {
     "name": "stderr",
     "output_type": "stream",
     "text": [
      "  0%|          | 0/7986 [00:00<?, ?it/s]"
     ]
    },
    {
     "name": "stderr",
     "output_type": "stream",
     "text": [
      "100%|██████████| 7986/7986 [00:05<00:00, 1519.01it/s]\n",
      "/home/yutanagano/Projects/sceptr_publication_analyses/.venv/lib64/python3.11/site-packages/tidytcells/_utils/warnings.py:12: UserWarning: Failed to standardize \"HLA-A*08:01\" for species homosapiens: nonexistent allele for recognised gene.\n",
      "  warn(warning_message)\n",
      "/home/yutanagano/Projects/sceptr_publication_analyses/.venv/lib64/python3.11/site-packages/tidytcells/_utils/warnings.py:12: UserWarning: Failed to standardize \"HLA-A*24:01\" for species homosapiens: nonexistent allele for recognised gene.\n",
      "  warn(warning_message)\n",
      "/home/yutanagano/Projects/sceptr_publication_analyses/.venv/lib64/python3.11/site-packages/tidytcells/_utils/warnings.py:12: UserWarning: Failed to standardize \"HLA-DPA*01:03\" for species homosapiens: unrecognised gene name.\n",
      "  warn(warning_message)\n",
      "/home/yutanagano/Projects/sceptr_publication_analyses/.venv/lib64/python3.11/site-packages/tidytcells/_utils/warnings.py:12: UserWarning: Failed to standardize \"HLA-B*12\" for species homosapiens: nonexistent allele for recognised gene.\n",
      "  warn(warning_message)\n",
      "/home/yutanagano/Projects/sceptr_publication_analyses/.venv/lib64/python3.11/site-packages/tidytcells/_utils/warnings.py:12: UserWarning: Failed to standardize \"HLA-DPB*04:01\" for species homosapiens: unrecognised gene name.\n",
      "  warn(warning_message)\n"
     ]
    }
   ],
   "source": [
    "vdjdb_cleaned = preprocess(vdjdb)"
   ]
  },
  {
   "cell_type": "code",
   "execution_count": 9,
   "metadata": {},
   "outputs": [
    {
     "data": {
      "text/plain": [
       "<Axes: xlabel='Epitope'>"
      ]
     },
     "execution_count": 9,
     "metadata": {},
     "output_type": "execute_result"
    },
    {
     "data": {
      "image/png": "[encoded data removed]",
      "text/plain": [
       "<Figure size 640x480 with 1 Axes>"
      ]
     },
     "metadata": {},
     "output_type": "display_data"
    }
   ],
   "source": [
    "vdjdb_cleaned.groupby(\"Epitope\").size().sort_values().plot(kind=\"bar\")"
   ]
  },
  {
   "cell_type": "code",
   "execution_count": 10,
   "metadata": {},
   "outputs": [],
   "source": [
    "vdjdb_cleaned.to_csv(tcr_data_path/\"preprocessed\"/\"benchmarking\"/\"vdjdb_cleaned.csv\", index=False)"
   ]
  },
  {
   "cell_type": "code",
   "execution_count": null,
   "metadata": {},
   "outputs": [],
   "source": []
  }
 ],
 "metadata": {
  "kernelspec": {
   "display_name": ".venv",
   "language": "python",
   "name": "python3"
  },
  "language_info": {
   "codemirror_mode": {
    "name": "ipython",
    "version": 3
   },
   "file_extension": ".py",
   "mimetype": "text/x-python",
   "name": "python",
   "nbconvert_exporter": "python",
   "pygments_lexer": "ipython3",
   "version": "3.11.8"
  }
 },
 "nbformat": 4,
 "nbformat_minor": 2
}
