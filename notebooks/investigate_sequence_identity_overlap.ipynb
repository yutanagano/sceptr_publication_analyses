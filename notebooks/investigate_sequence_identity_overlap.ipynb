{
 "cells": [
  {
   "cell_type": "code",
   "execution_count": 1,
   "metadata": {},
   "outputs": [],
   "source": [
    "import os\n",
    "from pathlib import Path\n",
    "\n",
    "if \"PROJECT_ROOT\" not in globals():\n",
    "    PROJECT_ROOT = Path.cwd().parent.resolve()\n",
    "\n",
    "os.chdir(PROJECT_ROOT)"
   ]
  },
  {
   "cell_type": "code",
   "execution_count": 58,
   "metadata": {},
   "outputs": [],
   "source": [
    "import numpy as np\n",
    "import pandas as pd\n",
    "from paths import DATA_DIR\n",
    "from pyrepseq.metric import tcr_metric\n",
    "import tidytcells as tt"
   ]
  },
  {
   "cell_type": "code",
   "execution_count": 3,
   "metadata": {},
   "outputs": [],
   "source": [
    "train = pd.read_csv(DATA_DIR/\"preprocessed\"/\"benchmarking\"/\"train.csv\")\n",
    "test = pd.read_csv(DATA_DIR/\"preprocessed\"/\"benchmarking\"/\"test.csv\")"
   ]
  },
  {
   "cell_type": "code",
   "execution_count": 4,
   "metadata": {},
   "outputs": [],
   "source": [
    "test_discrimination = test[test[\"Epitope\"].isin(train[\"Epitope\"].unique())]"
   ]
  },
  {
   "cell_type": "code",
   "execution_count": null,
   "metadata": {},
   "outputs": [],
   "source": [
    "test_discrimination.head()"
   ]
  },
  {
   "cell_type": "code",
   "execution_count": 8,
   "metadata": {},
   "outputs": [],
   "source": [
    "cdr3_levenshtein = tcr_metric.Cdr3Levenshtein()"
   ]
  },
  {
   "cell_type": "code",
   "execution_count": 21,
   "metadata": {},
   "outputs": [],
   "source": [
    "cdist_matrix = cdr3_levenshtein.calc_cdist_matrix(test_discrimination, train)"
   ]
  },
  {
   "cell_type": "code",
   "execution_count": 59,
   "metadata": {},
   "outputs": [],
   "source": [
    "same_trav = np.empty_like(cdist_matrix)\n",
    "for i, anc_trav in enumerate(test_discrimination.TRAV.map(lambda x: tt.tr.standardize(x, precision=\"gene\"))):\n",
    "    for j, comp_trav in enumerate(train.TRAV.map(lambda x: tt.tr.standardize(x, precision=\"gene\"))):\n",
    "        same_trav[i,j] = anc_trav == comp_trav\n",
    "\n",
    "same_trbv = np.empty_like(cdist_matrix)\n",
    "for i, anc_trbv in enumerate(test_discrimination.TRBV.map(lambda x: tt.tr.standardize(x, precision=\"gene\"))):\n",
    "    for j, comp_trbv in enumerate(train.TRBV.map(lambda x: tt.tr.standardize(x, precision=\"gene\"))):\n",
    "        same_trbv[i,j] = anc_trbv == comp_trbv\n",
    "\n",
    "same_vs = same_trav * same_trbv"
   ]
  },
  {
   "cell_type": "code",
   "execution_count": 60,
   "metadata": {},
   "outputs": [],
   "source": [
    "updated_cdist = cdist_matrix + ((1-same_vs) * 99999)\n",
    "nn_dists = np.min(updated_cdist, axis=1)"
   ]
  },
  {
   "cell_type": "code",
   "execution_count": 61,
   "metadata": {},
   "outputs": [],
   "source": [
    "combined_cdr3_length = test_discrimination.apply(\n",
    "    lambda row: len(row.CDR3A) + len(row.CDR3B),\n",
    "    axis='columns'\n",
    ").to_numpy()"
   ]
  },
  {
   "cell_type": "code",
   "execution_count": 62,
   "metadata": {},
   "outputs": [],
   "source": [
    "seq_identity = 1 - nn_dists / combined_cdr3_length"
   ]
  },
  {
   "cell_type": "code",
   "execution_count": 63,
   "metadata": {},
   "outputs": [],
   "source": [
    "threshold = 0.95\n",
    "legal_test_seq_mask = seq_identity < threshold"
   ]
  },
  {
   "cell_type": "code",
   "execution_count": null,
   "metadata": {},
   "outputs": [],
   "source": [
    "test_discrimination[legal_test_seq_mask].groupby(\"Epitope\").count()"
   ]
  },
  {
   "cell_type": "code",
   "execution_count": null,
   "metadata": {},
   "outputs": [],
   "source": [
    "test_discrimination.groupby(\"Epitope\").count()"
   ]
  },
  {
   "cell_type": "code",
   "execution_count": null,
   "metadata": {},
   "outputs": [],
   "source": []
  }
 ],
 "metadata": {
  "kernelspec": {
   "display_name": ".venv",
   "language": "python",
   "name": "python3"
  },
  "language_info": {
   "codemirror_mode": {
    "name": "ipython",
    "version": 3
   },
   "file_extension": ".py",
   "mimetype": "text/x-python",
   "name": "python",
   "nbconvert_exporter": "python",
   "pygments_lexer": "ipython3",
   "version": "3.11.9"
  }
 },
 "nbformat": 4,
 "nbformat_minor": 2
}
