{
 "cells": [
  {
   "cell_type": "code",
   "execution_count": null,
   "metadata": {},
   "outputs": [],
   "source": [
    "import os\n",
    "from pathlib import Path\n",
    "\n",
    "if \"PROJECT_ROOT\" not in globals():\n",
    "    PROJECT_ROOT = Path.cwd().parent.resolve()\n",
    "\n",
    "os.chdir(PROJECT_ROOT)"
   ]
  },
  {
   "cell_type": "code",
   "execution_count": null,
   "metadata": {},
   "outputs": [],
   "source": [
    "from matplotlib import pyplot as plt\n",
    "from matplotlib.figure import Figure\n",
    "import pandas as pd\n",
    "from sceptr import variant\n",
    "from sklearn.decomposition import PCA as Reducer\n",
    "# from umap import UMAP as Reducer\n",
    "\n",
    "from cached_representation_model import CachedRepresentationModel\n",
    "from hugging_face_lms import TcrBert, ProtBert, Esm2\n",
    "\n",
    "plt.style.use(\"ggplot\")\n",
    "plt.style.use(\"my.mplstyle\")"
   ]
  },
  {
   "cell_type": "code",
   "execution_count": null,
   "metadata": {},
   "outputs": [],
   "source": [
    "finetuning_epitopes = pd.read_csv(\"tcr_data/preprocessed/benchmarking/train_valid.csv\").Epitope.unique()\n",
    "test_data = pd.read_csv(\"tcr_data/preprocessed/benchmarking/test.csv\")"
   ]
  },
  {
   "cell_type": "code",
   "execution_count": null,
   "metadata": {},
   "outputs": [],
   "source": [
    "def generate_rep_projection_plot(model) -> Figure:\n",
    "    reps = model.calc_vector_representations(test_data)\n",
    "    reducer = Reducer()\n",
    "    reps_projected = reducer.fit_transform(reps)[:,:2]\n",
    "\n",
    "    fig, ax = plt.subplots()\n",
    "\n",
    "    for epitope in finetuning_epitopes:\n",
    "        mask = test_data.Epitope == epitope\n",
    "        specificity_group_reps = reps_projected[mask]\n",
    "        ax.scatter(*specificity_group_reps.T, label=epitope)\n",
    "    \n",
    "    return fig"
   ]
  },
  {
   "cell_type": "code",
   "execution_count": null,
   "metadata": {},
   "outputs": [],
   "source": [
    "fig = generate_rep_projection_plot(variant.default())"
   ]
  },
  {
   "cell_type": "code",
   "execution_count": null,
   "metadata": {},
   "outputs": [],
   "source": [
    "fig = generate_rep_projection_plot(variant.finetuned())"
   ]
  },
  {
   "cell_type": "code",
   "execution_count": null,
   "metadata": {},
   "outputs": [],
   "source": [
    "fig = generate_rep_projection_plot(CachedRepresentationModel(TcrBert()))"
   ]
  },
  {
   "cell_type": "code",
   "execution_count": null,
   "metadata": {},
   "outputs": [],
   "source": []
  }
 ],
 "metadata": {
  "kernelspec": {
   "display_name": ".venv",
   "language": "python",
   "name": "python3"
  },
  "language_info": {
   "codemirror_mode": {
    "name": "ipython",
    "version": 3
   },
   "file_extension": ".py",
   "mimetype": "text/x-python",
   "name": "python",
   "nbconvert_exporter": "python",
   "pygments_lexer": "ipython3",
   "version": "3.11.0rc1"
  }
 },
 "nbformat": 4,
 "nbformat_minor": 2
}
