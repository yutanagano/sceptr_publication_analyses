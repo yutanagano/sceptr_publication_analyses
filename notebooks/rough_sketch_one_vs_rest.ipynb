{
 "cells": [
  {
   "cell_type": "code",
   "execution_count": 1,
   "metadata": {},
   "outputs": [],
   "source": [
    "from matplotlib import pyplot as plt\n",
    "import numpy as np\n",
    "from numpy import ndarray\n",
    "import pyrepseq as prs\n",
    "from pyrepseq.metric.tcr_metric import TcrMetric\n",
    "import pandas as pd\n",
    "from pandas import DataFrame\n",
    "import random\n",
    "from sceptr import variant\n",
    "from sceptr._lib.sceptr import Sceptr\n",
    "from sklearn import metrics\n",
    "from typing import List"
   ]
  },
  {
   "cell_type": "markdown",
   "metadata": {},
   "source": [
    "## Prep objects"
   ]
  },
  {
   "cell_type": "code",
   "execution_count": 2,
   "metadata": {},
   "outputs": [],
   "source": [
    "LABELLED_DATA = pd.read_csv(\"../tcr_data/preprocessed/benchmarking/vdjdb_cleaned.csv\")\n",
    "BACKGROUND_DATA = pd.read_csv(\"../tcr_data/preprocessed/tanno/test.csv\")\n",
    "BACKGROUND_SAMPLE = BACKGROUND_DATA.sample(n=1000,random_state=420)\n",
    "\n",
    "EPITOPES = LABELLED_DATA.Epitope.unique()\n",
    "\n",
    "models = (\n",
    "    prs.metric.tcr_metric.Tcrdist(),\n",
    "    variant.ab_sceptr()\n",
    ")"
   ]
  },
  {
   "cell_type": "code",
   "execution_count": 3,
   "metadata": {},
   "outputs": [],
   "source": [
    "def convert_dists_to_scores(dists: ndarray) -> ndarray:\n",
    "    max_dist = np.max(dists)\n",
    "    return 1 - dists / max_dist\n",
    "\n",
    "class FewShotPredictor:\n",
    "    def __init__(self, metric: TcrMetric, positive_refs: DataFrame, bg_refs: DataFrame) -> None:\n",
    "        self._metric = metric\n",
    "        self._positive_refs = positive_refs\n",
    "        self._bg_refs = bg_refs\n",
    "    \n",
    "    def get_nn_inferences(self, queries: DataFrame) -> ndarray:\n",
    "        cdist_matrix = self._metric.calc_cdist_matrix(queries, self._positive_refs)\n",
    "        nn_dists = np.min(cdist_matrix, axis=1)\n",
    "        return convert_dists_to_scores(nn_dists)\n",
    "    \n",
    "    def get_avg_dist_inferences(self, queries: DataFrame) -> ndarray:\n",
    "        cdist_matrix = self._metric.calc_cdist_matrix(queries, self._positive_refs)\n",
    "        avg_dists = np.mean(cdist_matrix, axis=1)\n",
    "        return convert_dists_to_scores(avg_dists)"
   ]
  },
  {
   "cell_type": "code",
   "execution_count": 22,
   "metadata": {},
   "outputs": [],
   "source": [
    "def get_benchmark_results(model: TcrMetric) -> dict:\n",
    "    benchmark_results = dict()\n",
    "    \n",
    "    benchmark_results[\"one_shot\"] = get_oneshot_benchmark_results(model)\n",
    "    \n",
    "    \n",
    "\n",
    "    return benchmark_results\n",
    "\n",
    "def get_oneshot_benchmark_results(model: TcrMetric) -> DataFrame:\n",
    "    results = []\n",
    "\n",
    "    for epitope in EPITOPES:\n",
    "        labelled_data_epitope_mask = LABELLED_DATA.Epitope == epitope\n",
    "        epitope_references = LABELLED_DATA[labelled_data_epitope_mask]\n",
    "        cdist_matrix = model.calc_cdist_matrix(LABELLED_DATA, epitope_references)\n",
    "\n",
    "        aucs = []\n",
    "        auc01s = []\n",
    "        for cdist_idx, tcr_idx in enumerate(epitope_references.index):\n",
    "            dists = cdist_matrix[:,cdist_idx]\n",
    "            similarities = convert_dists_to_scores(dists)\n",
    "\n",
    "            similarities = np.delete(similarities, tcr_idx)\n",
    "            ground_truth = np.delete(labelled_data_epitope_mask, tcr_idx)\n",
    "\n",
    "            aucs.append(metrics.roc_auc_score(ground_truth, similarities))\n",
    "            auc01s.append(metrics.roc_auc_score(ground_truth, similarities, max_fpr=0.1))\n",
    "\n",
    "        mean_auc = np.mean(aucs)\n",
    "        std_auc = np.std(aucs)\n",
    "\n",
    "        mean_auc01 = np.mean(auc01s)\n",
    "        std_auc01 = np.mean(auc01s)\n",
    "\n",
    "        results.append({\"epitope\": epitope, \"mean_auc\": mean_auc, \"std_auc\": std_auc, \"mean_auc01\": mean_auc01, \"std_auc01\": std_auc01})\n",
    "    \n",
    "    return DataFrame.from_records(results)\n",
    "\n",
    "# def get_few_shot_aucs(model: TcrMetric, epitope: str, num_shots: int) -> List[float]:\n",
    "#     test_data_epitope_mask = test_data.Epitope == epitope\n",
    "#     epitope_references = test_data[test_data_epitope_mask]\n",
    "\n",
    "#     if len(epitope_references)- num_shots < 100:\n",
    "#         return []\n",
    "\n",
    "#     random_subsets = [\n",
    "#         random.sample(epitope_references.index.to_list(), k=num_shots) for _ in range(100)\n",
    "#     ]\n",
    "\n",
    "#     aucs = []\n",
    "#     for subset_indices in random_subsets:\n",
    "#         epitope_reference_subset = epitope_references.loc[subset_indices]\n",
    "#         cdist_matrix = model.calc_cdist_matrix(epitope_reference_subset, test_data)\n",
    "#         similarity_matrix = np.exp(-cdist_matrix/20)\n",
    "#         similarities = np.mean(similarity_matrix, axis=0)\n",
    "\n",
    "#         similarities = np.delete(similarities, subset_indices)\n",
    "#         ground_truth = np.delete(test_data_epitope_mask, subset_indices)\n",
    "\n",
    "#         aucs.append(metrics.roc_auc_score(ground_truth, similarities))\n",
    "    \n",
    "#     return aucs"
   ]
  },
  {
   "cell_type": "code",
   "execution_count": 20,
   "metadata": {},
   "outputs": [],
   "source": [
    "benchmarks_per_metric = {\n",
    "    model.name: get_benchmark_results(model) for model in models\n",
    "}"
   ]
  },
  {
   "cell_type": "code",
   "execution_count": 27,
   "metadata": {},
   "outputs": [
    {
     "data": {
      "image/png": "[encoded data removed]",
      "text/plain": [
       "<Figure size 500x500 with 1 Axes>"
      ]
     },
     "metadata": {},
     "output_type": "display_data"
    }
   ],
   "source": [
    "sceptr_aucs = benchmarks_per_metric[\"AB SCEPTR\"][\"one_shot\"]\n",
    "tcrdist_aucs = benchmarks_per_metric[\"tcrdist\"][\"one_shot\"]\n",
    "\n",
    "plt.figure(figsize=(5,5))\n",
    "plt.errorbar(x=tcrdist_aucs[\"mean_auc\"], y=sceptr_aucs[\"mean_auc\"], xerr=tcrdist_aucs[\"std_auc\"], yerr=sceptr_aucs[\"std_auc\"], fmt=\"x\")\n",
    "plt.plot(((0,0),(1,1)), c=\"k\")\n",
    "plt.xlim(0.4,1)\n",
    "plt.ylim(0.4,1)\n",
    "plt.show()"
   ]
  },
  {
   "cell_type": "code",
   "execution_count": null,
   "metadata": {},
   "outputs": [],
   "source": []
  }
 ],
 "metadata": {
  "kernelspec": {
   "display_name": "sceptr_publication_analyses",
   "language": "python",
   "name": "python3"
  },
  "language_info": {
   "codemirror_mode": {
    "name": "ipython",
    "version": 3
   },
   "file_extension": ".py",
   "mimetype": "text/x-python",
   "name": "python",
   "nbconvert_exporter": "python",
   "pygments_lexer": "ipython3",
   "version": "3.11.8"
  }
 },
 "nbformat": 4,
 "nbformat_minor": 2
}
