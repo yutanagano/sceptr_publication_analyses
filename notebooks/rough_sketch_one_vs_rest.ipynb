{
 "cells": [
  {
   "cell_type": "code",
   "execution_count": 1,
   "metadata": {},
   "outputs": [
    {
     "name": "stderr",
     "output_type": "stream",
     "text": [
      "/home/yutanagano/miniconda3/envs/sceptr_publication_analyses/lib/python3.12/site-packages/tqdm/auto.py:21: TqdmWarning: IProgress not found. Please update jupyter and ipywidgets. See https://ipywidgets.readthedocs.io/en/stable/user_install.html\n",
      "  from .autonotebook import tqdm as notebook_tqdm\n"
     ]
    }
   ],
   "source": [
    "import logging\n",
    "from matplotlib import pyplot as plt\n",
    "import numpy as np\n",
    "from numpy import ndarray\n",
    "import pyrepseq as prs\n",
    "from pyrepseq.metric.tcr_metric import TcrMetric\n",
    "import pandas as pd\n",
    "from pandas import DataFrame\n",
    "import random\n",
    "from sceptr import variant\n",
    "from sceptr._lib.sceptr import Sceptr\n",
    "from sklearn import metrics\n",
    "from tqdm import tqdm\n",
    "from typing import Dict"
   ]
  },
  {
   "cell_type": "code",
   "execution_count": 2,
   "metadata": {},
   "outputs": [],
   "source": [
    "logging.basicConfig(filename='one_vs_rest.log', encoding='utf-8', level=logging.DEBUG)"
   ]
  },
  {
   "cell_type": "markdown",
   "metadata": {},
   "source": [
    "## Prep objects"
   ]
  },
  {
   "cell_type": "code",
   "execution_count": 7,
   "metadata": {},
   "outputs": [],
   "source": [
    "LABELLED_DATA = pd.read_csv(\"../tcr_data/preprocessed/benchmarking/vdjdb_cleaned.csv\")\n",
    "BACKGROUND_DATA = pd.read_csv(\"../tcr_data/preprocessed/tanno/test.csv\")\n",
    "BACKGROUND_SAMPLE = BACKGROUND_DATA.sample(n=1000,random_state=420)\n",
    "\n",
    "EPITOPES = LABELLED_DATA.Epitope.unique()\n",
    "\n",
    "UPPER_QUANTILE = 0.75\n",
    "LOWER_QUANTILE = 0.25\n",
    "\n",
    "models = (\n",
    "    prs.metric.tcr_metric.Cdr3Levenshtein(),\n",
    "    prs.metric.tcr_metric.Tcrdist(),\n",
    ")"
   ]
  },
  {
   "cell_type": "code",
   "execution_count": 8,
   "metadata": {},
   "outputs": [],
   "source": [
    "def convert_dists_to_scores(dists: ndarray) -> ndarray:\n",
    "    max_dist = np.max(dists)\n",
    "    return 1 - dists / max_dist\n",
    "\n",
    "class FewShotPredictor:\n",
    "    def __init__(self, metric: TcrMetric, positive_refs: DataFrame, bg_refs: DataFrame) -> None:\n",
    "        self._metric = metric\n",
    "        self._positive_refs = positive_refs\n",
    "        self._bg_refs = bg_refs\n",
    "    \n",
    "    def get_nn_inferences(self, queries: DataFrame) -> ndarray:\n",
    "        cdist_matrix = self._metric.calc_cdist_matrix(queries, self._positive_refs)\n",
    "        nn_dists = np.min(cdist_matrix, axis=1)\n",
    "        return convert_dists_to_scores(nn_dists)\n",
    "    \n",
    "    def get_avg_dist_inferences(self, queries: DataFrame) -> ndarray:\n",
    "        cdist_matrix = self._metric.calc_cdist_matrix(queries, self._positive_refs)\n",
    "        avg_dists = np.mean(cdist_matrix, axis=1)\n",
    "        return convert_dists_to_scores(avg_dists)"
   ]
  },
  {
   "cell_type": "code",
   "execution_count": 9,
   "metadata": {},
   "outputs": [],
   "source": [
    "def get_benchmark_results(model: TcrMetric) -> Dict[str, DataFrame]:\n",
    "    one_shot_results = get_one_shot_benchmark_results(model)\n",
    "    few_shot_results = get_few_shot_benchmark_results(model)\n",
    "    collated_results = {**one_shot_results, **few_shot_results}\n",
    "    return collated_results\n",
    "\n",
    "\n",
    "def get_one_shot_benchmark_results(model: TcrMetric) -> Dict[str, DataFrame]:\n",
    "    print(f\"Commencing one-shot benchmarking for {model.name}...\")\n",
    "\n",
    "    results = []\n",
    "    for epitope in tqdm(EPITOPES):\n",
    "        labelled_data_epitope_mask = LABELLED_DATA.Epitope == epitope\n",
    "        epitope_references = LABELLED_DATA[labelled_data_epitope_mask]\n",
    "        cdist_matrix = model.calc_cdist_matrix(LABELLED_DATA, epitope_references)\n",
    "\n",
    "        aucs = []\n",
    "        for cdist_idx, tcr_idx in enumerate(epitope_references.index):\n",
    "            dists = cdist_matrix[:,cdist_idx]\n",
    "            similarities = convert_dists_to_scores(dists)\n",
    "\n",
    "            similarities = np.delete(similarities, tcr_idx)\n",
    "            ground_truth = np.delete(labelled_data_epitope_mask, tcr_idx)\n",
    "\n",
    "            aucs.append(metrics.roc_auc_score(ground_truth, similarities))\n",
    "\n",
    "        mean_auc = np.median(aucs)\n",
    "        upper_bound = np.quantile(aucs, UPPER_QUANTILE)\n",
    "        lower_bound = np.quantile(aucs, LOWER_QUANTILE)\n",
    "\n",
    "        results.append({\"epitope\": epitope, \"mean_auc\": mean_auc, \"error_pos\": upper_bound-mean_auc, \"error_neg\": mean_auc-lower_bound})\n",
    "    \n",
    "    return {\"one_shot\": DataFrame.from_records(results)}\n",
    "\n",
    "\n",
    "def get_few_shot_benchmark_results(model: TcrMetric) -> Dict[str, DataFrame]:\n",
    "    print(f\"Commencing few-shot benchmarking for {model.name}...\")\n",
    "\n",
    "    summaries = dict()\n",
    "\n",
    "    for num_shots in (10, 100):\n",
    "        nn_results = []\n",
    "        for epitope in tqdm(EPITOPES):\n",
    "            labelled_data_epitope_mask = LABELLED_DATA.Epitope == epitope\n",
    "            epitope_references = LABELLED_DATA[labelled_data_epitope_mask]\n",
    "            ref_index_sets = epitope_references.index.to_list()\n",
    "\n",
    "            if len(epitope_references) - num_shots < 100:\n",
    "                logging.info(f\"Not enough references for {epitope} for {num_shots} shots, skipping\")\n",
    "                continue\n",
    "\n",
    "            random.seed(\"tcrsarecool\")\n",
    "            ref_index_sets = [\n",
    "                random.sample(ref_index_sets, k=num_shots) for _ in range(100)\n",
    "            ]\n",
    "            logging.debug(f\"The first five {num_shots}-shot reference sets for {epitope} for {model.name} have indices: {ref_index_sets[:5]}\")\n",
    "\n",
    "            aucs = []\n",
    "            for ref_index_set in ref_index_sets:\n",
    "                positive_refs = LABELLED_DATA.loc[ref_index_set]\n",
    "                queries = LABELLED_DATA.drop(index=ref_index_set)\n",
    "                ground_truth = queries.Epitope == epitope\n",
    "                predictor = FewShotPredictor(model, positive_refs=positive_refs, bg_refs=BACKGROUND_SAMPLE)\n",
    "\n",
    "                nn_scores = predictor.get_nn_inferences(queries)\n",
    "\n",
    "                aucs.append(metrics.roc_auc_score(ground_truth, nn_scores))\n",
    "            \n",
    "            mean_auc = np.median(aucs)\n",
    "            upper_bound = np.quantile(aucs, UPPER_QUANTILE)\n",
    "            lower_bound = np.quantile(aucs, LOWER_QUANTILE)\n",
    "\n",
    "            nn_results.append({\"epitope\": epitope, \"mean_auc\": mean_auc, \"error_pos\": upper_bound-mean_auc, \"error_neg\": mean_auc-lower_bound})\n",
    "        \n",
    "        result = DataFrame.from_records(nn_results)\n",
    "        summaries[f\"{num_shots}_shot_nn\"] = result\n",
    "    \n",
    "    return summaries"
   ]
  },
  {
   "cell_type": "code",
   "execution_count": 10,
   "metadata": {},
   "outputs": [
    {
     "name": "stdout",
     "output_type": "stream",
     "text": [
      "Commencing one-shot benchmarking for CDR3 Levenshtein...\n"
     ]
    },
    {
     "name": "stderr",
     "output_type": "stream",
     "text": [
      "100%|██████████| 12/12 [00:22<00:00,  1.84s/it]\n"
     ]
    },
    {
     "name": "stdout",
     "output_type": "stream",
     "text": [
      "Commencing few-shot benchmarking for CDR3 Levenshtein...\n"
     ]
    },
    {
     "name": "stderr",
     "output_type": "stream",
     "text": [
      "100%|██████████| 12/12 [00:58<00:00,  4.91s/it]\n",
      "100%|██████████| 12/12 [06:52<00:00, 34.36s/it]\n"
     ]
    },
    {
     "name": "stdout",
     "output_type": "stream",
     "text": [
      "Commencing one-shot benchmarking for tcrdist...\n"
     ]
    },
    {
     "name": "stderr",
     "output_type": "stream",
     "text": [
      "100%|██████████| 12/12 [00:11<00:00,  1.07it/s]\n"
     ]
    },
    {
     "name": "stdout",
     "output_type": "stream",
     "text": [
      "Commencing few-shot benchmarking for tcrdist...\n"
     ]
    },
    {
     "name": "stderr",
     "output_type": "stream",
     "text": [
      "100%|██████████| 12/12 [01:11<00:00,  5.95s/it]\n",
      "100%|██████████| 12/12 [03:06<00:00, 15.51s/it]\n"
     ]
    }
   ],
   "source": [
    "benchmarks_per_metric = {\n",
    "    model.name: get_benchmark_results(model) for model in models\n",
    "}"
   ]
  },
  {
   "cell_type": "code",
   "execution_count": 17,
   "metadata": {},
   "outputs": [
    {
     "data": {
      "text/plain": [
       "{'one_shot':            epitope  mean_auc  error_pos  error_neg\n",
       " 0        GILGFVFTL  0.762057   0.061825   0.029716\n",
       " 1        NLVPMVATV  0.483284   0.040448   0.039105\n",
       " 2        GLCTLVAML  0.593765   0.099889   0.090592\n",
       " 3        YLQPRTFLL  0.592143   0.147398   0.142500\n",
       " 4        LLWNGPMAV  0.721623   0.070161   0.052631\n",
       " 5        CINGVCWTV  0.503539   0.080885   0.068259\n",
       " 6        QYIKWPWYI  0.484291   0.053052   0.046872\n",
       " 7   TFEYVSQPFLMDLE  0.885879   0.049416  -0.022014\n",
       " 8        LTDEMIAQY  0.507118   0.027389   0.023953\n",
       " 9       TTDPSFLGRY  0.545567   0.029873   0.025761\n",
       " 10       SPRWYFYYL  0.485709   0.036446   0.035086\n",
       " 11       KTFPPTEPK  0.464629   0.021156   0.020942,\n",
       " '10_shot_nn':            epitope  mean_auc  error_pos  error_neg\n",
       " 0        GILGFVFTL  0.828712   0.013662   0.013831\n",
       " 1        NLVPMVATV  0.522718   0.033978   0.030143\n",
       " 2        GLCTLVAML  0.756280   0.037615   0.026295\n",
       " 3        YLQPRTFLL  0.716944   0.028606   0.010660\n",
       " 4        LLWNGPMAV  0.800202   0.013911   0.011672\n",
       " 5        CINGVCWTV  0.549734   0.037151   0.035988\n",
       " 6        QYIKWPWYI  0.526858   0.031792   0.033381\n",
       " 7   TFEYVSQPFLMDLE  0.942910   0.004366   0.004089\n",
       " 8        LTDEMIAQY  0.551405   0.025302   0.027206\n",
       " 9       TTDPSFLGRY  0.544622   0.034807   0.033210\n",
       " 10       SPRWYFYYL  0.509854   0.026105   0.023599\n",
       " 11       KTFPPTEPK  0.448530   0.022036   0.019554,\n",
       " '100_shot_nn':           epitope  mean_auc  error_pos  error_neg\n",
       " 0       GILGFVFTL  0.856555   0.005017   0.004642\n",
       " 1       NLVPMVATV  0.588346   0.016277   0.019146\n",
       " 2       GLCTLVAML  0.853656   0.011237   0.009609\n",
       " 3       YLQPRTFLL  0.724273   0.014112   0.016525\n",
       " 4       LLWNGPMAV  0.830481   0.007579   0.009889\n",
       " 5       CINGVCWTV  0.614422   0.020722   0.020523\n",
       " 6  TFEYVSQPFLMDLE  0.955830   0.002921   0.002951\n",
       " 7      TTDPSFLGRY  0.566005   0.009589   0.011007\n",
       " 8       SPRWYFYYL  0.579109   0.021479   0.023988}"
      ]
     },
     "execution_count": 17,
     "metadata": {},
     "output_type": "execute_result"
    }
   ],
   "source": [
    "benchmarks_per_metric[\"CDR3 Levenshtein\"]"
   ]
  },
  {
   "cell_type": "code",
   "execution_count": 11,
   "metadata": {},
   "outputs": [],
   "source": [
    "levenshtein_aucs = benchmarks_per_metric[\"CDR3 Levenshtein\"][\"one_shot\"]\n",
    "tcrdist_aucs = benchmarks_per_metric[\"tcrdist\"][\"one_shot\"]"
   ]
  },
  {
   "cell_type": "code",
   "execution_count": 13,
   "metadata": {},
   "outputs": [
    {
     "data": {
      "text/html": [
       "<div>\n",
       "<style scoped>\n",
       "    .dataframe tbody tr th:only-of-type {\n",
       "        vertical-align: middle;\n",
       "    }\n",
       "\n",
       "    .dataframe tbody tr th {\n",
       "        vertical-align: top;\n",
       "    }\n",
       "\n",
       "    .dataframe thead th {\n",
       "        text-align: right;\n",
       "    }\n",
       "</style>\n",
       "<table border=\"1\" class=\"dataframe\">\n",
       "  <thead>\n",
       "    <tr style=\"text-align: right;\">\n",
       "      <th></th>\n",
       "      <th>epitope</th>\n",
       "      <th>mean_auc</th>\n",
       "      <th>error_pos</th>\n",
       "      <th>error_neg</th>\n",
       "    </tr>\n",
       "  </thead>\n",
       "  <tbody>\n",
       "    <tr>\n",
       "      <th>0</th>\n",
       "      <td>GILGFVFTL</td>\n",
       "      <td>0.810178</td>\n",
       "      <td>0.066042</td>\n",
       "      <td>-0.030161</td>\n",
       "    </tr>\n",
       "    <tr>\n",
       "      <th>1</th>\n",
       "      <td>NLVPMVATV</td>\n",
       "      <td>0.485343</td>\n",
       "      <td>0.038862</td>\n",
       "      <td>0.038045</td>\n",
       "    </tr>\n",
       "    <tr>\n",
       "      <th>2</th>\n",
       "      <td>GLCTLVAML</td>\n",
       "      <td>0.687993</td>\n",
       "      <td>0.106635</td>\n",
       "      <td>0.108424</td>\n",
       "    </tr>\n",
       "    <tr>\n",
       "      <th>3</th>\n",
       "      <td>YLQPRTFLL</td>\n",
       "      <td>0.640209</td>\n",
       "      <td>0.109520</td>\n",
       "      <td>0.103232</td>\n",
       "    </tr>\n",
       "    <tr>\n",
       "      <th>4</th>\n",
       "      <td>LLWNGPMAV</td>\n",
       "      <td>0.755651</td>\n",
       "      <td>0.082079</td>\n",
       "      <td>0.061702</td>\n",
       "    </tr>\n",
       "    <tr>\n",
       "      <th>5</th>\n",
       "      <td>CINGVCWTV</td>\n",
       "      <td>0.577251</td>\n",
       "      <td>0.114359</td>\n",
       "      <td>0.091751</td>\n",
       "    </tr>\n",
       "    <tr>\n",
       "      <th>6</th>\n",
       "      <td>QYIKWPWYI</td>\n",
       "      <td>0.512035</td>\n",
       "      <td>0.063626</td>\n",
       "      <td>0.060750</td>\n",
       "    </tr>\n",
       "    <tr>\n",
       "      <th>7</th>\n",
       "      <td>TFEYVSQPFLMDLE</td>\n",
       "      <td>0.913860</td>\n",
       "      <td>0.041217</td>\n",
       "      <td>-0.032109</td>\n",
       "    </tr>\n",
       "    <tr>\n",
       "      <th>8</th>\n",
       "      <td>LTDEMIAQY</td>\n",
       "      <td>0.509737</td>\n",
       "      <td>0.028686</td>\n",
       "      <td>0.032082</td>\n",
       "    </tr>\n",
       "    <tr>\n",
       "      <th>9</th>\n",
       "      <td>TTDPSFLGRY</td>\n",
       "      <td>0.564165</td>\n",
       "      <td>0.039622</td>\n",
       "      <td>0.036457</td>\n",
       "    </tr>\n",
       "    <tr>\n",
       "      <th>10</th>\n",
       "      <td>SPRWYFYYL</td>\n",
       "      <td>0.508852</td>\n",
       "      <td>0.047187</td>\n",
       "      <td>0.051456</td>\n",
       "    </tr>\n",
       "    <tr>\n",
       "      <th>11</th>\n",
       "      <td>KTFPPTEPK</td>\n",
       "      <td>0.486298</td>\n",
       "      <td>0.029659</td>\n",
       "      <td>0.030216</td>\n",
       "    </tr>\n",
       "  </tbody>\n",
       "</table>\n",
       "</div>"
      ],
      "text/plain": [
       "           epitope  mean_auc  error_pos  error_neg\n",
       "0        GILGFVFTL  0.810178   0.066042  -0.030161\n",
       "1        NLVPMVATV  0.485343   0.038862   0.038045\n",
       "2        GLCTLVAML  0.687993   0.106635   0.108424\n",
       "3        YLQPRTFLL  0.640209   0.109520   0.103232\n",
       "4        LLWNGPMAV  0.755651   0.082079   0.061702\n",
       "5        CINGVCWTV  0.577251   0.114359   0.091751\n",
       "6        QYIKWPWYI  0.512035   0.063626   0.060750\n",
       "7   TFEYVSQPFLMDLE  0.913860   0.041217  -0.032109\n",
       "8        LTDEMIAQY  0.509737   0.028686   0.032082\n",
       "9       TTDPSFLGRY  0.564165   0.039622   0.036457\n",
       "10       SPRWYFYYL  0.508852   0.047187   0.051456\n",
       "11       KTFPPTEPK  0.486298   0.029659   0.030216"
      ]
     },
     "execution_count": 13,
     "metadata": {},
     "output_type": "execute_result"
    }
   ],
   "source": [
    "tcrdist_aucs"
   ]
  },
  {
   "cell_type": "code",
   "execution_count": 15,
   "metadata": {},
   "outputs": [
    {
     "data": {
      "image/png": "[encoded data removed]",
      "text/plain": [
       "<Figure size 500x500 with 1 Axes>"
      ]
     },
     "metadata": {},
     "output_type": "display_data"
    }
   ],
   "source": [
    "\n",
    "plt.figure(figsize=(5,5))\n",
    "plt.errorbar(x=levenshtein_aucs[\"mean_auc\"], y=tcrdist_aucs[\"mean_auc\"], fmt=\"x\")\n",
    "plt.plot(((0,0),(1,1)), c=\"k\")\n",
    "plt.xlim(0.4,1)\n",
    "plt.ylim(0.4,1)\n",
    "plt.show()"
   ]
  },
  {
   "cell_type": "code",
   "execution_count": null,
   "metadata": {},
   "outputs": [],
   "source": []
  }
 ],
 "metadata": {
  "kernelspec": {
   "display_name": "sceptr_publication_analyses",
   "language": "python",
   "name": "python3"
  },
  "language_info": {
   "codemirror_mode": {
    "name": "ipython",
    "version": 3
   },
   "file_extension": ".py",
   "mimetype": "text/x-python",
   "name": "python",
   "nbconvert_exporter": "python",
   "pygments_lexer": "ipython3",
   "version": "3.12.2"
  }
 },
 "nbformat": 4,
 "nbformat_minor": 2
}
