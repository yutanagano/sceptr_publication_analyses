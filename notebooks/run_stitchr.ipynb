{
 "cells": [
  {
   "cell_type": "code",
   "execution_count": 12,
   "metadata": {},
   "outputs": [],
   "source": [
    "import subprocess\n",
    "import pandas as pd\n",
    "from pandas import Series"
   ]
  },
  {
   "cell_type": "code",
   "execution_count": 5,
   "metadata": {},
   "outputs": [],
   "source": [
    "vdjdb_cleaned = pd.read_csv(\"../tcr_data/preprocessed/benchmarking/vdjdb_cleaned.csv\")"
   ]
  },
  {
   "cell_type": "code",
   "execution_count": 8,
   "metadata": {},
   "outputs": [
    {
     "data": {
      "text/html": [
       "<div>\n",
       "<style scoped>\n",
       "    .dataframe tbody tr th:only-of-type {\n",
       "        vertical-align: middle;\n",
       "    }\n",
       "\n",
       "    .dataframe tbody tr th {\n",
       "        vertical-align: top;\n",
       "    }\n",
       "\n",
       "    .dataframe thead th {\n",
       "        text-align: right;\n",
       "    }\n",
       "</style>\n",
       "<table border=\"1\" class=\"dataframe\">\n",
       "  <thead>\n",
       "    <tr style=\"text-align: right;\">\n",
       "      <th></th>\n",
       "      <th>TRAV</th>\n",
       "      <th>CDR3A</th>\n",
       "      <th>TRAJ</th>\n",
       "      <th>TRBV</th>\n",
       "      <th>CDR3B</th>\n",
       "      <th>TRBJ</th>\n",
       "      <th>Epitope</th>\n",
       "      <th>MHCA</th>\n",
       "      <th>MHCB</th>\n",
       "      <th>Epitope_species</th>\n",
       "      <th>Reference</th>\n",
       "    </tr>\n",
       "  </thead>\n",
       "  <tbody>\n",
       "    <tr>\n",
       "      <th>0</th>\n",
       "      <td>TRAV27*01</td>\n",
       "      <td>CAGAGSQGNLIF</td>\n",
       "      <td>TRAJ42*01</td>\n",
       "      <td>TRBV19*01</td>\n",
       "      <td>CASSSRSSYEQYF</td>\n",
       "      <td>TRBJ2-7*01</td>\n",
       "      <td>GILGFVFTL</td>\n",
       "      <td>HLA-A*02:01:48</td>\n",
       "      <td>B2M</td>\n",
       "      <td>InfluenzaA</td>\n",
       "      <td>PMID:12796775</td>\n",
       "    </tr>\n",
       "    <tr>\n",
       "      <th>1</th>\n",
       "      <td>TRAV27*01</td>\n",
       "      <td>CAGAGSQGNLIF</td>\n",
       "      <td>TRAJ42*01</td>\n",
       "      <td>TRBV19*01</td>\n",
       "      <td>CASSSRSSYEQYF</td>\n",
       "      <td>TRBJ2-7*01</td>\n",
       "      <td>GILGFVFTL</td>\n",
       "      <td>HLA-A*02:01:48</td>\n",
       "      <td>B2M</td>\n",
       "      <td>InfluenzaA</td>\n",
       "      <td>PMID:18275829</td>\n",
       "    </tr>\n",
       "    <tr>\n",
       "      <th>2</th>\n",
       "      <td>TRAV27*01</td>\n",
       "      <td>CAGAGSQGNLIF</td>\n",
       "      <td>TRAJ42*01</td>\n",
       "      <td>TRBV19*01</td>\n",
       "      <td>CASSSRASYEQYF</td>\n",
       "      <td>TRBJ2-7*01</td>\n",
       "      <td>GILGFVFTL</td>\n",
       "      <td>HLA-A*02:01:48</td>\n",
       "      <td>B2M</td>\n",
       "      <td>InfluenzaA</td>\n",
       "      <td>PMID:18275829</td>\n",
       "    </tr>\n",
       "    <tr>\n",
       "      <th>3</th>\n",
       "      <td>TRAV24*01</td>\n",
       "      <td>CARNTGNQFYF</td>\n",
       "      <td>TRAJ49*01</td>\n",
       "      <td>TRBV6-5*01</td>\n",
       "      <td>CASSPVTGGIYGYTF</td>\n",
       "      <td>TRBJ1-2*01</td>\n",
       "      <td>NLVPMVATV</td>\n",
       "      <td>HLA-A*02:01:98</td>\n",
       "      <td>B2M</td>\n",
       "      <td>CMV</td>\n",
       "      <td>PMID:19542454</td>\n",
       "    </tr>\n",
       "    <tr>\n",
       "      <th>4</th>\n",
       "      <td>TRAV5*01</td>\n",
       "      <td>CAEDNNARLMF</td>\n",
       "      <td>TRAJ31*01</td>\n",
       "      <td>TRBV20-1*01</td>\n",
       "      <td>CSARDGTGNGYTF</td>\n",
       "      <td>TRBJ1-2*01</td>\n",
       "      <td>GLCTLVAML</td>\n",
       "      <td>HLA-A*02:01:48</td>\n",
       "      <td>B2M</td>\n",
       "      <td>EBV</td>\n",
       "      <td>PMID:21124993</td>\n",
       "    </tr>\n",
       "  </tbody>\n",
       "</table>\n",
       "</div>"
      ],
      "text/plain": [
       "        TRAV         CDR3A       TRAJ         TRBV            CDR3B  \\\n",
       "0  TRAV27*01  CAGAGSQGNLIF  TRAJ42*01    TRBV19*01    CASSSRSSYEQYF   \n",
       "1  TRAV27*01  CAGAGSQGNLIF  TRAJ42*01    TRBV19*01    CASSSRSSYEQYF   \n",
       "2  TRAV27*01  CAGAGSQGNLIF  TRAJ42*01    TRBV19*01    CASSSRASYEQYF   \n",
       "3  TRAV24*01   CARNTGNQFYF  TRAJ49*01   TRBV6-5*01  CASSPVTGGIYGYTF   \n",
       "4   TRAV5*01   CAEDNNARLMF  TRAJ31*01  TRBV20-1*01    CSARDGTGNGYTF   \n",
       "\n",
       "         TRBJ    Epitope            MHCA MHCB Epitope_species      Reference  \n",
       "0  TRBJ2-7*01  GILGFVFTL  HLA-A*02:01:48  B2M      InfluenzaA  PMID:12796775  \n",
       "1  TRBJ2-7*01  GILGFVFTL  HLA-A*02:01:48  B2M      InfluenzaA  PMID:18275829  \n",
       "2  TRBJ2-7*01  GILGFVFTL  HLA-A*02:01:48  B2M      InfluenzaA  PMID:18275829  \n",
       "3  TRBJ1-2*01  NLVPMVATV  HLA-A*02:01:98  B2M             CMV  PMID:19542454  \n",
       "4  TRBJ1-2*01  GLCTLVAML  HLA-A*02:01:48  B2M             EBV  PMID:21124993  "
      ]
     },
     "execution_count": 8,
     "metadata": {},
     "output_type": "execute_result"
    }
   ],
   "source": [
    "vdjdb_cleaned.head()"
   ]
  },
  {
   "cell_type": "code",
   "execution_count": 11,
   "metadata": {},
   "outputs": [
    {
     "name": "stdout",
     "output_type": "stream",
     "text": [
      "MVLKFSVSILWIQLAWVSTQLLEQSPQFLSIQEGENLTVYCNSSSVFSSLQWYRQEPGEGPVLLVTVVTGGEVKKLKRLTFQFGDARKDSSLHITAAQPGDTGLYLCAGAGSQGNLIFGKGTKLSVKPNIQNPDPAVYQLRDSKSSDKSVCLFTDFDSQTNVSQSKDSDVYITDKTVLDMRSMDFKSNSAVAWSNKSDFACANAFNNSIIPEDTFFPSPESSCDVKLVEKSFETDTNLNFQNLSVIGFRILLLKVAGFNLLMTLRLWSS\n"
     ]
    }
   ],
   "source": [
    "subprocess.run([\n",
    "    \"stitchr\",\n",
    "    \"-v\", \"TRAV27*01\",\n",
    "    \"-j\", \"TRAJ42*01\",\n",
    "    \"-cdr3\", \"CAGAGSQGNLIF\",\n",
    "    \"-m\", \"AA\"\n",
    "]).stdout"
   ]
  },
  {
   "cell_type": "code",
   "execution_count": 13,
   "metadata": {},
   "outputs": [],
   "source": [
    "def row_to_tra_aa(row: Series) -> str:\n",
    "    stitchr_output = subprocess.run([\n",
    "        \"stitchr\",\n",
    "        \"-v\", row.TRAV,\n",
    "        \"-j\", row.TRAJ,\n",
    "        \"-cdr3\", row.CDR3A,\n",
    "        \"-m\", \"AA\"\n",
    "    ])\n",
    "    return stitchr_output.stdout"
   ]
  },
  {
   "cell_type": "code",
   "execution_count": 14,
   "metadata": {},
   "outputs": [
    {
     "name": "stdout",
     "output_type": "stream",
     "text": [
      "MVLKFSVSILWIQLAWVSTQLLEQSPQFLSIQEGENLTVYCNSSSVFSSLQWYRQEPGEGPVLLVTVVTGGEVKKLKRLTFQFGDARKDSSLHITAAQPGDTGLYLCAGAGSQGNLIFGKGTKLSVKPNIQNPDPAVYQLRDSKSSDKSVCLFTDFDSQTNVSQSKDSDVYITDKTVLDMRSMDFKSNSAVAWSNKSDFACANAFNNSIIPEDTFFPSPESSCDVKLVEKSFETDTNLNFQNLSVIGFRILLLKVAGFNLLMTLRLWSS\n"
     ]
    }
   ],
   "source": [
    "row_to_tra_aa(vdjdb_cleaned.iloc[0])"
   ]
  },
  {
   "cell_type": "code",
   "execution_count": null,
   "metadata": {},
   "outputs": [],
   "source": []
  }
 ],
 "metadata": {
  "kernelspec": {
   "display_name": "sceptr_publication_analyses",
   "language": "python",
   "name": "python3"
  },
  "language_info": {
   "codemirror_mode": {
    "name": "ipython",
    "version": 3
   },
   "file_extension": ".py",
   "mimetype": "text/x-python",
   "name": "python",
   "nbconvert_exporter": "python",
   "pygments_lexer": "ipython3",
   "version": "3.11.8"
  }
 },
 "nbformat": 4,
 "nbformat_minor": 2
}
