{
 "cells": [
  {
   "cell_type": "code",
   "execution_count": null,
   "metadata": {},
   "outputs": [],
   "source": [
    "import os\n",
    "from pathlib import Path\n",
    "\n",
    "if \"PROJECT_ROOT\" not in globals():\n",
    "    PROJECT_ROOT = Path.cwd().parent.resolve()\n",
    "\n",
    "os.chdir(PROJECT_ROOT)"
   ]
  },
  {
   "cell_type": "code",
   "execution_count": null,
   "metadata": {},
   "outputs": [],
   "source": [
    "from matplotlib import pyplot as plt\n",
    "import numpy as np\n",
    "import pandas as pd\n",
    "from pandas import DataFrame, Series\n",
    "from paths import DATA_DIR\n",
    "from pyrepseq.metric import tcr_metric\n",
    "from sceptr import variant\n",
    "from scipy import stats\n",
    "\n",
    "plt.style.use(\"ggplot\")\n",
    "plt.style.use(\"my.mplstyle\")"
   ]
  },
  {
   "cell_type": "code",
   "execution_count": null,
   "metadata": {},
   "outputs": [],
   "source": [
    "def get_nn_pairs(anchors: DataFrame, comparisons: DataFrame, model) -> list[tuple[int, int]]:\n",
    "    anchor_indices = anchors.index.to_list()\n",
    "    cdist_matrix = model.calc_cdist_matrix(anchors, comparisons)\n",
    "    cdist_matrix[range(len(anchors)),anchor_indices] = 1000\n",
    "\n",
    "    nn_indices = np.argmin(cdist_matrix, axis=1)\n",
    "    return [tuple(sorted((a_idx, c_idx))) for a_idx, c_idx in zip(anchor_indices, nn_indices)]"
   ]
  },
  {
   "cell_type": "code",
   "execution_count": null,
   "metadata": {},
   "outputs": [],
   "source": [
    "# Load all TCRs from Tanno test set\n",
    "tanno_test = pd.read_csv(DATA_DIR/\"preprocessed\"/\"tanno\"/\"test.csv\")\n",
    "\n",
    "# Get 500 random near-distance TCR pairs according to SCEPTR\n",
    "sceptr_model = variant.default()\n",
    "sceptr_500_tcrs = tanno_test.sample(n=500, random_state=420)\n",
    "sceptr_500_pairs = get_nn_pairs(sceptr_500_tcrs, tanno_test, sceptr_model)"
   ]
  },
  {
   "cell_type": "code",
   "execution_count": null,
   "metadata": {},
   "outputs": [],
   "source": [
    "# Get 500 random near-distance TCR pairs according to TCRdist\n",
    "tcrdist_model = tcr_metric.Tcrdist()\n",
    "tcrdist_500_tcrs = tanno_test.sample(n=500, random_state=421)\n",
    "tcrdist_500_pairs = get_nn_pairs(tcrdist_500_tcrs, tanno_test, tcrdist_model)"
   ]
  },
  {
   "cell_type": "code",
   "execution_count": null,
   "metadata": {},
   "outputs": [],
   "source": [
    "combined_pairs = list(set(sceptr_500_pairs + tcrdist_500_pairs))\n",
    "\n",
    "sceptr_dists = []\n",
    "tcrdist_dists = []\n",
    "\n",
    "for pair in combined_pairs:\n",
    "    tcr_pair = tanno_test.loc[list(pair)]\n",
    "    sceptr_dists.append(sceptr_model.calc_pdist_vector(tcr_pair).item())\n",
    "    tcrdist_dists.append(tcrdist_model.calc_pdist_vector(tcr_pair).item())"
   ]
  },
  {
   "cell_type": "code",
   "execution_count": null,
   "metadata": {},
   "outputs": [],
   "source": [
    "# Calculate density estimates\n",
    "coords = np.vstack([sceptr_dists, tcrdist_dists])\n",
    "gaussian_kde = stats.gaussian_kde(coords)\n",
    "density_estimates = gaussian_kde(coords)"
   ]
  },
  {
   "cell_type": "code",
   "execution_count": null,
   "metadata": {},
   "outputs": [],
   "source": [
    "plt.figure(figsize=(4,4))\n",
    "plt.scatter(sceptr_dists, tcrdist_dists, s=10, c=density_estimates)\n",
    "plt.xlabel(\"SCEPTR distance\")\n",
    "plt.ylabel(\"TCRdist distance\")\n",
    "plt.show()"
   ]
  },
  {
   "cell_type": "code",
   "execution_count": null,
   "metadata": {},
   "outputs": [],
   "source": [
    "tcr_dist_df = DataFrame(combined_pairs, columns=[\"anchor_idx\", \"comparison_idx\"])\n",
    "tcr_dist_df[\"SCEPTR\"] = sceptr_dists\n",
    "tcr_dist_df[\"TCRdist\"] = tcrdist_dists\n",
    "tcr_dist_df.head()"
   ]
  },
  {
   "cell_type": "code",
   "execution_count": null,
   "metadata": {},
   "outputs": [],
   "source": [
    "summaries = []\n",
    "indices = []\n",
    "\n",
    "def get_summary_for_pair_of_interest(pair_info, source_tcr_df) -> Series:\n",
    "    tcrs = tanno_test.loc[pair_info.loc[[\"anchor_idx\", \"comparison_idx\"]]]\n",
    "    tcrs = tcrs[[\"TRAV\", \"CDR3A\", \"TRBV\", \"CDR3B\"]]\n",
    "\n",
    "    anchor_tcr = tcrs.iloc[0]\n",
    "    anchor_tcr.index = [\"TRAV_anchor\", \"CDR3A_anchor\", \"TRBV_anchor\", \"CDR3B_anchor\"]\n",
    "\n",
    "    comp_tcr = tcrs.iloc[1]\n",
    "    comp_tcr.index = [\"TRAV_comp\", \"CDR3A_comp\", \"TRBV_comp\", \"CDR3B_comp\"]\n",
    "\n",
    "    summary = pd.concat([anchor_tcr, comp_tcr, pair_info[[\"SCEPTR\", \"TCRdist\"]]])\n",
    "\n",
    "    return summary\n",
    "\n",
    "def get_pair_indices(pair_info) -> tuple[int, int]:\n",
    "    return tuple(pair_info.loc[[\"anchor_idx\", \"comparison_idx\"]])"
   ]
  },
  {
   "cell_type": "code",
   "execution_count": null,
   "metadata": {},
   "outputs": [],
   "source": [
    "# Find the pair with the max tcrdist\n",
    "max_tcrdist_pair = tcr_dist_df.iloc[tcr_dist_df[\"TCRdist\"].argmax()]\n",
    "\n",
    "summaries.append(get_summary_for_pair_of_interest(max_tcrdist_pair, tanno_test))\n",
    "indices.append(get_pair_indices(max_tcrdist_pair))"
   ]
  },
  {
   "cell_type": "code",
   "execution_count": null,
   "metadata": {},
   "outputs": [],
   "source": [
    "# Find pair with comparable SCEPTR dist but lower TCRdist\n",
    "temp_df = tcr_dist_df[tcr_dist_df[\"SCEPTR\"] >= max_tcrdist_pair[\"SCEPTR\"]]\n",
    "comparison_pair = temp_df.iloc[temp_df[\"TCRdist\"].argmin()]\n",
    "\n",
    "summaries.append(get_summary_for_pair_of_interest(comparison_pair, tanno_test))\n",
    "indices.append(get_pair_indices(comparison_pair))"
   ]
  },
  {
   "cell_type": "code",
   "execution_count": null,
   "metadata": {},
   "outputs": [],
   "source": [
    "# Find pair with max SCEPTR dist\n",
    "max_sceptr_dist_pair = tcr_dist_df.iloc[tcr_dist_df[\"SCEPTR\"].argmax()]\n",
    "\n",
    "summaries.append(get_summary_for_pair_of_interest(max_sceptr_dist_pair, tanno_test))\n",
    "indices.append(get_pair_indices(max_sceptr_dist_pair))"
   ]
  },
  {
   "cell_type": "code",
   "execution_count": null,
   "metadata": {},
   "outputs": [],
   "source": [
    "# Find pair with comparable TCRdist but lower SCEPTR dist\n",
    "temp_df = tcr_dist_df[tcr_dist_df[\"TCRdist\"] >= max_sceptr_dist_pair[\"TCRdist\"]]\n",
    "comparison_pair = temp_df.iloc[temp_df[\"SCEPTR\"].argmin()]\n",
    "\n",
    "summaries.append(get_summary_for_pair_of_interest(comparison_pair, tanno_test))\n",
    "indices.append(get_pair_indices(comparison_pair))"
   ]
  },
  {
   "cell_type": "code",
   "execution_count": null,
   "metadata": {},
   "outputs": [],
   "source": [
    "summaries = DataFrame(summaries)\n",
    "summaries.to_csv(\"pairs_of_interest.csv\", index=False)"
   ]
  },
  {
   "cell_type": "code",
   "execution_count": null,
   "metadata": {},
   "outputs": [],
   "source": [
    "plt.figure(figsize=(4,4))\n",
    "\n",
    "plt.scatter(sceptr_dists, tcrdist_dists, s=10, c=density_estimates)\n",
    "plt.scatter(summaries[\"SCEPTR\"], summaries[\"TCRdist\"], s=10, c=\"r\")\n",
    "\n",
    "plt.xlabel(\"SCEPTR distance\")\n",
    "plt.ylabel(\"TCRdist distance\")\n",
    "plt.show()"
   ]
  },
  {
   "cell_type": "code",
   "execution_count": null,
   "metadata": {},
   "outputs": [],
   "source": []
  }
 ],
 "metadata": {
  "kernelspec": {
   "display_name": ".venv",
   "language": "python",
   "name": "python3"
  },
  "language_info": {
   "codemirror_mode": {
    "name": "ipython",
    "version": 3
   },
   "file_extension": ".py",
   "mimetype": "text/x-python",
   "name": "python",
   "nbconvert_exporter": "python",
   "pygments_lexer": "ipython3",
   "version": "3.11.9"
  }
 },
 "nbformat": 4,
 "nbformat_minor": 2
}
