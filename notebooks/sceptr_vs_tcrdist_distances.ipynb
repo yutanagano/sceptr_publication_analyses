{
 "cells": [
  {
   "cell_type": "code",
   "execution_count": null,
   "metadata": {},
   "outputs": [],
   "source": [
    "import os\n",
    "from pathlib import Path\n",
    "\n",
    "if \"PROJECT_ROOT\" not in globals():\n",
    "    PROJECT_ROOT = Path.cwd().parent.resolve()\n",
    "\n",
    "os.chdir(PROJECT_ROOT)"
   ]
  },
  {
   "cell_type": "code",
   "execution_count": null,
   "metadata": {},
   "outputs": [],
   "source": [
    "from matplotlib import pyplot as plt\n",
    "import numpy as np\n",
    "import pandas as pd\n",
    "from paths import DATA_DIR\n",
    "from pyrepseq.metric import tcr_metric\n",
    "from sceptr import variant\n",
    "from scipy import stats\n",
    "\n",
    "plt.style.use(\"ggplot\")\n",
    "plt.style.use(\"my.mplstyle\")"
   ]
  },
  {
   "cell_type": "code",
   "execution_count": null,
   "metadata": {},
   "outputs": [],
   "source": [
    "# Sample a set of TCRs from the Tanno et al. test subset\n",
    "tanno_test = pd.read_csv(DATA_DIR/\"preprocessed\"/\"tanno\"/\"test.csv\")\n",
    "subsample = tanno_test.sample(n=1000, random_state=420)\n",
    "\n",
    "# Measure pdist of this TCR set using both SCEPTR and TCRdist\n",
    "sceptr_model = variant.default()\n",
    "tcrdist_model = tcr_metric.Tcrdist()\n",
    "\n",
    "sceptr_pdist = sceptr_model.calc_pdist_vector(subsample)\n",
    "tcrdist_pdist = tcrdist_model.calc_pdist_vector(subsample)"
   ]
  },
  {
   "cell_type": "code",
   "execution_count": null,
   "metadata": {},
   "outputs": [],
   "source": [
    "# Calculate density estimates\n",
    "coords = np.vstack([sceptr_pdist, tcrdist_pdist])\n",
    "coords_subsampled = coords[:, np.random.choice(coords.shape[1], 1000, replace=False)]\n",
    "gaussian_kde = stats.gaussian_kde(coords_subsampled)\n",
    "density_estimates = gaussian_kde(coords)"
   ]
  },
  {
   "cell_type": "code",
   "execution_count": null,
   "metadata": {},
   "outputs": [],
   "source": [
    "plt.figure(figsize=(4,4))\n",
    "plt.scatter(sceptr_pdist, tcrdist_pdist, s=1, c=density_estimates)\n",
    "plt.xlabel(\"SCEPTR distance\")\n",
    "plt.ylabel(\"TCRdist distance\")\n",
    "plt.show()"
   ]
  },
  {
   "cell_type": "code",
   "execution_count": null,
   "metadata": {},
   "outputs": [],
   "source": []
  }
 ],
 "metadata": {
  "kernelspec": {
   "display_name": ".venv",
   "language": "python",
   "name": "python3"
  },
  "language_info": {
   "codemirror_mode": {
    "name": "ipython",
    "version": 3
   },
   "file_extension": ".py",
   "mimetype": "text/x-python",
   "name": "python",
   "nbconvert_exporter": "python",
   "pygments_lexer": "ipython3",
   "version": "3.11.9"
  }
 },
 "nbformat": 4,
 "nbformat_minor": 2
}
