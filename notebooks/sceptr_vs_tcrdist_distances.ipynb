{
 "cells": [
  {
   "cell_type": "code",
   "execution_count": 1,
   "metadata": {},
   "outputs": [],
   "source": [
    "import os\n",
    "from pathlib import Path\n",
    "\n",
    "if \"PROJECT_ROOT\" not in globals():\n",
    "    PROJECT_ROOT = Path.cwd().parent.resolve()\n",
    "\n",
    "os.chdir(PROJECT_ROOT)"
   ]
  },
  {
   "cell_type": "code",
   "execution_count": null,
   "metadata": {},
   "outputs": [],
   "source": [
    "from matplotlib import pyplot as plt\n",
    "from matplotlib import colors as mcolors\n",
    "import numpy as np\n",
    "import pandas as pd\n",
    "from pandas import DataFrame, Series\n",
    "from paths import DATA_DIR\n",
    "from pyrepseq.metric import tcr_metric\n",
    "from sceptr import variant\n",
    "import seaborn as sns\n",
    "from scipy import stats\n",
    "\n",
    "plt.style.use(\"ggplot\")\n",
    "plt.style.use(\"my.mplstyle\")"
   ]
  },
  {
   "cell_type": "code",
   "execution_count": 3,
   "metadata": {},
   "outputs": [],
   "source": [
    "# Load Tanno test data and take small subsample\n",
    "tanno_test = pd.read_csv(DATA_DIR/\"preprocessed\"/\"tanno\"/\"test.csv\")\n",
    "tanno_sample = tanno_test.sample(n=1000, random_state=420)"
   ]
  },
  {
   "cell_type": "code",
   "execution_count": null,
   "metadata": {},
   "outputs": [],
   "source": [
    "tanno_sample.head()"
   ]
  },
  {
   "cell_type": "code",
   "execution_count": 5,
   "metadata": {},
   "outputs": [],
   "source": [
    "# Load in all necessary models\n",
    "sceptr_model = variant.default()\n",
    "tcrdist_model = tcr_metric.Tcrdist()\n",
    "tcrdist_a_model = tcr_metric.AlphaTcrdist()\n",
    "tcrdist_b_model = tcr_metric.BetaTcrdist()"
   ]
  },
  {
   "cell_type": "code",
   "execution_count": null,
   "metadata": {},
   "outputs": [],
   "source": [
    "# Compute pdists\n",
    "sceptr_pdist = sceptr_model.calc_pdist_vector(tanno_sample)\n",
    "tcrdist_pdist = tcrdist_model.calc_pdist_vector(tanno_sample)\n",
    "tcrdist_a_pdist = tcrdist_a_model.calc_pdist_vector(tanno_sample)\n",
    "tcrdist_b_pdist = tcrdist_b_model.calc_pdist_vector(tanno_sample)"
   ]
  },
  {
   "cell_type": "markdown",
   "metadata": {},
   "source": [
    "### Overview plot"
   ]
  },
  {
   "cell_type": "code",
   "execution_count": 7,
   "metadata": {},
   "outputs": [],
   "source": [
    "def random_subsample_indices(k: int, out_of: int):\n",
    "    return np.random.choice(out_of, k, replace=False)"
   ]
  },
  {
   "cell_type": "code",
   "execution_count": 8,
   "metadata": {},
   "outputs": [],
   "source": [
    "coords = np.vstack([sceptr_pdist, tcrdist_pdist])\n",
    "coords_1k = coords[:, random_subsample_indices(1000, len(tanno_sample))]\n",
    "gaussian_kde = stats.gaussian_kde(coords_1k)\n",
    "density_estimates = gaussian_kde(coords)"
   ]
  },
  {
   "cell_type": "code",
   "execution_count": null,
   "metadata": {},
   "outputs": [],
   "source": [
    "plt.figure(figsize=(4,4))\n",
    "\n",
    "plt.scatter(*coords, s=1, c=density_estimates)\n",
    "\n",
    "plt.xlabel(\"SCEPTR distance\")\n",
    "plt.ylabel(\"TCRdist distance\")\n",
    "cb = plt.colorbar()\n",
    "cb.set_label(\"Estimated density\")\n",
    "\n",
    "plt.show()"
   ]
  },
  {
   "cell_type": "markdown",
   "metadata": {},
   "source": [
    "### Why do some pairs with similar TCRdist have different SCEPTR dists?"
   ]
  },
  {
   "cell_type": "code",
   "execution_count": 10,
   "metadata": {},
   "outputs": [],
   "source": [
    "# Calculate average p_Gen\n",
    "pgens = tanno_sample.apply(\n",
    "    lambda row: row[\"alpha_pgen\"] * row[\"beta_pgen\"],\n",
    "    axis=\"columns\"\n",
    ").to_numpy()\n",
    "\n",
    "num_tcrs = len(tanno_sample)\n",
    "avg_pgens = np.empty(num_tcrs * (num_tcrs - 1) // 2)\n",
    "min_pgens = np.empty(num_tcrs * (num_tcrs - 1) // 2)\n",
    "\n",
    "pair_idx = 0\n",
    "for anchor_idx in range(num_tcrs-1):\n",
    "    for comparison_idx in range(anchor_idx+1, num_tcrs):\n",
    "        avg_pgens[pair_idx] = (pgens[anchor_idx] + pgens[comparison_idx]) / 2\n",
    "        min_pgens[pair_idx] = min(pgens[anchor_idx], pgens[comparison_idx])\n",
    "        pair_idx += 1"
   ]
  },
  {
   "cell_type": "code",
   "execution_count": null,
   "metadata": {},
   "outputs": [],
   "source": [
    "plt.figure(figsize=(4,4))\n",
    "\n",
    "plt.scatter(sceptr_pdist, tcrdist_pdist, s=1, c=min_pgens, norm=mcolors.LogNorm())\n",
    "\n",
    "plt.xlabel(\"SCEPTR distance\")\n",
    "plt.ylabel(\"TCRdist distance\")\n",
    "cb = plt.colorbar()\n",
    "cb.set_label(r\"$p_{Gen}$\")\n",
    "\n",
    "plt.show()"
   ]
  },
  {
   "cell_type": "code",
   "execution_count": null,
   "metadata": {},
   "outputs": [],
   "source": [
    "tcrdist_min_chain = np.min(np.stack([tcrdist_a_pdist, tcrdist_b_pdist], axis=1), axis=1)\n",
    "tcrdist_max_chain = np.max(np.stack([tcrdist_a_pdist, tcrdist_b_pdist], axis=1), axis=1)\n",
    "\n",
    "plt.figure(figsize=(4,4))\n",
    "\n",
    "plt.scatter(sceptr_pdist, tcrdist_pdist, s=1, c=tcrdist_max_chain - tcrdist_min_chain)\n",
    "\n",
    "plt.xlabel(\"SCEPTR distance\")\n",
    "plt.ylabel(\"TCRdist distance\")\n",
    "cb = plt.colorbar()\n",
    "cb.set_label(r\"Difference between $\\alpha$ and $\\beta$ chain TCRdist distances\")\n",
    "\n",
    "plt.show()"
   ]
  },
  {
   "cell_type": "code",
   "execution_count": 19,
   "metadata": {},
   "outputs": [],
   "source": [
    "def plot_line_best_fit(x, y, ax = None, log_y = False):\n",
    "    if ax is None:\n",
    "        ax = plt.gca()\n",
    "\n",
    "    if log_y:\n",
    "        y = np.log(y)\n",
    "\n",
    "    w = np.linalg.lstsq(np.vstack([x, np.ones(len(x))]).T, y, rcond=None)[0]\n",
    "\n",
    "    xx = np.linspace(*plt.gca().get_xlim()).T\n",
    "    yy = w[0]*xx + w[1]\n",
    "\n",
    "    if log_y:\n",
    "        yy = np.exp(yy)\n",
    "\n",
    "    ax.plot(xx, yy)"
   ]
  },
  {
   "cell_type": "code",
   "execution_count": null,
   "metadata": {},
   "outputs": [],
   "source": [
    "# Pairs that are close according to SCEPTR\n",
    "non_zero_pgen = min_pgens > 0\n",
    "close_sceptr_mask = (sceptr_pdist >= 0.98) * (sceptr_pdist <= 1.02) * non_zero_pgen\n",
    "\n",
    "plt.figure(figsize=(4,4))\n",
    "\n",
    "plt.scatter(tcrdist_pdist[close_sceptr_mask], np.log10(min_pgens[close_sceptr_mask]))\n",
    "plot_line_best_fit(tcrdist_pdist[close_sceptr_mask], np.log10(min_pgens[close_sceptr_mask]))\n",
    "\n",
    "cor_results = stats.pearsonr(tcrdist_pdist[close_sceptr_mask], np.log10(min_pgens[close_sceptr_mask]))\n",
    "plt.text(100,-28,f\"$r = {cor_results.statistic:.3f}$\\n$p = {cor_results.pvalue:.2e}$\")\n",
    "\n",
    "plt.xlabel(\"TCRdist distance\")\n",
    "plt.ylabel(r\"$\\log_{10}(p_{Gen})$\")\n",
    "\n",
    "plt.show()"
   ]
  },
  {
   "cell_type": "code",
   "execution_count": null,
   "metadata": {},
   "outputs": [],
   "source": [
    "# Pairs that are close according to TCRdist\n",
    "close_tcrdist_mask = (tcrdist_pdist >= 145) * (tcrdist_pdist <= 155) * non_zero_pgen\n",
    "\n",
    "plt.figure(figsize=(4,4))\n",
    "\n",
    "plt.scatter(sceptr_pdist[close_tcrdist_mask], np.log10(min_pgens[close_tcrdist_mask]))\n",
    "plot_line_best_fit(sceptr_pdist[close_tcrdist_mask], np.log10(min_pgens[close_tcrdist_mask]))\n",
    "\n",
    "cor_results = stats.pearsonr(sceptr_pdist[close_tcrdist_mask], np.log10(min_pgens[close_tcrdist_mask]))\n",
    "plt.text(0.9,-29,f\"$r = {cor_results.statistic:.3f}$\\n$p = {cor_results.pvalue:.3f}$\")\n",
    "\n",
    "plt.xlabel(\"SCEPTR distance\")\n",
    "plt.ylabel(r\"$\\log_{10}(p_{Gen})$\")\n",
    "\n",
    "plt.show()"
   ]
  },
  {
   "cell_type": "code",
   "execution_count": 63,
   "metadata": {},
   "outputs": [],
   "source": [
    "# Investigate power means\n",
    "alphas = np.linspace(1-50,1+50,101)\n",
    "rhos = [\n",
    "    stats.pearsonr(\n",
    "        sceptr_pdist,\n",
    "        stats.pmean(\n",
    "            np.vstack([tcrdist_a_pdist, tcrdist_b_pdist]),\n",
    "            p=alpha,\n",
    "            axis=0\n",
    "        )\n",
    "    ).statistic\n",
    "    for alpha in alphas\n",
    "]"
   ]
  },
  {
   "cell_type": "code",
   "execution_count": null,
   "metadata": {},
   "outputs": [],
   "source": [
    "plt.figure(figsize=(4,4))\n",
    "plt.plot(alphas, rhos)\n",
    "\n",
    "plt.xlabel('Power mean exponent')\n",
    "plt.ylabel('Pearson r')"
   ]
  },
  {
   "cell_type": "code",
   "execution_count": null,
   "metadata": {},
   "outputs": [],
   "source": []
  }
 ],
 "metadata": {
  "kernelspec": {
   "display_name": ".venv",
   "language": "python",
   "name": "python3"
  },
  "language_info": {
   "codemirror_mode": {
    "name": "ipython",
    "version": 3
   },
   "file_extension": ".py",
   "mimetype": "text/x-python",
   "name": "python",
   "nbconvert_exporter": "python",
   "pygments_lexer": "ipython3",
   "version": "3.11.9"
  }
 },
 "nbformat": 4,
 "nbformat_minor": 2
}
