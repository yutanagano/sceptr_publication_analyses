{
 "cells": [
  {
   "cell_type": "code",
   "execution_count": 1,
   "metadata": {},
   "outputs": [],
   "source": [
    "import os\n",
    "from pathlib import Path\n",
    "\n",
    "if \"PROJECT_ROOT\" not in globals():\n",
    "    PROJECT_ROOT = Path.cwd().parent.resolve()\n",
    "\n",
    "os.chdir(PROJECT_ROOT)"
   ]
  },
  {
   "cell_type": "code",
   "execution_count": 2,
   "metadata": {},
   "outputs": [],
   "source": [
    "import pandas as pd\n",
    "from utils import ModelForAnalysis"
   ]
  },
  {
   "cell_type": "code",
   "execution_count": 3,
   "metadata": {},
   "outputs": [],
   "source": [
    "RESULTS_DIR = PROJECT_ROOT/\"analysis_results\"\n",
    "\n",
    "LARGELY_SAMPLED_EPITOPES = pd.read_csv(\"analysis_results/CDR3 Levenshtein/ovr_nn_200_shot.csv\").epitope.unique()\n",
    "\n",
    "NUM_SHOTS_OF_INTEREST = [1,2,5,10,20,50,100,200]"
   ]
  },
  {
   "cell_type": "code",
   "execution_count": 9,
   "metadata": {},
   "outputs": [],
   "source": [
    "models = (\n",
    "    ModelForAnalysis(\"SCEPTR\", \"ovr_nn\", \"#7048e8\", \"d\", zorder=2),\n",
    "    ModelForAnalysis(\"TCRdist\", \"ovr_nn\", \"#f03e3e\", \"o\", zorder=1.9),\n",
    "    ModelForAnalysis(\"CDR3 Levenshtein\", \"ovr_nn\", \"#f76707\", \"^\"),\n",
    "    ModelForAnalysis(\"TCR-BERT\", \"ovr_nn\", \"#74b816\", \"s\"),\n",
    "    ModelForAnalysis(\"ESM2 (T6 8M)\", \"ovr_nn\", \"#37b24d\", \"p\"),\n",
    "    ModelForAnalysis(\"ProtBert\", \"ovr_nn\", \"#0ca678\", \"x\"),\n",
    ")\n",
    "\n",
    "summary_tex_table_strings = []\n",
    "\n",
    "for k in NUM_SHOTS_OF_INTEREST:\n",
    "    raw_results = [model.load_data(k) for model in models]\n",
    "    summary_per_model = [df.groupby(\"epitope\").aggregate({\"auc\": \"mean\"}) for df in raw_results]\n",
    "    summary_per_model = [s[s.index.isin(LARGELY_SAMPLED_EPITOPES)] for s in summary_per_model]\n",
    "\n",
    "    for model, df in zip(models, summary_per_model):\n",
    "        df.columns = [model.name]\n",
    "\n",
    "    summary = pd.concat(summary_per_model, axis=\"columns\")\n",
    "    summary_tex_table_strings.append(\n",
    "        summary.to_latex(\n",
    "            caption=r\"Per-epitope summary of the different models' perfomances from the nearest-neighbour prediction benchmarking (see section~\\ref{sec:benchmarking}) with the number of reference TCRs k=\" + str(k) + \".\",\n",
    "            label=f\"tab:per_epitope_aurocs_{k}_shot\"\n",
    "        )\n",
    "    )\n",
    "\n",
    "summary_tex_tables = \"\\n\".join(summary_tex_table_strings)\n",
    "\n",
    "with open(\"supplementary_auroc_tables.tex\", \"w\") as f:\n",
    "    f.write(summary_tex_tables)"
   ]
  },
  {
   "cell_type": "code",
   "execution_count": null,
   "metadata": {},
   "outputs": [],
   "source": []
  }
 ],
 "metadata": {
  "kernelspec": {
   "display_name": ".venv",
   "language": "python",
   "name": "python3"
  },
  "language_info": {
   "codemirror_mode": {
    "name": "ipython",
    "version": 3
   },
   "file_extension": ".py",
   "mimetype": "text/x-python",
   "name": "python",
   "nbconvert_exporter": "python",
   "pygments_lexer": "ipython3",
   "version": "3.11.9"
  }
 },
 "nbformat": 4,
 "nbformat_minor": 2
}
