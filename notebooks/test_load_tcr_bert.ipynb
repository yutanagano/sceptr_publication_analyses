{
 "cells": [
  {
   "cell_type": "code",
   "execution_count": 1,
   "metadata": {},
   "outputs": [
    {
     "name": "stderr",
     "output_type": "stream",
     "text": [
      "/home/yutanagano/Projects/sceptr_publication_analyses/.venv/lib/python3.11/site-packages/tqdm/auto.py:21: TqdmWarning: IProgress not found. Please update jupyter and ipywidgets. See https://ipywidgets.readthedocs.io/en/stable/user_install.html\n",
      "  from .autonotebook import tqdm as notebook_tqdm\n"
     ]
    }
   ],
   "source": [
    "import pandas as pd\n",
    "import torch\n",
    "from transformers import BertTokenizer, BertModel"
   ]
  },
  {
   "cell_type": "code",
   "execution_count": 2,
   "metadata": {},
   "outputs": [],
   "source": [
    "tokeniser = BertTokenizer.from_pretrained(\"wukevin/tcr-bert\")\n",
    "model = BertModel.from_pretrained(\"wukevin/tcr-bert\")"
   ]
  },
  {
   "cell_type": "code",
   "execution_count": 3,
   "metadata": {},
   "outputs": [],
   "source": [
    "df = pd.read_csv(\"../tcr_data/preprocessed/benchmarking/vdjdb_cleaned.csv\")"
   ]
  },
  {
   "cell_type": "code",
   "execution_count": 4,
   "metadata": {},
   "outputs": [
    {
     "data": {
      "text/html": [
       "<div>\n",
       "<style scoped>\n",
       "    .dataframe tbody tr th:only-of-type {\n",
       "        vertical-align: middle;\n",
       "    }\n",
       "\n",
       "    .dataframe tbody tr th {\n",
       "        vertical-align: top;\n",
       "    }\n",
       "\n",
       "    .dataframe thead th {\n",
       "        text-align: right;\n",
       "    }\n",
       "</style>\n",
       "<table border=\"1\" class=\"dataframe\">\n",
       "  <thead>\n",
       "    <tr style=\"text-align: right;\">\n",
       "      <th></th>\n",
       "      <th>TRAV</th>\n",
       "      <th>CDR3A</th>\n",
       "      <th>TRAJ</th>\n",
       "      <th>TRBV</th>\n",
       "      <th>CDR3B</th>\n",
       "      <th>TRBJ</th>\n",
       "      <th>Epitope</th>\n",
       "      <th>MHCA</th>\n",
       "      <th>MHCB</th>\n",
       "      <th>Epitope_species</th>\n",
       "      <th>Reference</th>\n",
       "    </tr>\n",
       "  </thead>\n",
       "  <tbody>\n",
       "    <tr>\n",
       "      <th>0</th>\n",
       "      <td>TRAV27*01</td>\n",
       "      <td>CAGAGSQGNLIF</td>\n",
       "      <td>TRAJ42*01</td>\n",
       "      <td>TRBV19*01</td>\n",
       "      <td>CASSSRSSYEQYF</td>\n",
       "      <td>TRBJ2-7*01</td>\n",
       "      <td>GILGFVFTL</td>\n",
       "      <td>HLA-A*02:01:48</td>\n",
       "      <td>B2M</td>\n",
       "      <td>InfluenzaA</td>\n",
       "      <td>PMID:12796775</td>\n",
       "    </tr>\n",
       "    <tr>\n",
       "      <th>1</th>\n",
       "      <td>TRAV27*01</td>\n",
       "      <td>CAGAGSQGNLIF</td>\n",
       "      <td>TRAJ42*01</td>\n",
       "      <td>TRBV19*01</td>\n",
       "      <td>CASSSRSSYEQYF</td>\n",
       "      <td>TRBJ2-7*01</td>\n",
       "      <td>GILGFVFTL</td>\n",
       "      <td>HLA-A*02:01:48</td>\n",
       "      <td>B2M</td>\n",
       "      <td>InfluenzaA</td>\n",
       "      <td>PMID:18275829</td>\n",
       "    </tr>\n",
       "    <tr>\n",
       "      <th>2</th>\n",
       "      <td>TRAV27*01</td>\n",
       "      <td>CAGAGSQGNLIF</td>\n",
       "      <td>TRAJ42*01</td>\n",
       "      <td>TRBV19*01</td>\n",
       "      <td>CASSSRASYEQYF</td>\n",
       "      <td>TRBJ2-7*01</td>\n",
       "      <td>GILGFVFTL</td>\n",
       "      <td>HLA-A*02:01:48</td>\n",
       "      <td>B2M</td>\n",
       "      <td>InfluenzaA</td>\n",
       "      <td>PMID:18275829</td>\n",
       "    </tr>\n",
       "    <tr>\n",
       "      <th>3</th>\n",
       "      <td>TRAV24*01</td>\n",
       "      <td>CARNTGNQFYF</td>\n",
       "      <td>TRAJ49*01</td>\n",
       "      <td>TRBV6-5*01</td>\n",
       "      <td>CASSPVTGGIYGYTF</td>\n",
       "      <td>TRBJ1-2*01</td>\n",
       "      <td>NLVPMVATV</td>\n",
       "      <td>HLA-A*02:01:98</td>\n",
       "      <td>B2M</td>\n",
       "      <td>CMV</td>\n",
       "      <td>PMID:19542454</td>\n",
       "    </tr>\n",
       "    <tr>\n",
       "      <th>4</th>\n",
       "      <td>TRAV5*01</td>\n",
       "      <td>CAEDNNARLMF</td>\n",
       "      <td>TRAJ31*01</td>\n",
       "      <td>TRBV20-1*01</td>\n",
       "      <td>CSARDGTGNGYTF</td>\n",
       "      <td>TRBJ1-2*01</td>\n",
       "      <td>GLCTLVAML</td>\n",
       "      <td>HLA-A*02:01:48</td>\n",
       "      <td>B2M</td>\n",
       "      <td>EBV</td>\n",
       "      <td>PMID:21124993</td>\n",
       "    </tr>\n",
       "  </tbody>\n",
       "</table>\n",
       "</div>"
      ],
      "text/plain": [
       "        TRAV         CDR3A       TRAJ         TRBV            CDR3B  \\\n",
       "0  TRAV27*01  CAGAGSQGNLIF  TRAJ42*01    TRBV19*01    CASSSRSSYEQYF   \n",
       "1  TRAV27*01  CAGAGSQGNLIF  TRAJ42*01    TRBV19*01    CASSSRSSYEQYF   \n",
       "2  TRAV27*01  CAGAGSQGNLIF  TRAJ42*01    TRBV19*01    CASSSRASYEQYF   \n",
       "3  TRAV24*01   CARNTGNQFYF  TRAJ49*01   TRBV6-5*01  CASSPVTGGIYGYTF   \n",
       "4   TRAV5*01   CAEDNNARLMF  TRAJ31*01  TRBV20-1*01    CSARDGTGNGYTF   \n",
       "\n",
       "         TRBJ    Epitope            MHCA MHCB Epitope_species      Reference  \n",
       "0  TRBJ2-7*01  GILGFVFTL  HLA-A*02:01:48  B2M      InfluenzaA  PMID:12796775  \n",
       "1  TRBJ2-7*01  GILGFVFTL  HLA-A*02:01:48  B2M      InfluenzaA  PMID:18275829  \n",
       "2  TRBJ2-7*01  GILGFVFTL  HLA-A*02:01:48  B2M      InfluenzaA  PMID:18275829  \n",
       "3  TRBJ1-2*01  NLVPMVATV  HLA-A*02:01:98  B2M             CMV  PMID:19542454  \n",
       "4  TRBJ1-2*01  GLCTLVAML  HLA-A*02:01:48  B2M             EBV  PMID:21124993  "
      ]
     },
     "execution_count": 4,
     "metadata": {},
     "output_type": "execute_result"
    }
   ],
   "source": [
    "df.head()"
   ]
  },
  {
   "cell_type": "code",
   "execution_count": 5,
   "metadata": {},
   "outputs": [],
   "source": [
    "if torch.cuda.is_available():\n",
    "    device = torch.device(\"cuda:0\")\n",
    "else:\n",
    "    device = torch.device(\"cpu\")\n",
    "\n",
    "model = model.to(device)"
   ]
  },
  {
   "cell_type": "code",
   "execution_count": 6,
   "metadata": {},
   "outputs": [],
   "source": [
    "def separate_tokens(cdr3: str) -> str:\n",
    "    return \" \".join(list(cdr3))\n",
    "\n",
    "alpha_cdr3s = df.CDR3A.map(separate_tokens).to_list()\n",
    "beta_cdr3s = df.CDR3B.map(separate_tokens).to_list()"
   ]
  },
  {
   "cell_type": "code",
   "execution_count": 7,
   "metadata": {},
   "outputs": [],
   "source": [
    "tokens = tokeniser(beta_cdr3s, return_tensors=\"pt\", padding=True)\n",
    "tokens_on_device = {k: v.to(device) for k, v in tokens.items()}"
   ]
  },
  {
   "cell_type": "code",
   "execution_count": 10,
   "metadata": {},
   "outputs": [],
   "source": [
    "with torch.no_grad():\n",
    "    output = model(**tokens_on_device)"
   ]
  },
  {
   "cell_type": "code",
   "execution_count": 16,
   "metadata": {},
   "outputs": [
    {
     "data": {
      "text/plain": [
       "torch.Tensor"
      ]
     },
     "execution_count": 16,
     "metadata": {},
     "output_type": "execute_result"
    }
   ],
   "source": [
    "type(output.pooler_output)"
   ]
  },
  {
   "cell_type": "code",
   "execution_count": null,
   "metadata": {},
   "outputs": [],
   "source": [
    "torch."
   ]
  }
 ],
 "metadata": {
  "kernelspec": {
   "display_name": ".venv",
   "language": "python",
   "name": "python3"
  },
  "language_info": {
   "codemirror_mode": {
    "name": "ipython",
    "version": 3
   },
   "file_extension": ".py",
   "mimetype": "text/x-python",
   "name": "python",
   "nbconvert_exporter": "python",
   "pygments_lexer": "ipython3",
   "version": "3.11.5"
  }
 },
 "nbformat": 4,
 "nbformat_minor": 2
}
