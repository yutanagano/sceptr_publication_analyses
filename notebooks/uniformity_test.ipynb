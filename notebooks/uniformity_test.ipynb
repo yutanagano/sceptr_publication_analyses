{
 "cells": [
  {
   "cell_type": "code",
   "execution_count": null,
   "metadata": {},
   "outputs": [],
   "source": [
    "import os\n",
    "from pathlib import Path\n",
    "\n",
    "if \"PROJECT_ROOT\" not in globals():\n",
    "    PROJECT_ROOT = Path.cwd().parent.resolve()\n",
    "\n",
    "os.chdir(PROJECT_ROOT)"
   ]
  },
  {
   "cell_type": "code",
   "execution_count": null,
   "metadata": {},
   "outputs": [],
   "source": [
    "import numpy as np\n",
    "import pandas as pd\n",
    "from sceptr import variant"
   ]
  },
  {
   "cell_type": "code",
   "execution_count": null,
   "metadata": {},
   "outputs": [],
   "source": [
    "background_data = pd.read_csv(\"tcr_data/preprocessed/tanno/test.csv\")\n",
    "background_sample = background_data.sample(n=10_000, random_state=420)\n",
    "labelled_data = pd.read_csv(\"tcr_data/preprocessed/benchmarking/combined.csv\")"
   ]
  },
  {
   "cell_type": "code",
   "execution_count": null,
   "metadata": {},
   "outputs": [],
   "source": [
    "def uniformity(model, alpha: int = 1) -> float:\n",
    "    pdist = model.calc_pdist_vector(background_sample)\n",
    "    terms = np.exp(-(pdist ** alpha))\n",
    "    return np.log(terms.mean())\n",
    "\n",
    "def alignment(model, alpha: int = 1) -> float:\n",
    "    pdist = labelled_data.groupby(\"Epitope\").apply(lambda df: model.calc_pdist_vector(df), include_groups=False).to_list()\n",
    "    pdist = np.concatenate(pdist)\n",
    "    return np.mean(pdist ** alpha)"
   ]
  },
  {
   "cell_type": "code",
   "execution_count": null,
   "metadata": {},
   "outputs": [],
   "source": [
    "VARIANTS = (\n",
    "    variant.default(),\n",
    "    variant.mlm_only(),\n",
    ")\n",
    "\n",
    "results = pd.DataFrame.from_records([\n",
    "    {\"variant\": model.name, \"alignment\": alignment(model), \"uniformity\": uniformity(model)} for model in VARIANTS\n",
    "])\n",
    "results[\"sum\"] = results[\"alignment\"] + results[\"uniformity\"]\n",
    "results = results.set_index(\"variant\")"
   ]
  },
  {
   "cell_type": "code",
   "execution_count": null,
   "metadata": {},
   "outputs": [],
   "source": [
    "results"
   ]
  },
  {
   "cell_type": "code",
   "execution_count": null,
   "metadata": {},
   "outputs": [],
   "source": []
  }
 ],
 "metadata": {
  "kernelspec": {
   "display_name": ".venv",
   "language": "python",
   "name": "python3"
  },
  "language_info": {
   "codemirror_mode": {
    "name": "ipython",
    "version": 3
   },
   "file_extension": ".py",
   "mimetype": "text/x-python",
   "name": "python",
   "nbconvert_exporter": "python",
   "pygments_lexer": "ipython3",
   "version": "3.11.9"
  }
 },
 "nbformat": 4,
 "nbformat_minor": 2
}
