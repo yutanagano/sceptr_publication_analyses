{
 "cells": [
  {
   "cell_type": "code",
   "execution_count": 1,
   "metadata": {},
   "outputs": [],
   "source": [
    "import os\n",
    "from pathlib import Path\n",
    "\n",
    "if \"PROJECT_ROOT\" not in globals():\n",
    "    PROJECT_ROOT = Path.cwd().parent.resolve()\n",
    "\n",
    "os.chdir(PROJECT_ROOT)"
   ]
  },
  {
   "cell_type": "code",
   "execution_count": 2,
   "metadata": {},
   "outputs": [],
   "source": [
    "from matplotlib import pyplot as plt\n",
    "import pandas as pd\n",
    "import utils\n",
    "from utils import ModelForAnalysis\n",
    "\n",
    "plt.style.use(\"ggplot\")\n",
    "plt.style.use(\"my.mplstyle\")"
   ]
  },
  {
   "cell_type": "code",
   "execution_count": 3,
   "metadata": {},
   "outputs": [],
   "source": [
    "RESULTS_DIR = PROJECT_ROOT/\"analysis_results\"\n",
    "\n",
    "LARGELY_SAMPLED_EPITOPES = pd.read_csv(\"analysis_results/CDR3 Levenshtein/ovr_nn_200_shot.csv\").epitope.unique()\n",
    "\n",
    "NUM_SHOTS_OF_INTEREST = [1,2,5,10,20,50,100,200]"
   ]
  },
  {
   "cell_type": "code",
   "execution_count": null,
   "metadata": {},
   "outputs": [],
   "source": [
    "fig, ax = plt.subplots(ncols=3, sharey=True, sharex=True, figsize=(15/2.54,10/2.54))\n",
    "\n",
    "tasks = (\n",
    "    \"ovr_nn\",\n",
    "    \"ovr_nn_a\",\n",
    "    \"ovr_nn_b\"\n",
    ")\n",
    "\n",
    "headers = (\n",
    "    r\"$\\alpha\\beta$\",\n",
    "    r\"$\\alpha$\",\n",
    "    r\"$\\beta$\"\n",
    ")\n",
    "\n",
    "for i, task in enumerate(tasks):\n",
    "    models = (\n",
    "        ModelForAnalysis(\"SCEPTR\", task, \"#7048e8\", \"d\", zorder=2),\n",
    "        ModelForAnalysis(\"TCRdist\", task, \"#f03e3e\", \"o\"),\n",
    "        ModelForAnalysis(\"SCEPTR (dropout noise only)\", task, \"#7048e8\", linestyle=\"--\", zorder=2),\n",
    "    )\n",
    "\n",
    "    utils.plot_performance_curves(models, NUM_SHOTS_OF_INTEREST, LARGELY_SAMPLED_EPITOPES, ax[i])\n",
    "\n",
    "    ax[i].set_ylabel(\"\")\n",
    "    ax[i].set_xlabel(\"\")\n",
    "    ax[i].set_title(headers[i])\n",
    "\n",
    "fig.supylabel(\"Mean AUROC\")\n",
    "fig.supxlabel(\"Number of Reference TCRs\")\n",
    "\n",
    "handles, labels = ax[0].get_legend_handles_labels()\n",
    "new_handles = [\n",
    "    plt.Line2D(\n",
    "        [0], [0],\n",
    "        color=handle[0].get_color(),\n",
    "        lw=handle[0].get_linewidth(),\n",
    "        linestyle=handle[0].get_linestyle(),\n",
    "        marker=handle[0].get_marker(),\n",
    "        markersize=handle[0].get_markersize()\n",
    "    )\n",
    "    for handle in handles\n",
    "    ]\n",
    "fig.legend(handles=new_handles, labels=labels, loc=\"upper center\", bbox_to_anchor=(0,-1,1,1), ncols=3)\n",
    "\n",
    "fig.tight_layout()"
   ]
  },
  {
   "cell_type": "code",
   "execution_count": null,
   "metadata": {},
   "outputs": [],
   "source": []
  }
 ],
 "metadata": {
  "kernelspec": {
   "display_name": ".venv",
   "language": "python",
   "name": "python3"
  },
  "language_info": {
   "codemirror_mode": {
    "name": "ipython",
    "version": 3
   },
   "file_extension": ".py",
   "mimetype": "text/x-python",
   "name": "python",
   "nbconvert_exporter": "python",
   "pygments_lexer": "ipython3",
   "version": "3.11.10"
  }
 },
 "nbformat": 4,
 "nbformat_minor": 2
}
