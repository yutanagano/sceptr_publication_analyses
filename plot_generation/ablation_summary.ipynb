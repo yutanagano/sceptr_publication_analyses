{
 "cells": [
  {
   "cell_type": "code",
   "execution_count": 1,
   "metadata": {},
   "outputs": [],
   "source": [
    "import os\n",
    "from pathlib import Path\n",
    "\n",
    "if \"PROJECT_ROOT\" not in globals():\n",
    "    PROJECT_ROOT = Path.cwd().parent.resolve()\n",
    "\n",
    "os.chdir(PROJECT_ROOT)"
   ]
  },
  {
   "cell_type": "code",
   "execution_count": 2,
   "metadata": {},
   "outputs": [],
   "source": [
    "from matplotlib import pyplot as plt\n",
    "from matplotlib.transforms import ScaledTranslation\n",
    "import pandas as pd\n",
    "import utils\n",
    "from utils import ModelForAnalysis\n",
    "\n",
    "plt.style.use(\"ggplot\")\n",
    "plt.style.use(\"my.mplstyle\")"
   ]
  },
  {
   "cell_type": "code",
   "execution_count": 3,
   "metadata": {},
   "outputs": [],
   "source": [
    "NUM_SHOTS_OF_INTEREST = [1,2,5,10,20,50,100,200]\n",
    "LARGELY_SAMPLED_EPITOPES = pd.read_csv(\"analysis_results/CDR3 Levenshtein/ovr_nn_200_shot.csv\").epitope.unique()"
   ]
  },
  {
   "cell_type": "code",
   "execution_count": null,
   "metadata": {},
   "outputs": [],
   "source": [
    "reference_models = [\n",
    "    ModelForAnalysis(\"SCEPTR\", \"ovr_nn\", \"#7048e8\", \"d\", zorder=2),\n",
    "    ModelForAnalysis(\"TCRdist\", \"ovr_nn\", \"#f03e3e\", \"o\"),\n",
    "    ModelForAnalysis(\"TCR-BERT\", \"ovr_nn\", \"#74b816\", \"s\")\n",
    "]\n",
    "\n",
    "mlm_only = ModelForAnalysis(\"SCEPTR (MLM only)\", \"ovr_nn\", \"#7048e8\", linestyle=\"--\", zorder=2)\n",
    "avg_pool = ModelForAnalysis(\"SCEPTR (average pooling)\", \"ovr_nn\", \"#7048e8\", linestyle=\"--\", zorder=2)\n",
    "shuffled_data = ModelForAnalysis(\"SCEPTR (shuffled data)\", \"ovr_nn\", \"#7048e8\", linestyle=\"--\", zorder=2)\n",
    "synthetic_data = ModelForAnalysis(\"SCEPTR (synthetic data)\", \"ovr_nn\", \"#7048e8\", linestyle=\":\", zorder=2)\n",
    "cdr3_only = ModelForAnalysis(\"SCEPTR (CDR3 only)\", \"ovr_nn\", \"#b197fc\", zorder=2)\n",
    "cdr3_mlm_only = ModelForAnalysis(\"SCEPTR (CDR3 only, MLM only)\", \"ovr_nn\", \"#b197fc\", linestyle=\"--\", zorder=2)\n",
    "\n",
    "fig, axs = plt.subplots(nrows=2, ncols=2, sharex=True, sharey=True, figsize=(14/2.54,12/2.54))\n",
    "\n",
    "utils.plot_performance_curves(reference_models + [mlm_only], NUM_SHOTS_OF_INTEREST, LARGELY_SAMPLED_EPITOPES, axs[0,0])\n",
    "axs[0,0].set_title(\"Training Ablation\")\n",
    "handles, labels = utils.get_legend_handles_labels_without_errorbars(axs[0,0])\n",
    "axs[0,0].legend(handles[3:], labels[3:], loc=\"lower right\")\n",
    "\n",
    "utils.plot_performance_curves(reference_models + [avg_pool], NUM_SHOTS_OF_INTEREST, LARGELY_SAMPLED_EPITOPES, axs[0,1])\n",
    "axs[0,1].set_title(\"Architectural Ablation\")\n",
    "handles, labels = utils.get_legend_handles_labels_without_errorbars(axs[0,1])\n",
    "axs[0,1].legend(handles[3:], labels[3:], loc=\"lower right\")\n",
    "\n",
    "utils.plot_performance_curves(reference_models + [shuffled_data, synthetic_data], NUM_SHOTS_OF_INTEREST, LARGELY_SAMPLED_EPITOPES, axs[1,0])\n",
    "axs[1,0].set_title(\"Data Ablation\")\n",
    "handles, labels = utils.get_legend_handles_labels_without_errorbars(axs[1,0])\n",
    "axs[1,0].legend(handles[3:], labels[3:], loc=\"lower right\")\n",
    "\n",
    "utils.plot_performance_curves(reference_models + [cdr3_only, cdr3_mlm_only], NUM_SHOTS_OF_INTEREST, LARGELY_SAMPLED_EPITOPES, axs[1,1])\n",
    "axs[1,1].set_title(\"Feature Ablation\")\n",
    "handles, labels = utils.get_legend_handles_labels_without_errorbars(axs[1,1])\n",
    "axs[1,1].legend(handles[3:], labels[3:], loc=\"lower right\")\n",
    "\n",
    "for ax in axs[0]:\n",
    "    ax.set_xlabel(\"\")\n",
    "\n",
    "for ax in axs[:,1]:\n",
    "    ax.set_ylabel(\"\")\n",
    "\n",
    "for ax, label in zip(axs[:,0], (\"a\", \"c\")):\n",
    "    trans = ScaledTranslation(-50/100, 0, fig.dpi_scale_trans)\n",
    "    ax.text(0.0, 1.0, label, transform=ax.transAxes + trans, fontsize='large', fontweight=\"bold\", va='top')\n",
    "\n",
    "for ax, label in zip(axs[:,1], (\"b\", \"d\")):\n",
    "    trans = ScaledTranslation(-20/100, 0, fig.dpi_scale_trans)\n",
    "    ax.text(0.0, 1.0, label, transform=ax.transAxes + trans, fontsize='large', fontweight=\"bold\", va='top')\n",
    "\n",
    "fig.tight_layout()\n",
    "\n",
    "fig.legend(handles[:3], labels[:3], loc=\"center left\", bbox_to_anchor=(1, 0, 0.5, 1), ncols=1)\n",
    "fig.savefig(\"ablation_summary.pdf\", bbox_inches=\"tight\")"
   ]
  },
  {
   "cell_type": "code",
   "execution_count": null,
   "metadata": {},
   "outputs": [],
   "source": []
  }
 ],
 "metadata": {
  "kernelspec": {
   "display_name": ".venv",
   "language": "python",
   "name": "python3"
  },
  "language_info": {
   "codemirror_mode": {
    "name": "ipython",
    "version": 3
   },
   "file_extension": ".py",
   "mimetype": "text/x-python",
   "name": "python",
   "nbconvert_exporter": "python",
   "pygments_lexer": "ipython3",
   "version": "3.11.10"
  }
 },
 "nbformat": 4,
 "nbformat_minor": 2
}
