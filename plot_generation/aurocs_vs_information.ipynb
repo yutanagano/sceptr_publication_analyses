{
 "cells": [
  {
   "cell_type": "code",
   "execution_count": 1,
   "metadata": {},
   "outputs": [],
   "source": [
    "import os\n",
    "from pathlib import Path\n",
    "\n",
    "if \"PROJECT_ROOT\" not in globals():\n",
    "    PROJECT_ROOT = Path.cwd().parent.resolve()\n",
    "\n",
    "os.chdir(PROJECT_ROOT)"
   ]
  },
  {
   "cell_type": "code",
   "execution_count": null,
   "metadata": {},
   "outputs": [],
   "source": [
    "import pyrepseq as prs\n",
    "import pandas as pd\n",
    "import numpy as np\n",
    "import matplotlib.pyplot as plt\n",
    "from paths import DATA_DIR\n",
    "import seaborn as sns\n",
    "from pyrepseq.metric.tcr_metric.tcrdist.tcrdist_metric import Tcrdist\n",
    "from utils import ModelForAnalysis\n",
    "\n",
    "plt.style.use(\"ggplot\")\n",
    "plt.style.use(\"my.mplstyle\")"
   ]
  },
  {
   "cell_type": "code",
   "execution_count": 3,
   "metadata": {},
   "outputs": [],
   "source": [
    "models = (\n",
    "    ModelForAnalysis(\"SCEPTR (finetuned)\", \"ovr_predetermined_split_avg_dist\", \"#5f3dc4\", \"P\", zorder=2),\n",
    "    ModelForAnalysis(\"SCEPTR\", \"ovr_predetermined_split_nn\", \"#7048e8\", \"d\", zorder=1.9),\n",
    "    ModelForAnalysis(\"TCRdist\", \"ovr_predetermined_split_nn\", \"#f03e3e\", \"o\", zorder=1.8),\n",
    "    ModelForAnalysis(\"TCR-BERT\", \"ovr_predetermined_split_nn\", \"#74b816\", \"s\"),\n",
    ")\n",
    "\n",
    "aurocs = []\n",
    "\n",
    "for model in models:\n",
    "    aurocs.append(model.load_data().set_index(\"epitope\"))\n",
    "\n",
    "for model, aucs in zip(models, aurocs):\n",
    "    aucs.columns = [model.name]\n",
    "\n",
    "aurocs = pd.concat(aurocs, axis=\"columns\")\n",
    "aurocs[\"avg\"] = aurocs.apply(lambda row: row.mean(), axis=\"columns\")\n",
    "aurocs = aurocs.sort_values(by=\"avg\", ascending=False)\n",
    "aurocs = aurocs.reset_index()"
   ]
  },
  {
   "cell_type": "code",
   "execution_count": 4,
   "metadata": {},
   "outputs": [],
   "source": [
    "vdjdb = pd.read_csv(DATA_DIR/\"preprocessed\"/\"benchmarking\"/\"vdjdb_cleaned.csv\")\n",
    "vdjdb_used = vdjdb[vdjdb[\"Epitope\"].isin(aurocs[\"epitope\"])].copy()"
   ]
  },
  {
   "cell_type": "code",
   "execution_count": 5,
   "metadata": {},
   "outputs": [],
   "source": [
    "vdjdb_used['Alpha'] = vdjdb_used['TRAV'] + vdjdb_used['CDR3A'] + vdjdb_used['TRAJ']\n",
    "vdjdb_used['Beta'] = vdjdb_used['TRBV'] + vdjdb_used['CDR3B'] + vdjdb_used['TRBJ']\n",
    "vdjdb_used['Full sequence'] = vdjdb_used['Alpha'] + vdjdb_used['Beta']"
   ]
  },
  {
   "cell_type": "markdown",
   "metadata": {},
   "source": [
    "## Feature entropy vs performance "
   ]
  },
  {
   "cell_type": "code",
   "execution_count": 6,
   "metadata": {},
   "outputs": [],
   "source": [
    "epitope_data = pd.DataFrame(index=aurocs['epitope'])\n",
    "features = ['TRAJ', 'TRBJ', 'TRAV', 'TRBV', 'CDR3A', 'CDR3B']\n",
    "for feature in features:\n",
    "    epitope_data[f'Entropy {feature}'] = vdjdb_used.groupby('Epitope').apply(lambda x: prs.renyi2_entropy(x, feature), include_groups=False)\n",
    "    epitope_data[f'std Entropy {feature}'] = vdjdb_used.groupby('Epitope').apply(lambda x: prs.stdrenyi2_entropy(x, feature), include_groups=False)\n",
    "for column in aurocs.columns[1:]:\n",
    "    epitope_data[f\"AUROC {column}\"] = aurocs.set_index('epitope')[column]\n",
    "epitope_data = epitope_data.sort_values('AUROC SCEPTR', ascending=False)"
   ]
  },
  {
   "cell_type": "code",
   "execution_count": null,
   "metadata": {},
   "outputs": [],
   "source": [
    "fig, ax = plt.subplots(nrows=2, ncols=3, sharex=True, sharey=\"col\", figsize=(17/2.54, 15/2.54), layout='tight')\n",
    "for i, feature in enumerate(features):\n",
    "    col = i // 2\n",
    "    row = i % 2\n",
    "\n",
    "    shape = {\n",
    "        0: \"o\",\n",
    "        1: \"s\",\n",
    "        2: \"x\"\n",
    "    }[col]\n",
    "\n",
    "    colour = {\n",
    "        0: \"C0\",\n",
    "        1: \"C1\"\n",
    "    }[row]\n",
    "\n",
    "    ax[row, col].errorbar(\n",
    "        epitope_data['AUROC SCEPTR (finetuned)'],\n",
    "        epitope_data[f'Entropy {feature}'],\n",
    "        yerr=epitope_data[f'std Entropy {feature}'],\n",
    "        fmt=shape,\n",
    "        c=colour,\n",
    "        markersize=5\n",
    "    )\n",
    "\n",
    "    if row == 1:\n",
    "        ax[row, col].set_xlabel('AUROC SCEPTR (finetuned)')\n",
    "    \n",
    "    if col == 0:\n",
    "        ax[row, col].set_ylabel('$H_2(X|\\pi)$ [bits]')\n",
    "\n",
    "    ax[row, col].title.set_text(f'{feature}')\n",
    "\n",
    "for i in range(0, 4):\n",
    "    ax[i % 2, i // 2].set_ylim(0, 6)\n",
    "\n",
    "for i in range(4, 6):\n",
    "    ax[i % 2, i // 2].set_ylim(0, 15)\n",
    "\n",
    "# fig.supylabel(\"$H_2(X|\\pi)$ [bits]\")\n",
    "# fig.supxlabel(\"AUROC SCEPTR (finetuned)\")\n",
    "fig.tight_layout()\n",
    "fig.savefig(\"feature_entropy_vs_performance.pdf\", bbox_inches=\"tight\")"
   ]
  },
  {
   "cell_type": "markdown",
   "metadata": {},
   "source": [
    "## Integrated near coincidence entropy vs performance"
   ]
  },
  {
   "cell_type": "code",
   "execution_count": 8,
   "metadata": {},
   "outputs": [],
   "source": [
    "tcrdist = Tcrdist()"
   ]
  },
  {
   "cell_type": "code",
   "execution_count": 9,
   "metadata": {},
   "outputs": [],
   "source": [
    "scores = epitope_data['AUROC SCEPTR (finetuned)']\n",
    "ranked_scores = scores.rank()\n",
    "normalized_ranks = (ranked_scores - ranked_scores.min()) / (ranked_scores.max() - ranked_scores.min())\n",
    "cmap = sns.color_palette(\"viridis\", as_cmap=True)"
   ]
  },
  {
   "cell_type": "code",
   "execution_count": null,
   "metadata": {},
   "outputs": [],
   "source": [
    "fig, ax = plt.subplots(figsize=(10/2.54, 8/2.54), layout = 'tight', sharex=True)\n",
    "epitope_data['tcrdist_scores'] =  vdjdb_used.groupby('Epitope').apply(lambda x: tcrdist.calc_pdist_vector(x), include_groups=False)\n",
    "\n",
    "for epitope in epitope_data.index:\n",
    "    x = np.sort(epitope_data.loc[epitope]['tcrdist_scores'])\n",
    "    y = np.arange(len(x))/len(x)\n",
    "    ax.plot(x, y, label = f\"[{epitope}] {epitope_data.loc[epitope]['AUROC SCEPTR (finetuned)']:.2f}\", c=cmap(normalized_ranks[epitope]))\n",
    "ax.set_xlabel('TCRdist distance $\\delta$')\n",
    "ax.set_ylabel('Cumulative probability $P_c(\\delta)$')\n",
    "ax.set_yscale('log')\n",
    "ax.legend(title = '[Epitope] AUROC SCEPTR (finetuned)')\n",
    "fig.savefig(\"cumulative_pc_vs_performance.pdf\", bbox_inches=\"tight\")"
   ]
  },
  {
   "cell_type": "code",
   "execution_count": null,
   "metadata": {},
   "outputs": [],
   "source": []
  }
 ],
 "metadata": {
  "kernelspec": {
   "display_name": ".venv",
   "language": "python",
   "name": "python3"
  },
  "language_info": {
   "codemirror_mode": {
    "name": "ipython",
    "version": 3
   },
   "file_extension": ".py",
   "mimetype": "text/x-python",
   "name": "python",
   "nbconvert_exporter": "python",
   "pygments_lexer": "ipython3",
   "version": "3.11.10"
  }
 },
 "nbformat": 4,
 "nbformat_minor": 2
}
