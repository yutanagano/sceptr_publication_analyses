{
 "cells": [
  {
   "cell_type": "code",
   "execution_count": 5,
   "metadata": {},
   "outputs": [],
   "source": [
    "import os\n",
    "from pathlib import Path\n",
    "\n",
    "if \"PROJECT_ROOT\" not in globals():\n",
    "    PROJECT_ROOT = Path.cwd().parent.resolve()\n",
    "\n",
    "os.chdir(PROJECT_ROOT)"
   ]
  },
  {
   "cell_type": "code",
   "execution_count": 6,
   "metadata": {},
   "outputs": [],
   "source": [
    "from matplotlib import pyplot as plt\n",
    "from matplotlib.transforms import ScaledTranslation\n",
    "import pandas as pd\n",
    "import utils\n",
    "from utils import ModelForAnalysis\n",
    "\n",
    "plt.style.use(\"ggplot\")\n",
    "plt.style.use(\"my.mplstyle\")"
   ]
  },
  {
   "cell_type": "code",
   "execution_count": 7,
   "metadata": {},
   "outputs": [],
   "source": [
    "NUM_SHOTS_OF_INTEREST = [1,2,5,10,20,50,100,200]\n",
    "LARGELY_SAMPLED_EPITOPES_10X = pd.read_csv(\"analysis_results/10x/CDR3 Levenshtein/ovr_nn_200_shot.csv\").epitope.unique()"
   ]
  },
  {
   "cell_type": "code",
   "execution_count": null,
   "metadata": {},
   "outputs": [],
   "source": [
    "fig, ax = plt.subplots(figsize=(10/2.54,8/2.54))\n",
    "\n",
    "utils.plot_performance_curves(\n",
    "    (\n",
    "        ModelForAnalysis(\"SCEPTR\", \"ovr_nn\", \"#7048e8\", \"d\", zorder=2, ten_x=True),\n",
    "        ModelForAnalysis(\"TCRdist\", \"ovr_nn\", \"#f03e3e\", \"o\", ten_x=True),\n",
    "        ModelForAnalysis(\"CDR3 Levenshtein\", \"ovr_nn\", \"#f76707\", \"^\", ten_x=True),\n",
    "        ModelForAnalysis(\"TCR-BERT\", \"ovr_nn\", \"#74b816\", \"s\", ten_x=True),\n",
    "        ModelForAnalysis(\"ESM2 (T6 8M)\", \"ovr_nn\", \"#37b24d\", \"p\", ten_x=True),\n",
    "        ModelForAnalysis(\"ProtBert\", \"ovr_nn\", \"#0ca678\", \"x\", ten_x=True),\n",
    "    ),\n",
    "    NUM_SHOTS_OF_INTEREST,\n",
    "    LARGELY_SAMPLED_EPITOPES_10X,\n",
    "    ax\n",
    ")\n",
    "\n",
    "handles, labels = ax.get_legend_handles_labels()\n",
    "new_handles = [\n",
    "    plt.Line2D(\n",
    "        [0], [0],\n",
    "        color=handle[0].get_color(),\n",
    "        lw=handle[0].get_linewidth(),\n",
    "        linestyle=handle[0].get_linestyle(),\n",
    "        marker=handle[0].get_marker(),\n",
    "        markersize=handle[0].get_markersize()\n",
    "    )\n",
    "    for handle in handles\n",
    "    ]\n",
    "ax.legend(handles=new_handles, labels=labels, loc=\"lower right\")\n",
    "\n",
    "fig.tight_layout()\n",
    "fig.savefig(\"benchmarking_10x.pdf\", bbox_inches=\"tight\")"
   ]
  },
  {
   "cell_type": "code",
   "execution_count": null,
   "metadata": {},
   "outputs": [],
   "source": []
  }
 ],
 "metadata": {
  "kernelspec": {
   "display_name": ".venv",
   "language": "python",
   "name": "python3"
  },
  "language_info": {
   "codemirror_mode": {
    "name": "ipython",
    "version": 3
   },
   "file_extension": ".py",
   "mimetype": "text/x-python",
   "name": "python",
   "nbconvert_exporter": "python",
   "pygments_lexer": "ipython3",
   "version": "3.11.10"
  }
 },
 "nbformat": 4,
 "nbformat_minor": 2
}
