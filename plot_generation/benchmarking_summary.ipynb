{
 "cells": [
  {
   "cell_type": "code",
   "execution_count": 1,
   "metadata": {},
   "outputs": [],
   "source": [
    "import os\n",
    "from pathlib import Path\n",
    "\n",
    "if \"PROJECT_ROOT\" not in globals():\n",
    "    PROJECT_ROOT = Path.cwd().parent.resolve()\n",
    "\n",
    "os.chdir(PROJECT_ROOT)"
   ]
  },
  {
   "cell_type": "code",
   "execution_count": 2,
   "metadata": {},
   "outputs": [],
   "source": [
    "from matplotlib.figure import Figure\n",
    "from matplotlib import pyplot as plt\n",
    "import pandas as pd\n",
    "from typing import Iterable\n",
    "import utils\n",
    "from utils import ModelForAnalysis\n",
    "\n",
    "plt.style.use(\"ggplot\")\n",
    "plt.style.use(\"my.mplstyle\")"
   ]
  },
  {
   "cell_type": "code",
   "execution_count": 3,
   "metadata": {},
   "outputs": [],
   "source": [
    "RESULTS_DIR = PROJECT_ROOT/\"analysis_results\"\n",
    "\n",
    "LARGELY_SAMPLED_EPITOPES = pd.read_csv(\"analysis_results/CDR3 Levenshtein/ovr_nn_200_shot.csv\").epitope.unique()\n",
    "LARGELY_SAMPLED_EPITOPES_10X = pd.read_csv(\"analysis_results/10x/CDR3 Levenshtein/ovr_nn_200_shot.csv\").epitope.unique()\n",
    "\n",
    "NUM_SHOTS_OF_INTEREST = [1,2,5,10,20,50,100,200]"
   ]
  },
  {
   "cell_type": "code",
   "execution_count": 4,
   "metadata": {},
   "outputs": [],
   "source": [
    "models = (\n",
    "    ModelForAnalysis(\"SCEPTR\", \"ovr_nn\", \"#7048e8\", \"d\", zorder=2),\n",
    "    ModelForAnalysis(\"TCRdist\", \"ovr_nn\", \"#f03e3e\", \"o\", zorder=1.9),\n",
    "    ModelForAnalysis(\"CDR3 Levenshtein\", \"ovr_nn\", \"#f76707\", \"^\"),\n",
    "    ModelForAnalysis(\"TCR-BERT\", \"ovr_nn\", \"#74b816\", \"s\"),\n",
    "    ModelForAnalysis(\"ESM2 (T6 8M)\", \"ovr_nn\", \"#37b24d\", \"p\"),\n",
    "    ModelForAnalysis(\"ProtBert\", \"ovr_nn\", \"#0ca678\", \"x\"),\n",
    ")"
   ]
  },
  {
   "cell_type": "code",
   "execution_count": null,
   "metadata": {},
   "outputs": [],
   "source": [
    "def generate_revised_summary_figure(\n",
    "        models: Iterable[ModelForAnalysis],\n",
    "        ks: Iterable[int],\n",
    "        epitopes: Iterable[str],\n",
    "        # legend_in_axes: bool = False,\n",
    "        # ncols: int = 0\n",
    ") -> Figure:\n",
    "    fig, ax = plt.subplots(figsize=(7/2.54,8/2.54))\n",
    "\n",
    "    utils.plot_performance_curves(models, ks, epitopes, ax)\n",
    "\n",
    "    handles, labels = ax.get_legend_handles_labels()\n",
    "    new_handles = [\n",
    "        plt.Line2D(\n",
    "            [0], [0],\n",
    "            color=handle[0].get_color(),\n",
    "            lw=handle[0].get_linewidth(),\n",
    "            linestyle=handle[0].get_linestyle(),\n",
    "            marker=handle[0].get_marker(),\n",
    "            markersize=handle[0].get_markersize()\n",
    "        )\n",
    "        for handle in handles\n",
    "        ]\n",
    "    fig.legend(handles=new_handles, labels=labels, loc=\"center left\", bbox_to_anchor=(1,0,1,1))\n",
    "\n",
    "    fig.tight_layout()\n",
    "\n",
    "    return fig\n",
    "\n",
    "fig = generate_revised_summary_figure(models, NUM_SHOTS_OF_INTEREST, LARGELY_SAMPLED_EPITOPES)"
   ]
  },
  {
   "cell_type": "code",
   "execution_count": null,
   "metadata": {},
   "outputs": [],
   "source": []
  }
 ],
 "metadata": {
  "kernelspec": {
   "display_name": ".venv",
   "language": "python",
   "name": "python3"
  },
  "language_info": {
   "codemirror_mode": {
    "name": "ipython",
    "version": 3
   },
   "file_extension": ".py",
   "mimetype": "text/x-python",
   "name": "python",
   "nbconvert_exporter": "python",
   "pygments_lexer": "ipython3",
   "version": "3.11.9"
  }
 },
 "nbformat": 4,
 "nbformat_minor": 2
}
