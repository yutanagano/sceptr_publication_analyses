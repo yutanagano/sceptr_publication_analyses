{
 "cells": [
  {
   "cell_type": "code",
   "execution_count": 1,
   "metadata": {},
   "outputs": [],
   "source": [
    "import os\n",
    "from pathlib import Path\n",
    "\n",
    "if \"PROJECT_ROOT\" not in globals():\n",
    "    PROJECT_ROOT = Path.cwd().parent.resolve()\n",
    "\n",
    "os.chdir(PROJECT_ROOT)"
   ]
  },
  {
   "cell_type": "code",
   "execution_count": 2,
   "metadata": {},
   "outputs": [],
   "source": [
    "from matplotlib import pyplot as plt\n",
    "import pandas as pd\n",
    "import utils\n",
    "from utils import ModelForAnalysis\n",
    "\n",
    "plt.style.use(\"ggplot\")\n",
    "plt.style.use(\"my.mplstyle\")"
   ]
  },
  {
   "cell_type": "code",
   "execution_count": 3,
   "metadata": {},
   "outputs": [],
   "source": [
    "NUM_SHOTS_OF_INTEREST = [1,2,5,10,20,50,100,200]\n",
    "LARGELY_SAMPLED_EPITOPES = pd.read_csv(\"analysis_results/CDR3 Levenshtein/ovr_nn_200_shot.csv\").epitope.unique()"
   ]
  },
  {
   "cell_type": "code",
   "execution_count": 4,
   "metadata": {},
   "outputs": [],
   "source": [
    "models = (\n",
    "    ModelForAnalysis(\"SCEPTR\", \"ovr_nn\", \"#7048e8\", \"d\", zorder=2, display_name=\"SCEPTR (NN)\"),\n",
    "    ModelForAnalysis(\"SCEPTR\", \"ovr_svc\", \"#7048e8\", \"d\", linestyle=\":\", zorder=1.9, display_name=\"SCEPTR (SVC)\"),\n",
    "    ModelForAnalysis(\"TCR-BERT\", \"ovr_nn\", \"#74b816\", \"s\", display_name=\"TCR-BERT (NN)\"),\n",
    "    ModelForAnalysis(\"TCR-BERT\", \"ovr_svc\", \"#74b816\", \"s\", linestyle=\":\", display_name=\"TCR-BERT (SVC)\"),\n",
    "    ModelForAnalysis(\"ESM2 (T6 8M)\", \"ovr_nn\", \"#37b24d\", \"p\", display_name=\"ESM2 (NN)\"),\n",
    "    ModelForAnalysis(\"ESM2 (T6 8M)\", \"ovr_svc\", \"#37b24d\", \"p\", linestyle=\":\", display_name=\"ESM2 (SVC)\"),\n",
    "    ModelForAnalysis(\"ProtBert\", \"ovr_nn\", \"#0ca678\", \"x\", display_name=\"ProtBert (NN)\"),\n",
    "    ModelForAnalysis(\"ProtBert\", \"ovr_svc\", \"#0ca678\", \"x\", linestyle=\":\", display_name=\"ProtBert (SVC)\"),\n",
    ")"
   ]
  },
  {
   "cell_type": "code",
   "execution_count": null,
   "metadata": {},
   "outputs": [],
   "source": [
    "fig, ax = plt.subplots(figsize=(10/2.54,8/2.54))\n",
    "\n",
    "utils.plot_performance_curves(models, NUM_SHOTS_OF_INTEREST, LARGELY_SAMPLED_EPITOPES, ax)\n",
    "handles, labels = utils.get_legend_handles_labels_without_errorbars(ax)\n",
    "\n",
    "ax.legend(handles, labels, loc=\"lower right\", ncols=2)\n",
    "\n",
    "fig.tight_layout()\n",
    "fig.savefig(\"benchmarking_svc_full.pdf\", bbox_inches=\"tight\")"
   ]
  },
  {
   "cell_type": "code",
   "execution_count": null,
   "metadata": {},
   "outputs": [],
   "source": []
  }
 ],
 "metadata": {
  "kernelspec": {
   "display_name": ".venv",
   "language": "python",
   "name": "python3"
  },
  "language_info": {
   "codemirror_mode": {
    "name": "ipython",
    "version": 3
   },
   "file_extension": ".py",
   "mimetype": "text/x-python",
   "name": "python",
   "nbconvert_exporter": "python",
   "pygments_lexer": "ipython3",
   "version": "3.11.10"
  }
 },
 "nbformat": 4,
 "nbformat_minor": 2
}
