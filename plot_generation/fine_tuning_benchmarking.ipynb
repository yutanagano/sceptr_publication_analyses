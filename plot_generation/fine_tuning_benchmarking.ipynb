{
 "cells": [
  {
   "cell_type": "code",
   "execution_count": 1,
   "metadata": {},
   "outputs": [],
   "source": [
    "import os\n",
    "from pathlib import Path\n",
    "\n",
    "if \"PROJECT_ROOT\" not in globals():\n",
    "    PROJECT_ROOT = Path.cwd().parent.resolve()\n",
    "\n",
    "os.chdir(PROJECT_ROOT)"
   ]
  },
  {
   "cell_type": "code",
   "execution_count": 2,
   "metadata": {},
   "outputs": [],
   "source": [
    "from matplotlib.figure import Figure\n",
    "from matplotlib import pyplot as plt\n",
    "import pandas as pd\n",
    "from typing import Iterable\n",
    "import utils\n",
    "from utils import ModelForAnalysis\n",
    "\n",
    "plt.style.use(\"ggplot\")\n",
    "plt.style.use(\"my.mplstyle\")"
   ]
  },
  {
   "cell_type": "code",
   "execution_count": 3,
   "metadata": {},
   "outputs": [],
   "source": [
    "def plot_predetermined_split_results(models: Iterable[ModelForAnalysis]) -> Figure:\n",
    "    aucs_per_model = []\n",
    "\n",
    "    for model in models:\n",
    "        aucs_per_model.append(model.load_data().set_index(\"epitope\"))\n",
    "    \n",
    "    for model, aucs in zip(models, aucs_per_model):\n",
    "        aucs.columns = [model.name]\n",
    "    \n",
    "    aucs_per_model = pd.concat(aucs_per_model, axis=\"columns\")\n",
    "    aucs_per_model[\"avg\"] = aucs_per_model.apply(lambda row: row.mean(), axis=\"columns\")\n",
    "    aucs_per_model = aucs_per_model.sort_values(by=\"avg\", ascending=False)\n",
    "\n",
    "    fig, ax = plt.subplots(figsize=(8/2.54,8/2.54))\n",
    "\n",
    "    for model in models:\n",
    "        ax.plot(aucs_per_model[model.name], model.style, c=model.colour, label=model.name, zorder=model.zorder)\n",
    "\n",
    "    ax.set_ylabel(\"AUROC\")\n",
    "    ax.set_xlabel(\"Epitope\")\n",
    "    ax.tick_params(axis='x', labelrotation=45)\n",
    "\n",
    "    current_min = ax.get_ylim()[0]\n",
    "    new_min = min(current_min, 0.5)\n",
    "    ax.set_ylim(new_min)\n",
    "\n",
    "    ax.legend()\n",
    "    fig.tight_layout()\n",
    "\n",
    "    return fig"
   ]
  },
  {
   "cell_type": "code",
   "execution_count": null,
   "metadata": {},
   "outputs": [],
   "source": [
    "fig = plot_predetermined_split_results((\n",
    "    ModelForAnalysis(\"SCEPTR (finetuned)\", \"ovr_predetermined_split_avg_dist\", \"#5f3dc4\", \"P\", zorder=2),\n",
    "    ModelForAnalysis(\"SCEPTR\", \"ovr_predetermined_split_nn\", \"#7048e8\", \"d\", zorder=1.9),\n",
    "    ModelForAnalysis(\"TCRdist\", \"ovr_predetermined_split_nn\", \"#f03e3e\", \"o\", zorder=1.8),\n",
    "    ModelForAnalysis(\"TCR-BERT\", \"ovr_predetermined_split_nn\", \"#74b816\", \"s\"),\n",
    "))"
   ]
  },
  {
   "cell_type": "code",
   "execution_count": null,
   "metadata": {},
   "outputs": [],
   "source": [
    "fig = plot_predetermined_split_results((\n",
    "    ModelForAnalysis(\"SCEPTR (finetuned)\", \"ovr_predetermined_split_filtered_avg_dist\", \"#5f3dc4\", \"P\", zorder=2),\n",
    "    ModelForAnalysis(\"SCEPTR\", \"ovr_predetermined_split_filtered_nn\", \"#7048e8\", \"d\", zorder=1.9),\n",
    "    ModelForAnalysis(\"TCRdist\", \"ovr_predetermined_split_filtered_nn\", \"#f03e3e\", \"o\", zorder=1.8),\n",
    "    ModelForAnalysis(\"TCR-BERT\", \"ovr_predetermined_split_filtered_nn\", \"#74b816\", \"s\"),\n",
    "))"
   ]
  },
  {
   "cell_type": "code",
   "execution_count": null,
   "metadata": {},
   "outputs": [],
   "source": [
    "models = (\n",
    "    ModelForAnalysis(\"SCEPTR (finetuned)\", \"ovr_predetermined_split_nn\", \"#5f3dc4\", \"P\", zorder=2, display_name=\"SCEPTR (finetuned, NN)\"),\n",
    "    ModelForAnalysis(\"SCEPTR (finetuned)\", \"ovr_predetermined_split_avg_dist\", \"#5f3dc4\", \"P\", \":\", zorder=2, display_name=\"SCEPTR (finetuned, Avg Dist)\"),\n",
    "    ModelForAnalysis(\"SCEPTR\", \"ovr_predetermined_split_nn\", \"#b197fc\", \"d\", display_name=\"SCEPTR (NN)\"),\n",
    "    ModelForAnalysis(\"SCEPTR\", \"ovr_predetermined_split_avg_dist\", \"#b197fc\", \"d\", \":\", display_name=\"SCEPTR (Avg Dist)\"),\n",
    ")\n",
    "\n",
    "aucs_per_model = []\n",
    "\n",
    "for model in models:\n",
    "    aucs_per_model.append(model.load_data().set_index(\"epitope\"))\n",
    "\n",
    "for model, aucs in zip(models, aucs_per_model):\n",
    "    aucs.columns = [model.name]\n",
    "\n",
    "aucs_per_model = pd.concat(aucs_per_model, axis=\"columns\")\n",
    "aucs_per_model = aucs_per_model.loc[[\"TFEYVSQPFLMDLE\",\"GILGFVFTL\",\"SPRWYFYYL\",\"YLQPRTFLL\",\"TTDPSFLGRY\",\"NLVPMVATV\"]]\n",
    "\n",
    "fig, ax = plt.subplots(figsize=(8/2.54,8/2.54))\n",
    "\n",
    "for model in models:\n",
    "    ax.plot(aucs_per_model[model.name], model.style, c=model.colour, label=model.name, zorder=model.zorder)\n",
    "\n",
    "ax.set_ylabel(\"AUROC\")\n",
    "ax.set_xlabel(\"Epitope\")\n",
    "ax.tick_params(axis='x', labelrotation=45)\n",
    "\n",
    "current_min = ax.get_ylim()[0]\n",
    "new_min = min(current_min, 0.5)\n",
    "ax.set_ylim(new_min)\n",
    "\n",
    "fig.legend(loc=\"center left\", bbox_to_anchor=(1,0,1,1))\n",
    "fig.tight_layout()\n",
    "\n",
    "# fig.savefig(f\"sceptr_baseline_vs_finetuned_nn_and_avg_dist.pdf\", bbox_inches=\"tight\")"
   ]
  },
  {
   "cell_type": "code",
   "execution_count": null,
   "metadata": {},
   "outputs": [],
   "source": [
    "models = (\n",
    "    ModelForAnalysis(\"SCEPTR\", \"ovr_unseen_epitopes_nn\", \"#7048e8\", \"d\", zorder=2),\n",
    "    ModelForAnalysis(\"SCEPTR (finetuned)\", \"ovr_unseen_epitopes_avg_dist\", \"#5f3dc4\", \"P\", zorder=2),\n",
    "    ModelForAnalysis(\"TCRdist\", \"ovr_unseen_epitopes_nn\", \"#f03e3e\", \"o\", zorder=1.9),\n",
    "    ModelForAnalysis(\"TCR-BERT\", \"ovr_unseen_epitopes_nn\", \"#74b816\", \"s\"),\n",
    ")\n",
    "\n",
    "fig, ax = plt.subplots(figsize=(8/2.54,8/2.54))\n",
    "\n",
    "utils.plot_performance_curves(models, (1,2,5,10,20), (\"CINGVCWTV\",\"GLCTLVAML\",\"LLWNGPMAV\",\"ATDALMTGF\",\"QYIKWPWYI\",\"LTDEMIAQY\"), ax)\n",
    "\n",
    "handles, labels = ax.get_legend_handles_labels()\n",
    "new_handles = [\n",
    "    plt.Line2D(\n",
    "        [0], [0],\n",
    "        color=handle[0].get_color(),\n",
    "        lw=handle[0].get_linewidth(),\n",
    "        linestyle=handle[0].get_linestyle(),\n",
    "        marker=handle[0].get_marker(),\n",
    "        markersize=handle[0].get_markersize()\n",
    "    )\n",
    "    for handle in handles\n",
    "    ]\n",
    "ax.legend(handles=new_handles, labels=labels)\n",
    "\n",
    "fig.tight_layout()"
   ]
  },
  {
   "cell_type": "code",
   "execution_count": null,
   "metadata": {},
   "outputs": [],
   "source": []
  }
 ],
 "metadata": {
  "kernelspec": {
   "display_name": ".venv",
   "language": "python",
   "name": "python3"
  },
  "language_info": {
   "codemirror_mode": {
    "name": "ipython",
    "version": 3
   },
   "file_extension": ".py",
   "mimetype": "text/x-python",
   "name": "python",
   "nbconvert_exporter": "python",
   "pygments_lexer": "ipython3",
   "version": "3.11.10"
  }
 },
 "nbformat": 4,
 "nbformat_minor": 2
}
