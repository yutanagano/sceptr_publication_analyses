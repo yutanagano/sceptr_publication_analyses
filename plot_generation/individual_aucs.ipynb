{
 "cells": [
  {
   "cell_type": "code",
   "execution_count": 17,
   "metadata": {},
   "outputs": [],
   "source": [
    "import os\n",
    "from pathlib import Path\n",
    "\n",
    "if \"PROJECT_ROOT\" not in globals():\n",
    "    PROJECT_ROOT = Path.cwd().parent.resolve()\n",
    "\n",
    "os.chdir(PROJECT_ROOT)"
   ]
  },
  {
   "cell_type": "code",
   "execution_count": 18,
   "metadata": {},
   "outputs": [],
   "source": [
    "import json\n",
    "from matplotlib import pyplot as plt\n",
    "from matplotlib.axes import Axes\n",
    "import numpy as np\n",
    "from paths import RESULTS_DIR\n",
    "from typing import Literal\n",
    "\n",
    "plt.style.use(\"ggplot\")\n",
    "plt.style.use(\"my.mplstyle\")"
   ]
  },
  {
   "cell_type": "code",
   "execution_count": 65,
   "metadata": {},
   "outputs": [],
   "source": [
    "MODEL_NAMES = (\n",
    "    \"ProtBert\",\n",
    "    \"ESM2 (T6 8M)\",\n",
    "    \"TCR-BERT\",\n",
    "    \"CDR3 Levenshtein\",\n",
    "    \"TCRdist\",\n",
    "    \"SCEPTR\",\n",
    ")\n",
    "\n",
    "EPITOPES = (\n",
    "    \"TFEYVSQPFLMDLE\",\n",
    "    \"GILGFVFTL\",\n",
    "    \"YLQPRTFLL\",\n",
    "    \"NLVPMVATV\",\n",
    "    \"SPRWYFYYL\",\n",
    "    \"TTDPSFLGRY\",\n",
    ")\n",
    "\n",
    "MODEL_COLOURS = {\n",
    "    \"TCRdist\": \"#f03e3e\",\n",
    "    \"CDR3 Levenshtein\": \"#f76707\",\n",
    "    \"TCR-BERT\": \"#74b816\",\n",
    "    \"ESM2 (T6 8M)\": \"#37b24d\",\n",
    "    \"ProtBert\": \"#0ca678\",\n",
    "    \"SCEPTR\": \"#7048e8\",\n",
    "}"
   ]
  },
  {
   "cell_type": "code",
   "execution_count": 74,
   "metadata": {},
   "outputs": [],
   "source": [
    "def load_roc_results(model_name: str) -> dict:\n",
    "    with open(RESULTS_DIR/model_name/\"individual_rocs.json\", \"r\") as f:\n",
    "        return json.load(f)\n",
    "\n",
    "roc_results = {\n",
    "    model_name: load_roc_results(model_name) for model_name in MODEL_NAMES\n",
    "}"
   ]
  },
  {
   "cell_type": "code",
   "execution_count": null,
   "metadata": {},
   "outputs": [],
   "source": [
    "test_results = roc_results[\"CDR3 Levenshtein\"][\"1_shot_rocs\"][\"GILGFVFTL\"]\n",
    "\n",
    "tprs_mean = np.array(test_results[\"tprs_mean\"])\n",
    "tprs_std = np.array(test_results[\"tprs_std\"])\n",
    "tprs_upper_quartile = np.array(test_results[\"tprs_qt_0.75\"])\n",
    "tprs_lower_quartile = np.array(test_results[\"tprs_qt_0.25\"])\n",
    "\n",
    "roc_lower = np.clip(tprs_mean - tprs_std, 0, 1)\n",
    "roc_upper = np.clip(tprs_mean + tprs_std, 0, 1)\n",
    "\n",
    "plt.figure(figsize=(4,4))\n",
    "plt.plot(np.linspace(0,1,101), tprs_mean)\n",
    "plt.fill_between(np.linspace(0,1,101), tprs_lower_quartile, tprs_upper_quartile, alpha=0.2)\n",
    "plt.show()"
   ]
  },
  {
   "cell_type": "code",
   "execution_count": 76,
   "metadata": {},
   "outputs": [],
   "source": [
    "def plot_roc(model_name: str, num_shots: Literal[\"1\", \"200\"], epitope: str, ax: Axes) -> None:\n",
    "    results = roc_results[model_name][f\"{num_shots}_shot_rocs\"][epitope]\n",
    "\n",
    "    tprs_mean = np.array(results[\"tprs_mean\"])\n",
    "    tprs_std = np.array(results[\"tprs_std\"])\n",
    "\n",
    "    roc_lower = np.clip(tprs_mean - tprs_std, 0, 1)\n",
    "    roc_upper = np.clip(tprs_mean + tprs_std, 0, 1)\n",
    "\n",
    "    # roc_lower = np.array(results[\"tprs_qt_0.25\"])\n",
    "    # roc_upper = np.array(results[\"tprs_qt_0.75\"])\n",
    "\n",
    "    ax.plot(np.linspace(0,1,101), tprs_mean, label=model_name, c=MODEL_COLOURS[model_name])\n",
    "    ax.fill_between(np.linspace(0,1,101), roc_lower, roc_upper, color=MODEL_COLOURS[model_name], alpha=0.2)"
   ]
  },
  {
   "cell_type": "code",
   "execution_count": null,
   "metadata": {},
   "outputs": [],
   "source": [
    "epitope = EPITOPES[1]\n",
    "num_shots = \"1\"\n",
    "\n",
    "fig, axs = plt.subplots(nrows=2, ncols=6, sharex=True, sharey=True, figsize=(15,5))\n",
    "\n",
    "for i, num_shots in enumerate((\"1\", \"200\")):\n",
    "    for j, epitope in enumerate(EPITOPES):\n",
    "        ax = axs[i,j]\n",
    "        ax.plot([0,1],[0,1],\"--k\")\n",
    "        for model_name in MODEL_NAMES:\n",
    "            plot_roc(model_name, num_shots, epitope, ax)\n",
    "        ax.set_ylim(0,1)\n",
    "        ax.set_xlim(0,1)\n",
    "\n",
    "        ax.set_title(f\"{epitope} ($k={num_shots}$)\")\n",
    "\n",
    "        if i == 1:\n",
    "            ax.set_xlabel(\"False Positive Rate\")\n",
    "        \n",
    "        if j == 0:\n",
    "            ax.set_ylabel(\"True Positive Rate\")\n",
    "\n",
    "\n",
    "labels = [\"SCEPTR\", \"TCRdist\", \"CDR3 Levenshtein\", \"TCR-BERT\", \"ESM2 (T6 8M)\", \"ProtBert\"]\n",
    "handles = [\n",
    "    plt.Line2D(\n",
    "        [0], [0],\n",
    "        color=MODEL_COLOURS[model_name],\n",
    "    )\n",
    "    for model_name in labels\n",
    "]\n",
    "labels[0] = \"SCEPTR (ours)\"\n",
    "fig.legend(handles=handles, labels=labels, loc=\"upper center\", bbox_to_anchor=(0,-1,1,1), ncols=6)"
   ]
  },
  {
   "cell_type": "code",
   "execution_count": null,
   "metadata": {},
   "outputs": [],
   "source": []
  }
 ],
 "metadata": {
  "kernelspec": {
   "display_name": ".venv",
   "language": "python",
   "name": "python3"
  },
  "language_info": {
   "codemirror_mode": {
    "name": "ipython",
    "version": 3
   },
   "file_extension": ".py",
   "mimetype": "text/x-python",
   "name": "python",
   "nbconvert_exporter": "python",
   "pygments_lexer": "ipython3",
   "version": "3.11.10"
  }
 },
 "nbformat": 4,
 "nbformat_minor": 2
}
