{
 "cells": [
  {
   "cell_type": "code",
   "execution_count": 1,
   "metadata": {},
   "outputs": [],
   "source": [
    "import os\n",
    "from pathlib import Path\n",
    "\n",
    "if \"PROJECT_ROOT\" not in globals():\n",
    "    PROJECT_ROOT = Path.cwd().parent.resolve()\n",
    "\n",
    "os.chdir(PROJECT_ROOT)"
   ]
  },
  {
   "cell_type": "code",
   "execution_count": 2,
   "metadata": {},
   "outputs": [],
   "source": [
    "from matplotlib import pyplot as plt\n",
    "from matplotlib.transforms import ScaledTranslation\n",
    "import numpy as np\n",
    "import pandas as pd\n",
    "from utils import ModelForAnalysis\n",
    "\n",
    "plt.style.use(\"ggplot\")\n",
    "plt.style.use(\"my.mplstyle\")"
   ]
  },
  {
   "cell_type": "code",
   "execution_count": null,
   "metadata": {},
   "outputs": [],
   "source": [
    "models = (\n",
    "    ModelForAnalysis(\"SCEPTR\", None, None),\n",
    "    ModelForAnalysis(\"TCR-BERT\", None, None),\n",
    "    ModelForAnalysis(\"SCEPTR (left-aligned)\", None, None),\n",
    ")\n",
    "epc_insights_per_model = {model.name: model.load_epc_analyser().get_summary_df() for model in models}\n",
    "\n",
    "fig, axs = plt.subplots(nrows=1, ncols=3, figsize=(17/2.54,6/2.54), sharex=True)\n",
    "\n",
    "position_array = np.arange(5) * 6\n",
    "errorbar_kwargs = {\n",
    "    \"fmt\": \"-\",\n",
    "    \"capsize\": 3,\n",
    "}\n",
    "\n",
    "for ax, model_name in zip(axs, epc_insights_per_model):\n",
    "    epc_insights = epc_insights_per_model[model_name]\n",
    "\n",
    "    ax.errorbar(position_array, epc_insights[\"ins\"], yerr=epc_insights[\"ins_std\"], label=\"insertion\", c=\"#7048e8\", **errorbar_kwargs)\n",
    "    ax.errorbar(position_array+1, epc_insights[\"del\"], yerr=epc_insights[\"del_std\"], label=\"deletion\", c=\"#f76707\", **errorbar_kwargs)\n",
    "    ax.errorbar(position_array+2, epc_insights[\"sub\"], yerr=epc_insights[\"sub_std\"], label=\"substitution\", c=\"#37b24d\", **errorbar_kwargs)\n",
    "    ax.set_xticks(\n",
    "        position_array+1, epc_insights.index.str.replace(\"_\",\"-\")\n",
    "    )\n",
    "\n",
    "    ax.set_title(model_name)\n",
    "    ax.set_ylim(0)\n",
    "\n",
    "axs[0].set_ylabel(\"distance\")\n",
    "axs[1].set_xlabel(\"CDR3 region\")\n",
    "\n",
    "for ax, label in zip(axs, (\"a\", \"\", \"b\")):\n",
    "    trans = ScaledTranslation(-20/100, 20/100, fig.dpi_scale_trans)\n",
    "    ax.text(0.0, 1.0, label, transform=ax.transAxes + trans, fontsize='large', fontweight=\"bold\", va='top')\n",
    "\n",
    "fig.legend(*axs[0].get_legend_handles_labels(), loc=\"upper center\", bbox_to_anchor=(0,-0.5,1,0.5), ncols=3)\n",
    "fig.tight_layout()"
   ]
  },
  {
   "cell_type": "code",
   "execution_count": null,
   "metadata": {},
   "outputs": [],
   "source": []
  }
 ],
 "metadata": {
  "kernelspec": {
   "display_name": ".venv",
   "language": "python",
   "name": "python3"
  },
  "language_info": {
   "codemirror_mode": {
    "name": "ipython",
    "version": 3
   },
   "file_extension": ".py",
   "mimetype": "text/x-python",
   "name": "python",
   "nbconvert_exporter": "python",
   "pygments_lexer": "ipython3",
   "version": "3.11.10"
  }
 },
 "nbformat": 4,
 "nbformat_minor": 2
}
