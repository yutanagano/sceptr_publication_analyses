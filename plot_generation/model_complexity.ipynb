{
 "cells": [
  {
   "cell_type": "code",
   "execution_count": 1,
   "metadata": {},
   "outputs": [],
   "source": [
    "import os\n",
    "from pathlib import Path\n",
    "\n",
    "if \"PROJECT_ROOT\" not in globals():\n",
    "    PROJECT_ROOT = Path.cwd().parent.resolve()\n",
    "\n",
    "os.chdir(PROJECT_ROOT)"
   ]
  },
  {
   "cell_type": "code",
   "execution_count": 2,
   "metadata": {},
   "outputs": [],
   "source": [
    "from matplotlib import pyplot as plt\n",
    "from matplotlib.transforms import ScaledTranslation\n",
    "import pandas as pd\n",
    "from utils import ModelForAnalysis\n",
    "\n",
    "plt.style.use(\"ggplot\")\n",
    "plt.style.use(\"my.mplstyle\")"
   ]
  },
  {
   "cell_type": "code",
   "execution_count": 3,
   "metadata": {},
   "outputs": [],
   "source": [
    "LARGELY_SAMPLED_EPITOPES = pd.read_csv(\"analysis_results/CDR3 Levenshtein/ovr_nn_200_shot.csv\").epitope.unique()"
   ]
  },
  {
   "cell_type": "code",
   "execution_count": null,
   "metadata": {},
   "outputs": [],
   "source": [
    "models = [\n",
    "    ModelForAnalysis(\"SCEPTR\", \"ovr_nn\", \"#7048e8\", \"d\", zorder=2),\n",
    "    ModelForAnalysis(\"TCR-BERT\", \"ovr_nn\", \"#74b816\", \"s\"),\n",
    "    ModelForAnalysis(\"ESM2 (T6 8M)\", \"ovr_nn\", \"#37b24d\", \"p\"),\n",
    "    ModelForAnalysis(\"ProtBert\", \"ovr_nn\", \"#0ca678\", \"x\"),\n",
    "]\n",
    "\n",
    "fig, axs = plt.subplots(nrows=1, ncols=2, sharey=True, figsize=(8/2.54,5.5/2.54))\n",
    "\n",
    "for model in models:\n",
    "    num_params = model.get_num_parameters()\n",
    "    dimensionality = model.get_model_dimensionality()\n",
    "\n",
    "    aurocs_per_epitope = model.load_data(200).groupby(\"epitope\").aggregate({\"auc\":\"mean\"})\n",
    "    avg_auroc = aurocs_per_epitope[aurocs_per_epitope.index.isin(LARGELY_SAMPLED_EPITOPES)].mean().item()\n",
    "\n",
    "    axs[0].scatter(num_params, avg_auroc, c=model.colour, marker=model.marker, label=model.name)\n",
    "    axs[1].scatter(dimensionality, avg_auroc, c=model.colour, marker=model.marker)\n",
    "\n",
    "axs[0].set_ylabel(\"200-shot Mean AUROC\")\n",
    "axs[0].set_ylim(0.5, 0.83)\n",
    "axs[0].set_xlim(10**4, 10**9)\n",
    "axs[1].set_xlim(10**1, 5*10**3)\n",
    "axs[0].set_xlabel(\"Parameter Count\")\n",
    "axs[1].set_xlabel(\"Representation\\nDimensionality\")\n",
    "axs[0].set_xscale(\"log\")\n",
    "axs[1].set_xscale(\"log\")\n",
    "\n",
    "for ax, label in zip(axs, (\"a\", \"b\")):\n",
    "    trans = ScaledTranslation(0, 20/100, fig.dpi_scale_trans)\n",
    "    ax.text(0.0, 1.0, label, transform=ax.transAxes + trans, fontsize='large', fontweight=\"bold\", va='top')\n",
    "\n",
    "fig.legend(loc=\"upper center\", bbox_to_anchor=(0,-0.5,1,0.5), ncols=2)\n",
    "\n",
    "fig.tight_layout()"
   ]
  },
  {
   "cell_type": "code",
   "execution_count": null,
   "metadata": {},
   "outputs": [],
   "source": []
  }
 ],
 "metadata": {
  "kernelspec": {
   "display_name": ".venv",
   "language": "python",
   "name": "python3"
  },
  "language_info": {
   "codemirror_mode": {
    "name": "ipython",
    "version": 3
   },
   "file_extension": ".py",
   "mimetype": "text/x-python",
   "name": "python",
   "nbconvert_exporter": "python",
   "pygments_lexer": "ipython3",
   "version": "3.11.10"
  }
 },
 "nbformat": 4,
 "nbformat_minor": 2
}
