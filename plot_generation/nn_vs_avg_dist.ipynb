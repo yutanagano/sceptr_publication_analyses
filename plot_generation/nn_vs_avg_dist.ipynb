{
 "cells": [
  {
   "cell_type": "code",
   "execution_count": 5,
   "metadata": {},
   "outputs": [],
   "source": [
    "import os\n",
    "from pathlib import Path\n",
    "\n",
    "if \"PROJECT_ROOT\" not in globals():\n",
    "    PROJECT_ROOT = Path.cwd().parent.resolve()\n",
    "\n",
    "os.chdir(PROJECT_ROOT)"
   ]
  },
  {
   "cell_type": "code",
   "execution_count": 6,
   "metadata": {},
   "outputs": [],
   "source": [
    "from matplotlib import pyplot as plt\n",
    "from matplotlib.transforms import ScaledTranslation\n",
    "import pandas as pd\n",
    "import utils\n",
    "from utils import ModelForAnalysis\n",
    "\n",
    "plt.style.use(\"ggplot\")\n",
    "plt.style.use(\"my.mplstyle\")"
   ]
  },
  {
   "cell_type": "code",
   "execution_count": 7,
   "metadata": {},
   "outputs": [],
   "source": [
    "NUM_SHOTS_OF_INTEREST = [1,2,5,10,20,50,100,200]\n",
    "LARGELY_SAMPLED_EPITOPES = pd.read_csv(\"analysis_results/CDR3 Levenshtein/ovr_nn_200_shot.csv\").epitope.unique()"
   ]
  },
  {
   "cell_type": "code",
   "execution_count": null,
   "metadata": {},
   "outputs": [],
   "source": [
    "fig, axs = plt.subplots(nrows=1, ncols=2, sharey=True, figsize=(17/2.54,8/2.54))\n",
    "\n",
    "utils.plot_performance_curves(\n",
    "    (\n",
    "        ModelForAnalysis(\"SCEPTR\", \"ovr_nn\", \"#7048e8\", \"d\", zorder=2),\n",
    "        ModelForAnalysis(\"TCRdist\", \"ovr_nn\", \"#f03e3e\", \"o\"),\n",
    "        ModelForAnalysis(\"CDR3 Levenshtein\", \"ovr_nn\", \"#f76707\", \"^\"),\n",
    "        ModelForAnalysis(\"TCR-BERT\", \"ovr_nn\", \"#74b816\", \"s\"),\n",
    "        ModelForAnalysis(\"ESM2 (T6 8M)\", \"ovr_nn\", \"#37b24d\", \"p\"),\n",
    "        ModelForAnalysis(\"ProtBert\", \"ovr_nn\", \"#0ca678\", \"x\"),\n",
    "    ),\n",
    "    NUM_SHOTS_OF_INTEREST,\n",
    "    LARGELY_SAMPLED_EPITOPES,\n",
    "    axs[0]\n",
    ")\n",
    "\n",
    "utils.plot_performance_curves(\n",
    "    (\n",
    "        ModelForAnalysis(\"SCEPTR\", \"ovr_avg_dist\", \"#7048e8\", \"d\", zorder=2),\n",
    "        ModelForAnalysis(\"TCRdist\", \"ovr_avg_dist\", \"#f03e3e\", \"o\"),\n",
    "        ModelForAnalysis(\"CDR3 Levenshtein\", \"ovr_avg_dist\", \"#f76707\", \"^\"),\n",
    "        ModelForAnalysis(\"TCR-BERT\", \"ovr_avg_dist\", \"#74b816\", \"s\"),\n",
    "        ModelForAnalysis(\"ESM2 (T6 8M)\", \"ovr_avg_dist\", \"#37b24d\", \"p\"),\n",
    "        ModelForAnalysis(\"ProtBert\", \"ovr_avg_dist\", \"#0ca678\", \"x\"),\n",
    "    ),\n",
    "    NUM_SHOTS_OF_INTEREST,\n",
    "    LARGELY_SAMPLED_EPITOPES,\n",
    "    axs[1]\n",
    ")\n",
    "\n",
    "handles, labels = axs[0].get_legend_handles_labels()\n",
    "new_handles = [\n",
    "    plt.Line2D(\n",
    "        [0], [0],\n",
    "        color=handle[0].get_color(),\n",
    "        lw=handle[0].get_linewidth(),\n",
    "        linestyle=handle[0].get_linestyle(),\n",
    "        marker=handle[0].get_marker(),\n",
    "        markersize=handle[0].get_markersize()\n",
    "    )\n",
    "    for handle in handles\n",
    "]\n",
    "axs[1].set_ylabel(\"\")\n",
    "\n",
    "axs[0].set_title(\"Nearest-neighbour implementations\")\n",
    "axs[1].set_title(\"Average-distance implementations\")\n",
    "\n",
    "for ax, label in zip(axs, (\"a\", \"b\")):\n",
    "    trans = ScaledTranslation(-10/100, 0.2, fig.dpi_scale_trans)\n",
    "    ax.text(0.0, 1.0, label, transform=ax.transAxes + trans, fontsize='large', fontweight=\"bold\", va='top')\n",
    "\n",
    "fig.legend(new_handles,labels,loc=\"upper center\", bbox_to_anchor=(0,-0.5,1,0.5), ncols=6)\n",
    "fig.tight_layout()\n",
    "fig.savefig(\"nn_vs_avg_dist.pdf\", bbox_inches=\"tight\")"
   ]
  },
  {
   "cell_type": "code",
   "execution_count": null,
   "metadata": {},
   "outputs": [],
   "source": []
  }
 ],
 "metadata": {
  "kernelspec": {
   "display_name": ".venv",
   "language": "python",
   "name": "python3"
  },
  "language_info": {
   "codemirror_mode": {
    "name": "ipython",
    "version": 3
   },
   "file_extension": ".py",
   "mimetype": "text/x-python",
   "name": "python",
   "nbconvert_exporter": "python",
   "pygments_lexer": "ipython3",
   "version": "3.11.10"
  }
 },
 "nbformat": 4,
 "nbformat_minor": 2
}
