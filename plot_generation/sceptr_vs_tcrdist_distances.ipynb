{
 "cells": [
  {
   "cell_type": "code",
   "execution_count": 1,
   "metadata": {},
   "outputs": [],
   "source": [
    "import os\n",
    "from pathlib import Path\n",
    "\n",
    "if \"PROJECT_ROOT\" not in globals():\n",
    "    PROJECT_ROOT = Path.cwd().parent.resolve()\n",
    "\n",
    "os.chdir(PROJECT_ROOT)"
   ]
  },
  {
   "cell_type": "code",
   "execution_count": null,
   "metadata": {},
   "outputs": [],
   "source": [
    "from matplotlib import pyplot as plt\n",
    "from matplotlib import colors as mcolors\n",
    "from matplotlib.transforms import ScaledTranslation\n",
    "from matplotlib.gridspec import GridSpec\n",
    "import numpy as np\n",
    "from numpy import ndarray\n",
    "import pandas as pd\n",
    "from pandas import DataFrame\n",
    "from paths import DATA_DIR\n",
    "from pyrepseq.metric import tcr_metric\n",
    "from sceptr import variant\n",
    "from scipy import stats\n",
    "import seaborn as sns\n",
    "\n",
    "plt.style.use(\"ggplot\")\n",
    "plt.style.use(\"my.mplstyle\")"
   ]
  },
  {
   "cell_type": "code",
   "execution_count": 3,
   "metadata": {},
   "outputs": [],
   "source": [
    "# Load Tanno test data and take small subsample\n",
    "tanno_test = pd.read_csv(DATA_DIR/\"preprocessed\"/\"tanno\"/\"test.csv\")\n",
    "tanno_sample = tanno_test.sample(n=1000, random_state=420)"
   ]
  },
  {
   "cell_type": "code",
   "execution_count": null,
   "metadata": {},
   "outputs": [],
   "source": [
    "tanno_sample.head()"
   ]
  },
  {
   "cell_type": "code",
   "execution_count": 5,
   "metadata": {},
   "outputs": [],
   "source": [
    "# Load in all necessary models\n",
    "sceptr_model = variant.default()\n",
    "tcrdist_model = tcr_metric.Tcrdist()\n",
    "tcrdist_a_model = tcr_metric.AlphaTcrdist()\n",
    "tcrdist_b_model = tcr_metric.BetaTcrdist()"
   ]
  },
  {
   "cell_type": "code",
   "execution_count": null,
   "metadata": {},
   "outputs": [],
   "source": [
    "# Compute pdists\n",
    "sceptr_pdist = sceptr_model.calc_pdist_vector(tanno_sample)\n",
    "tcrdist_pdist = tcrdist_model.calc_pdist_vector(tanno_sample)\n",
    "tcrdist_a_pdist = tcrdist_a_model.calc_pdist_vector(tanno_sample)\n",
    "tcrdist_b_pdist = tcrdist_b_model.calc_pdist_vector(tanno_sample)"
   ]
  },
  {
   "cell_type": "code",
   "execution_count": 7,
   "metadata": {},
   "outputs": [],
   "source": [
    "def random_subsample_indices(k: int, out_of: int, seed = None):\n",
    "    if seed is not None:\n",
    "        np.random.seed(seed)\n",
    "    return np.random.choice(out_of, k, replace=False)"
   ]
  },
  {
   "cell_type": "code",
   "execution_count": 8,
   "metadata": {},
   "outputs": [],
   "source": [
    "def plot_line_best_fit(x, y, ax = None, c = None):\n",
    "    if ax is None:\n",
    "        ax = plt.gca()\n",
    "\n",
    "    y = y.astype(float)\n",
    "    x = x.astype(float)\n",
    "\n",
    "    w = np.linalg.lstsq(np.vstack([x, np.ones(len(x))]).T, y, rcond=None)[0]\n",
    "\n",
    "    xx = np.linspace(x.min(), x.max()).T\n",
    "    yy = w[0]*xx + w[1]\n",
    "\n",
    "    ax.plot(xx, yy, c=c)"
   ]
  },
  {
   "cell_type": "markdown",
   "metadata": {},
   "source": [
    "## Main text figure\n",
    "- Overview scatter with correlation coefficient\n",
    "- Scatter coloured by pGen\n",
    "- pGen as a covariate of TCRdist"
   ]
  },
  {
   "cell_type": "code",
   "execution_count": 9,
   "metadata": {},
   "outputs": [],
   "source": [
    "# Calculate density estimates\n",
    "coords = np.vstack([sceptr_pdist, tcrdist_pdist])\n",
    "coords_1k = coords[:, random_subsample_indices(10_000, coords.shape[1])]\n",
    "gaussian_kde = stats.gaussian_kde(coords_1k)\n",
    "density_estimates = gaussian_kde(coords)"
   ]
  },
  {
   "cell_type": "code",
   "execution_count": 10,
   "metadata": {},
   "outputs": [],
   "source": [
    "# Calculate average p_Gen\n",
    "pgens = tanno_sample.apply(\n",
    "    lambda row: row[\"alpha_pgen\"] * row[\"beta_pgen\"],\n",
    "    axis=\"columns\"\n",
    ").to_numpy()\n",
    "\n",
    "num_tcrs = len(tanno_sample)\n",
    "avg_pgens = np.empty(num_tcrs * (num_tcrs - 1) // 2)\n",
    "min_pgens = np.empty(num_tcrs * (num_tcrs - 1) // 2)\n",
    "\n",
    "pair_idx = 0\n",
    "for anchor_idx in range(num_tcrs-1):\n",
    "    for comparison_idx in range(anchor_idx+1, num_tcrs):\n",
    "        avg_pgens[pair_idx] = (pgens[anchor_idx] + pgens[comparison_idx]) / 2\n",
    "        min_pgens[pair_idx] = min(pgens[anchor_idx], pgens[comparison_idx])\n",
    "        pair_idx += 1"
   ]
  },
  {
   "cell_type": "code",
   "execution_count": null,
   "metadata": {},
   "outputs": [],
   "source": [
    "fig = plt.figure(figsize=(8/2.54, 18/2.54))\n",
    "ax_overview = fig.add_subplot(3,9,(1,8))\n",
    "ax_pgen_scatter = fig.add_subplot(3,9,(10,17))\n",
    "ax_pgen_scatter_cbar = fig.add_subplot(3,9,18)\n",
    "ax_pgen_vs_tcrdist = fig.add_subplot(3,9,(19,26))\n",
    "\n",
    "ax_overview.scatter(*coords, s=1, c=density_estimates, rasterized=True)\n",
    "cor_results = stats.pearsonr(*coords)\n",
    "ax_overview.text(1.35, 75, f\"$r={cor_results.statistic:.3f}$\\n$p < 1e-126$\")\n",
    "ax_overview.set_ylabel(\"TCRdist distance\")\n",
    "ax_overview.set_xlabel(\"SCEPTR distance\")\n",
    "\n",
    "scatter_mappable = ax_pgen_scatter.scatter(*coords, s=1, c=min_pgens, norm=mcolors.LogNorm(), rasterized=True)\n",
    "cb = plt.colorbar(scatter_mappable, cax=ax_pgen_scatter_cbar)\n",
    "cb.set_label(r\"$p_{Gen}$\")\n",
    "ax_pgen_scatter.set_ylabel(\"TCRdist distance\")\n",
    "ax_pgen_scatter.set_xlabel(\"SCEPTR distance\")\n",
    "\n",
    "non_zero_pgen = min_pgens > 0\n",
    "close_sceptr_mask = (sceptr_pdist >= 0.98) * (sceptr_pdist <= 1.02) * non_zero_pgen\n",
    "ax_pgen_vs_tcrdist.scatter(np.log10(min_pgens[close_sceptr_mask]), tcrdist_pdist[close_sceptr_mask], s=10)\n",
    "plot_line_best_fit(np.log10(min_pgens[close_sceptr_mask]), tcrdist_pdist[close_sceptr_mask], c=\"k\", ax=ax_pgen_vs_tcrdist)\n",
    "cor_results = stats.pearsonr(np.log10(min_pgens[close_sceptr_mask]), tcrdist_pdist[close_sceptr_mask])\n",
    "ax_pgen_vs_tcrdist.text(-29,100,f\"$r = {cor_results.statistic:.3f}$\\n$p = {cor_results.pvalue:.2e}$\")\n",
    "ax_pgen_vs_tcrdist.set_xlabel(r\"$\\log_{10}(p_{Gen})$\")\n",
    "ax_pgen_vs_tcrdist.set_ylabel(\"TCRdist distance\")\n",
    "\n",
    "for ax, label in zip([ax_overview, ax_pgen_scatter, ax_pgen_vs_tcrdist], (\"a\", \"b\", \"c\")):\n",
    "    trans = ScaledTranslation(-40/100, 0, fig.dpi_scale_trans)\n",
    "    ax.text(0.0, 1.0, label, transform=ax.transAxes + trans, fontsize='large', fontweight=\"bold\", va='top')\n",
    "\n",
    "fig.tight_layout()\n",
    "\n",
    "plt.show()\n",
    "\n",
    "fig.savefig(\"sceptr_vs_tcrdist.pdf\", bbox_inches=\"tight\")"
   ]
  },
  {
   "cell_type": "code",
   "execution_count": null,
   "metadata": {},
   "outputs": [],
   "source": [
    "# SCEPTR distance bins\n",
    "bin_delimiters = np.linspace(1,1.6,13)\n",
    "non_zero_pgen = min_pgens > 0\n",
    "\n",
    "current_min = 0\n",
    "pearson_rs = np.empty(14)\n",
    "pearson_r_lower_bounds = np.empty(14)\n",
    "pearson_r_upper_bounds = np.empty(14)\n",
    "\n",
    "for i, delimiter in enumerate(bin_delimiters):\n",
    "    sceptr_dist_mask = (sceptr_pdist >= current_min) * (sceptr_pdist < delimiter)\n",
    "    results = stats.pearsonr(tcrdist_pdist[sceptr_dist_mask * non_zero_pgen], np.log10(min_pgens[sceptr_dist_mask * non_zero_pgen]))\n",
    "    bounds = results.confidence_interval()\n",
    "    pearson_rs[i] = results.statistic\n",
    "    pearson_r_lower_bounds[i] = bounds.low\n",
    "    pearson_r_upper_bounds[i] = bounds.high\n",
    "\n",
    "    current_min = delimiter\n",
    "\n",
    "sceptr_dist_mask = sceptr_pdist >= current_min\n",
    "results = stats.pearsonr(tcrdist_pdist[sceptr_dist_mask * non_zero_pgen], np.log10(min_pgens[sceptr_dist_mask * non_zero_pgen]))\n",
    "bounds = results.confidence_interval()\n",
    "pearson_rs[13] = results.statistic\n",
    "pearson_r_lower_bounds[13] = bounds.low\n",
    "pearson_r_upper_bounds[13] = bounds.high\n",
    "\n",
    "fig = plt.figure(figsize=(10/2.54,8/2.54))\n",
    "\n",
    "plt.plot(pearson_rs)\n",
    "plt.fill_between(np.arange(14), pearson_r_lower_bounds, pearson_r_upper_bounds, alpha=0.3)\n",
    "\n",
    "xticks = np.linspace(0,13)\n",
    "xtick_labels = []\n",
    "for i in range(len(bin_delimiters)-1):\n",
    "    xtick_labels.append(f\"$[{bin_delimiters[i]:.02f}, {bin_delimiters[i+1]:0.2f})$\")\n",
    "\n",
    "plt.xticks(np.arange(14), [\"$<1.00$\"] + xtick_labels + [\"$\\geq 1.60$\"], rotation=90)\n",
    "\n",
    "plt.ylabel(\"Pearson $r$\")\n",
    "plt.xlabel(\"SCEPTR distance\")\n",
    "\n",
    "plt.show()\n",
    "\n",
    "fig.savefig(\"pgen_vs_tcrdist.pdf\", bbox_inches=\"tight\")"
   ]
  },
  {
   "cell_type": "markdown",
   "metadata": {},
   "source": [
    "### Why do some pairs with similar TCRdist have different SCEPTR dists?"
   ]
  },
  {
   "cell_type": "code",
   "execution_count": null,
   "metadata": {},
   "outputs": [],
   "source": [
    "tcrdist_a_pdist_normed = tcrdist_a_pdist / np.mean(tcrdist_a_pdist)\n",
    "tcrdist_b_pdist_normed = tcrdist_b_pdist / np.mean(tcrdist_b_pdist)\n",
    "\n",
    "tcrdist_min_chain = np.min(np.stack([tcrdist_a_pdist, tcrdist_b_pdist], axis=1), axis=1)\n",
    "tcrdist_max_chain = np.max(np.stack([tcrdist_a_pdist, tcrdist_b_pdist], axis=1), axis=1)\n",
    "\n",
    "fig = plt.figure(figsize=(9/2.54,8/2.54))\n",
    "\n",
    "plt.scatter(sceptr_pdist, tcrdist_pdist, s=1, c=tcrdist_max_chain - tcrdist_min_chain, vmin=0, vmax=80, rasterized=True)\n",
    "\n",
    "plt.xlabel(\"SCEPTR distance\")\n",
    "plt.ylabel(\"TCRdist distance\")\n",
    "cb = plt.colorbar()\n",
    "cb.set_label(r\"$|$ $d_\\alpha$ - $d_\\beta$ $|$ (TCRdist)\")\n",
    "\n",
    "plt.show()\n",
    "\n",
    "fig.savefig(\"sceptr_vs_tcrdist_chain_delta.pdf\", bbox_inches=\"tight\")"
   ]
  },
  {
   "cell_type": "code",
   "execution_count": 14,
   "metadata": {},
   "outputs": [],
   "source": [
    "# Investigate power means\n",
    "alphas = np.linspace(-10,10,21)\n",
    "rhos = [\n",
    "    stats.pearsonr(\n",
    "        sceptr_pdist,\n",
    "        stats.pmean(\n",
    "            np.vstack([tcrdist_a_pdist_normed, tcrdist_b_pdist_normed]),\n",
    "            p=alpha,\n",
    "            axis=0\n",
    "        )\n",
    "    ).statistic\n",
    "    for alpha in alphas\n",
    "]\n",
    "\n",
    "min_rho = stats.pearsonr(\n",
    "    sceptr_pdist,\n",
    "    np.min(np.stack([tcrdist_a_pdist_normed, tcrdist_b_pdist_normed], axis=1), axis=1)\n",
    ").statistic\n",
    "\n",
    "max_rho = stats.pearsonr(\n",
    "    sceptr_pdist,\n",
    "    np.max(np.stack([tcrdist_a_pdist_normed, tcrdist_b_pdist_normed], axis=1), axis=1)\n",
    ").statistic"
   ]
  },
  {
   "cell_type": "code",
   "execution_count": null,
   "metadata": {},
   "outputs": [],
   "source": [
    "fig = plt.figure(figsize=(10/2.54,8/2.54))\n",
    "plt.plot(alphas, rhos)\n",
    "\n",
    "plt.scatter(15,max_rho, marker=\"^\", c=\"C0\", label=\"maximum ($p=\\infty$)\")\n",
    "plt.scatter(1,rhos[10+1], marker=\"o\", c=\"C0\", label=\"arithmetic ($p=1$)\")\n",
    "plt.scatter(0,rhos[10+0], marker=\"x\", c=\"C0\", label=\"geometric ($p=0$)\")\n",
    "plt.scatter(-1,rhos[10-1], marker=\"s\", c=\"C0\", label=\"harmonic ($p=-1$)\")\n",
    "plt.scatter(-15,min_rho, marker=\"v\", c=\"C0\", label=\"minimum ($p=-\\infty$)\")\n",
    "\n",
    "plt.xticks(np.linspace(-15,15,7), [\"$-\\infty$\", \"$-10$\", \"$-5$\", \"$0$\", \"$5$\", \"$10$\", \"$\\infty$\"])\n",
    "\n",
    "plt.xlabel('Power mean exponent $p$')\n",
    "plt.ylabel('Pearson r')\n",
    "\n",
    "plt.legend(loc=\"lower left\")\n",
    "\n",
    "plt.show()\n",
    "fig.savefig(\"sceptr_and_tcrdist_averaging.pdf\", bbox_inches=\"tight\")"
   ]
  },
  {
   "cell_type": "markdown",
   "metadata": {},
   "source": [
    "## Fine-tuning distances"
   ]
  },
  {
   "cell_type": "code",
   "execution_count": 16,
   "metadata": {},
   "outputs": [],
   "source": [
    "finetuned_model = variant.finetuned()"
   ]
  },
  {
   "cell_type": "code",
   "execution_count": 17,
   "metadata": {},
   "outputs": [],
   "source": [
    "# Load labelled data\n",
    "labelled_training = pd.read_csv(DATA_DIR/\"preprocessed\"/\"benchmarking\"/\"train.csv\")\n",
    "labelled_testing = pd.read_csv(DATA_DIR/\"preprocessed\"/\"benchmarking\"/\"test.csv\")\n",
    "labelled_testing = labelled_testing[labelled_testing[\"Epitope\"].isin(labelled_training[\"Epitope\"].unique())]"
   ]
  },
  {
   "cell_type": "code",
   "execution_count": 18,
   "metadata": {},
   "outputs": [],
   "source": [
    "# Compute co-specific and non-co-specific distances\n",
    "def get_cross_cospecificity_dists(anchors: DataFrame, comparisons: DataFrame, metric: tcr_metric.TcrMetric) -> tuple[ndarray, ndarray]:\n",
    "    cdist_matrix = metric.calc_cdist_matrix(anchors, comparisons)\n",
    "    cospecificity_mask = anchors[\"Epitope\"].to_numpy()[:,np.newaxis] == comparisons[\"Epitope\"].to_numpy()[np.newaxis,:]\n",
    "\n",
    "    cospecific_distances = cdist_matrix.flatten()[cospecificity_mask.flatten()]\n",
    "    cross_specific_distances = cdist_matrix.flatten()[np.logical_not(cospecificity_mask.flatten())]\n",
    "\n",
    "    return (cospecific_distances, cross_specific_distances)\n",
    "\n",
    "default_dists = get_cross_cospecificity_dists(labelled_training, labelled_testing, sceptr_model)\n",
    "finetuned_dists = get_cross_cospecificity_dists(labelled_training, labelled_testing, finetuned_model)"
   ]
  },
  {
   "cell_type": "code",
   "execution_count": 19,
   "metadata": {},
   "outputs": [],
   "source": [
    "data = DataFrame({\n",
    "    \"SCEPTR (default) distances\": np.concatenate([default_dists[0], default_dists[1]]),\n",
    "    \"SCEPTR (finetuned) distances\": np.concatenate([finetuned_dists[0], finetuned_dists[1]]),\n",
    "    \"Cospecific\": [True] * len(default_dists[0]) + [False] * len(default_dists[1])\n",
    "})\n",
    "data = data.sample(frac=1, random_state=420).reset_index(drop=True)"
   ]
  },
  {
   "cell_type": "code",
   "execution_count": null,
   "metadata": {},
   "outputs": [],
   "source": [
    "marginal_ratio = 4\n",
    "x_name = \"SCEPTR (default) distances\"\n",
    "y_name = \"SCEPTR (finetuned) distances\"\n",
    "cross_spec_colour = \"C0\"\n",
    "cospec_colour = \"C1\"\n",
    "\n",
    "fig = plt.figure(figsize=(8/2.54, 8/2.54))\n",
    "gs = GridSpec(marginal_ratio+1, marginal_ratio+1)\n",
    "\n",
    "ax_joint = fig.add_subplot(gs[1:, :-1])\n",
    "ax_joint.set_ylabel(y_name)\n",
    "ax_joint.set_xlabel(x_name)\n",
    "\n",
    "handles = [\n",
    "    plt.Line2D([0], [0], marker=\"o\", color=\"#ffffff00\", markerfacecolor=cospec_colour, markersize=3),\n",
    "    plt.Line2D([0], [0], marker=\"o\", color=\"#ffffff00\", markerfacecolor=cross_spec_colour, markersize=3),\n",
    "]\n",
    "labels = [\"True\", \"False\"]\n",
    "ax_joint.legend(handles, labels, loc=\"upper left\", title=\"Cospecific\")\n",
    "\n",
    "ax_marginal_x = fig.add_subplot(gs[0, :-1])\n",
    "ax_marginal_x.set_xticklabels([])\n",
    "ax_marginal_x.set_yticks([])\n",
    "\n",
    "ax_marginal_y = fig.add_subplot(gs[1:, -1])\n",
    "ax_marginal_y.set_yticklabels([])\n",
    "ax_marginal_y.set_xticks([])\n",
    "\n",
    "clist = data[\"Cospecific\"].map({\n",
    "    True: cospec_colour,\n",
    "    False: cross_spec_colour\n",
    "}).array\n",
    "\n",
    "ax_joint.scatter(x=data[x_name], y=data[y_name], s=5, c=clist, edgecolors=\"white\", rasterized=True)\n",
    "\n",
    "cross_specific_points = data[data[\"Cospecific\"] == False]\n",
    "cospecific_points = data[data[\"Cospecific\"] == True]\n",
    "\n",
    "x_linspace = np.linspace(data[x_name].min(), data[x_name].max(), 100)\n",
    "cospecific_x_kde = stats.gaussian_kde(cospecific_points[x_name])(x_linspace)\n",
    "cross_specific_x_kde = stats.gaussian_kde(cross_specific_points[x_name])(x_linspace)\n",
    "ax_marginal_x.fill_between(x_linspace, cross_specific_x_kde, color=cross_spec_colour, alpha=0.3)\n",
    "ax_marginal_x.fill_between(x_linspace, cospecific_x_kde, color=cospec_colour, alpha=0.3)\n",
    "ax_marginal_x.plot(x_linspace, cross_specific_x_kde, c=cross_spec_colour)\n",
    "ax_marginal_x.plot(x_linspace, cospecific_x_kde, c=cospec_colour)\n",
    "\n",
    "y_linspace = np.linspace(data[y_name].min(), data[y_name].max())\n",
    "cospecific_y_kde = stats.gaussian_kde(cospecific_points[y_name])(y_linspace)\n",
    "cross_specific_y_kde = stats.gaussian_kde(cross_specific_points[y_name])(y_linspace)\n",
    "ax_marginal_y.fill_betweenx(y_linspace, cross_specific_y_kde, color=cross_spec_colour, alpha=0.3)\n",
    "ax_marginal_y.fill_betweenx(y_linspace, cospecific_y_kde, color=cospec_colour, alpha=0.3)\n",
    "ax_marginal_y.plot(cross_specific_y_kde, y_linspace, c=cross_spec_colour)\n",
    "ax_marginal_y.plot(cospecific_y_kde, y_linspace, c=cospec_colour)\n",
    "\n",
    "fig.tight_layout()\n",
    "\n",
    "fig.savefig(\"pretrained_vs_finetuned_sceptr.pdf\", bbox_inches=\"tight\")\n",
    "\n",
    "plt.show()"
   ]
  },
  {
   "cell_type": "code",
   "execution_count": null,
   "metadata": {},
   "outputs": [],
   "source": []
  }
 ],
 "metadata": {
  "kernelspec": {
   "display_name": ".venv",
   "language": "python",
   "name": "python3"
  },
  "language_info": {
   "codemirror_mode": {
    "name": "ipython",
    "version": 3
   },
   "file_extension": ".py",
   "mimetype": "text/x-python",
   "name": "python",
   "nbconvert_exporter": "python",
   "pygments_lexer": "ipython3",
   "version": "3.11.10"
  }
 },
 "nbformat": 4,
 "nbformat_minor": 2
}
